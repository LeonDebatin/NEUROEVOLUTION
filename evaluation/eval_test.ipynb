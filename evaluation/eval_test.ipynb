{
 "cells": [
  {
   "cell_type": "code",
   "execution_count": 1,
   "metadata": {},
   "outputs": [],
   "source": [
    "import numpy as np\n",
    "import scipy.stats as stats\n",
    "\n",
    "def wilcoxon_test_pvalues(data1, data2):\n",
    "  \"\"\"\n",
    "  Performs Wilcoxon signed-rank test and returns the p-value.\n",
    "\n",
    "  Args:\n",
    "      data1 (list): List of data points for group 1.\n",
    "      data2 (list): List of data points for group 2.\n",
    "\n",
    "  Returns:\n",
    "      float: p-value from the Wilcoxon signed-rank test.\n",
    "  \"\"\"\n",
    "  _, p_value = stats.wilcoxon(data1, data2)\n",
    "  return p_value\n",
    "\n",
    "def create_kinf_matrix(data_list):\n",
    "  \"\"\"\n",
    "  Creates a kinship (kinf) of p-value matrix from a list of data lists.\n",
    "\n",
    "  Args:\n",
    "      data_list (list): List of lists, where each inner list represents data points for a group.\n",
    "\n",
    "  Returns:\n",
    "      numpy.ndarray: Kinf of p-value matrix.\n",
    "  \"\"\"\n",
    "  n = len(data_list)\n",
    "  p_value_matrix = np.zeros((n, n))\n",
    "  for i in range(n):\n",
    "    for j in range(i, n):  # Fill upper triangular matrix only (excluding diagonal)\n",
    "      p_value_matrix[i, j] = wilcoxon_test_pvalues(a, b)\n",
    "  # Fill lower triangular matrix by mirroring upper triangular values\n",
    "  p_value_matrix += p_value_matrix.T - np.diag(p_value_matrix.diagonal())\n",
    "  return p_value_matrix\n"
   ]
  },
  {
   "cell_type": "code",
   "execution_count": 2,
   "metadata": {},
   "outputs": [],
   "source": [
    "#usage: py evaluation_script.py file_path_X_test file_path_y_test\n",
    "#example: py evaluation_script.py \"../NEUROEVOLUTION/datamart/data_project_nel.csv\" \"datamart/y_lactose.csv\"\n",
    "\n",
    "import sys\n",
    "import os\n",
    "parent_dir = os.path.abspath(os.path.join(os.path.dirname('../NEUROEVOLUTION'), '..'))\n",
    "if parent_dir not in sys.path:\n",
    "    sys.path.insert(0, parent_dir)\n",
    "\n",
    "parent_dir = os.path.abspath(os.path.join(os.path.dirname('../NEUROEVOLUTION/genetic_programming'), '..'))\n",
    "if parent_dir not in sys.path:\n",
    "    sys.path.insert(0, parent_dir)\n",
    "\n",
    "\n",
    "parent_dir = os.path.abspath(os.path.join(os.path.dirname('../NEUROEVOLUTION/gpolnel'), '..'))\n",
    "if parent_dir not in sys.path:\n",
    "    sys.path.insert(0, parent_dir)\n",
    "\n",
    "import seaborn as sns\n",
    "import matplotlib.pyplot as plt\n",
    "import pandas as pd\n",
    "from scipy.stats import friedmanchisquare, levene, wilcoxon\n",
    "import pickle\n",
    "import re\n",
    "from sklearn.preprocessing import PowerTransformer\n",
    "from sklearn.metrics import mean_squared_error, mean_absolute_error, r2_score, root_mean_squared_error, mean_absolute_percentage_error\n",
    "import sys\n",
    "import csv\n",
    "import numpy as np\n",
    "import torch.nn as nn\n",
    "from NEUROEVOLUTION.utils import root_mean_squared_error, drop_features, kfold, load_best_params, complete_params, seed, device, mean_cross_validation, extract_number\n",
    "from NEUROEVOLUTION.gpolnel.utils.ffunctions import Ffunctions\n",
    "from NEUROEVOLUTION.genetic_programming.gp_utils import gp_cross_validation#NEUROEVOLUTION.\n",
    "from NEUROEVOLUTION.geometric_semantic_genetic_programming.gsgp_utils import gsgp_cross_validation\n",
    "from NEUROEVOLUTION.neuroevolution_gpol_based.ne_utils import ne_cross_validation\n",
    "from NEUROEVOLUTION.neuroevolution_augmentingtopologies.neat_utils import neat_cross_validation\n",
    "from NEUROEVOLUTION.neural_network_backpropagation.nn_utils import nn_cross_validation"
   ]
  },
  {
   "cell_type": "code",
   "execution_count": 3,
   "metadata": {},
   "outputs": [],
   "source": [
    "target = 'lactose'\n",
    "file_path_X = '../datamart/data_project_nel.csv'\n",
    "file_path_y = '../datamart/y_' + f'{target}'+ '.csv'\n",
    "X = pd.read_csv(file_path_X)\n",
    "X = drop_features(X)\n",
    "y = pd.read_csv(file_path_y)['lactose_percent']\n",
    "\n",
    "\n",
    "batch_size = X.shape[0]\n",
    "shuffle = True\n",
    "ffunction = Ffunctions('rmse')\n",
    "loss_fn = nn.MSELoss()"
   ]
  },
  {
   "cell_type": "code",
   "execution_count": 4,
   "metadata": {},
   "outputs": [],
   "source": [
    "gp_best_params = load_best_params('../genetic_programming/best_params/lactose-best_params_final.pkl')#('../NEUROEVOLUTION/genetic_programming/best_params/' + f'{target}' + '-best_params-1.pkl')\n",
    "gp_best_params = complete_params(gp_best_params)"
   ]
  },
  {
   "cell_type": "code",
   "execution_count": 5,
   "metadata": {},
   "outputs": [
    {
     "name": "stdout",
     "output_type": "stream",
     "text": [
      "cv_score: 0.06448133\n"
     ]
    }
   ],
   "source": [
    "gp_score = gp_cross_validation(X, y, batch_size, shuffle, kfold, gp_best_params['initializer'], gp_best_params['ps'], gp_best_params['n_iter'],  \n",
    "                               gp_best_params['sspace'],  gp_best_params['selection_method'], gp_best_params['mutation_prob'], \n",
    "                               gp_best_params['mutation_method'], gp_best_params['xo_prob'],gp_best_params['xo_method'], \n",
    "                               gp_best_params['has_elitism'], gp_best_params['allow_reproduction'], log_path_cv = 'logs/'+ f'{target}'+ '/gp_cv.csv',\n",
    "                               log_path_train = 'logs/'+ f'{target}'+ '/gp_train.csv', ffunction=ffunction, seed=seed,  device=device, id=1)"
   ]
  },
  {
   "cell_type": "code",
   "execution_count": 6,
   "metadata": {},
   "outputs": [],
   "source": [
    "gsgp_best_params = load_best_params('../geometric_semantic_genetic_programming/best_params/lactose-best_params_final.pkl')#('../NEUROEVOLUTION/genetic_programming/best_params/' + f'{target}' + '-best_params-1.pkl')\n",
    "gsgp_best_params = complete_params(gsgp_best_params)"
   ]
  },
  {
   "cell_type": "code",
   "execution_count": 7,
   "metadata": {},
   "outputs": [
    {
     "name": "stdout",
     "output_type": "stream",
     "text": [
      "cv_score: 0.0686336\n"
     ]
    }
   ],
   "source": [
    "gsgp_score = gsgp_cross_validation(X, y, batch_size, shuffle, kfold, gsgp_best_params['initializer'], gsgp_best_params['ps'], gsgp_best_params['n_iter'],  \n",
    "                               gsgp_best_params['sspace'],  gsgp_best_params['selection_method'], gsgp_best_params['mutation_prob'], \n",
    "                               gsgp_best_params['mutation_method'], gsgp_best_params['xo_prob'],gsgp_best_params['xo_method'], \n",
    "                               gsgp_best_params['has_elitism'], gsgp_best_params['allow_reproduction'], log_path_cv ='logs/'+ f'{target}'+ '/gsgp_cv.csv',\n",
    "                               log_path_train ='logs/'+ f'{target}'+ '/gsgp_train.csv', ffunction=ffunction, seed=seed,  device=device, id=1)"
   ]
  },
  {
   "cell_type": "code",
   "execution_count": 4,
   "metadata": {},
   "outputs": [],
   "source": [
    "ne_best_params = load_best_params('../neuroevolution_gpol_based/best_params/lactose-best_params_final.pkl')#('../NEUROEVOLUTION/genetic_programming/best_params/' + f'{target}' + '-best_params-1.pkl')\n",
    "ne_best_params = complete_params(ne_best_params)"
   ]
  },
  {
   "cell_type": "code",
   "execution_count": 5,
   "metadata": {},
   "outputs": [
    {
     "name": "stdout",
     "output_type": "stream",
     "text": [
      "cv_score: 0.5273124\n"
     ]
    }
   ],
   "source": [
    "ne_score = ne_cross_validation(X, y, batch_size, shuffle, kfold, ne_best_params['initializer'], ne_best_params['ps'], ne_best_params['n_iter'],  \n",
    "                               ne_best_params['sspace'],  ne_best_params['selection_method'], ne_best_params['mutation_prob'], \n",
    "                               ne_best_params['mutation_method'], ne_best_params['xo_prob'],ne_best_params['xo_method'], \n",
    "                               ne_best_params['has_elitism'], ne_best_params['allow_reproduction'], log_path_cv ='logs/'+ f'{target}'+ '/ne_cv.csv',\n",
    "                               log_path_train = 'logs/'+f'{target}'+ '/nee_train.csv', ffunction=ffunction, seed=seed,  device=device, id=1) #"
   ]
  },
  {
   "cell_type": "code",
   "execution_count": 12,
   "metadata": {},
   "outputs": [],
   "source": [
    "neat_best_params = load_best_params('../neuroevolution_augmentingtopologies/best_params/lactose-best_params_final.pkl')#('../neatUROEVOLUTION/geneattic_programming/best_params/' + f'{target}' + '-best_params-1.pkl')"
   ]
  },
  {
   "cell_type": "code",
   "execution_count": 13,
   "metadata": {},
   "outputs": [
    {
     "name": "stdout",
     "output_type": "stream",
     "text": [
      "0.06536940897323176\n"
     ]
    }
   ],
   "source": [
    "neat_score = neat_cross_validation( X, y, config_path = '../neuroevolution_augmentingtopologies/' + neat_best_params['config_file'] , kf=kfold, n_iter=neat_best_params['n_iter'],  train_log_path= 'logs/'+f'{target}'+ '/neat_train.csv', cv_log_path= 'logs/'+f'{target}'+ '/neat_cv.csv', id=1)"
   ]
  },
  {
   "cell_type": "code",
   "execution_count": null,
   "metadata": {},
   "outputs": [],
   "source": [
    "nn_best_params = load_best_params('../neural_network_backpropagation/best_params/lactose-best_params_final.pkl')#('../nnUROEVOLUTION/genntic_programming/best_params/' + f'{target}' + '-best_params-1.pkl')"
   ]
  },
  {
   "cell_type": "code",
   "execution_count": null,
   "metadata": {},
   "outputs": [
    {
     "data": {
      "text/plain": [
       "Sequential(\n",
       "  (0): Linear(in_features=12, out_features=8, bias=True)\n",
       "  (output): Linear(in_features=8, out_features=1, bias=True)\n",
       ")"
      ]
     },
     "execution_count": 12,
     "metadata": {},
     "output_type": "execute_result"
    }
   ],
   "source": [
    "nn_best_params['model']"
   ]
  },
  {
   "cell_type": "code",
   "execution_count": null,
   "metadata": {},
   "outputs": [
    {
     "data": {
      "text/plain": [
       "0.058353383"
      ]
     },
     "execution_count": 13,
     "metadata": {},
     "output_type": "execute_result"
    }
   ],
   "source": [
    "model = nn.Sequential(nn.Linear( 12, 8))\n",
    "model.add_module('out', nn.Linear(8, 1))\n",
    "nn_score = nn_cross_validation(X, y, model=model, cv_log_path ='logs/'+ f'{target}'+ '/nn_cv.csv', train_log_path='logs/'+ f'{target}'+ '/nn_train.csv', loss_fn=loss_fn, optimizer_name = nn_best_params['optimizer_name'], lr = nn_best_params['lr'], weight_decay=nn_best_params['weight_decay'], n_epochs = nn_best_params['n_epochs'], batch_size= nn_best_params['batch_size'],  kf=kfold, id=1 )"
   ]
  },
  {
   "cell_type": "code",
   "execution_count": null,
   "metadata": {},
   "outputs": [
    {
     "name": "stdout",
     "output_type": "stream",
     "text": [
      "cv_score: 0.06466750592096202\n"
     ]
    }
   ],
   "source": [
    "mean_score = mean_cross_validation(X,y,log_path_cv ='logs/'+ f'{target}'+ '/mean_cv.csv', id=1)"
   ]
  },
  {
   "cell_type": "code",
   "execution_count": 9,
   "metadata": {},
   "outputs": [],
   "source": [
    "gp_log_cv = pd.read_csv('logs/'+ f'{target}'+ '/gp_cv.csv', sep=';')['val_score'].apply(extract_number)\n",
    "gsgp_log_cv = pd.read_csv('logs/'+ f'{target}'+ '/gsgp_cv.csv', sep=';')['val_score'].apply(extract_number)\n",
    "ne_log_cv = pd.read_csv('logs/'+ f'{target}'+ '/ne_cv.csv', sep=';')['val_score'].apply(extract_number)\n",
    "\n",
    "neat_log_cv = pd.read_csv('logs/'+ f'{target}'+ '/neat_cv.csv', sep=';')['val_score']\n",
    "nn_log_cv = pd.read_csv('logs/'+ f'{target}'+ '/nn_cv.csv', sep=';')['val_score'].apply(extract_number)\n",
    "mean_log_cv = pd.read_csv('logs/'+ f'{target}'+ '/mean_cv.csv', sep=';')['val_score']"
   ]
  },
  {
   "cell_type": "code",
   "execution_count": 10,
   "metadata": {},
   "outputs": [],
   "source": [
    "data = {\n",
    "    'gp': gp_log_cv,\n",
    "    'gsgp': gsgp_log_cv,\n",
    "    'ne_gpol': ne_log_cv,\n",
    "    'neat': neat_log_cv,\n",
    "    'nn_backprop': nn_log_cv,\n",
    "    'mean': mean_log_cv\n",
    "}"
   ]
  },
  {
   "cell_type": "code",
   "execution_count": 11,
   "metadata": {},
   "outputs": [
    {
     "ename": "ValueError",
     "evalue": "The samples x and y must have the same length.",
     "output_type": "error",
     "traceback": [
      "\u001b[1;31m---------------------------------------------------------------------------\u001b[0m",
      "\u001b[1;31mValueError\u001b[0m                                Traceback (most recent call last)",
      "Cell \u001b[1;32mIn[11], line 11\u001b[0m\n\u001b[0;32m      9\u001b[0m \u001b[38;5;28;01mfor\u001b[39;00m key2 \u001b[38;5;129;01min\u001b[39;00m data\u001b[38;5;241m.\u001b[39mkeys():\n\u001b[0;32m     10\u001b[0m     \u001b[38;5;28;01mif\u001b[39;00m key1 \u001b[38;5;241m!=\u001b[39m key2:\n\u001b[1;32m---> 11\u001b[0m         p_values\u001b[38;5;241m.\u001b[39mloc[key1, key2] \u001b[38;5;241m=\u001b[39m \u001b[43mwilcoxon_test\u001b[49m\u001b[43m(\u001b[49m\u001b[43mdata\u001b[49m\u001b[43m[\u001b[49m\u001b[43mkey1\u001b[49m\u001b[43m]\u001b[49m\u001b[43m,\u001b[49m\u001b[43m \u001b[49m\u001b[43mdata\u001b[49m\u001b[43m[\u001b[49m\u001b[43mkey2\u001b[49m\u001b[43m]\u001b[49m\u001b[43m)\u001b[49m\n",
      "Cell \u001b[1;32mIn[11], line 2\u001b[0m, in \u001b[0;36mwilcoxon_test\u001b[1;34m(series1, series2)\u001b[0m\n\u001b[0;32m      1\u001b[0m \u001b[38;5;28;01mdef\u001b[39;00m \u001b[38;5;21mwilcoxon_test\u001b[39m(series1, series2):\n\u001b[1;32m----> 2\u001b[0m     \u001b[38;5;28;01mreturn\u001b[39;00m \u001b[43mwilcoxon\u001b[49m\u001b[43m(\u001b[49m\u001b[43mseries1\u001b[49m\u001b[43m,\u001b[49m\u001b[43m \u001b[49m\u001b[43mseries2\u001b[49m\u001b[43m,\u001b[49m\u001b[43m \u001b[49m\u001b[43malternative\u001b[49m\u001b[38;5;241;43m=\u001b[39;49m\u001b[38;5;124;43m'\u001b[39;49m\u001b[38;5;124;43mgreater\u001b[39;49m\u001b[38;5;124;43m'\u001b[39;49m\u001b[43m)\u001b[49m[\u001b[38;5;241m1\u001b[39m]\n",
      "File \u001b[1;32mc:\\Users\\leond\\AppData\\Local\\Programs\\Python\\Python311\\Lib\\site-packages\\scipy\\_lib\\_util.py:713\u001b[0m, in \u001b[0;36m_rename_parameter.<locals>.decorator.<locals>.wrapper\u001b[1;34m(*args, **kwargs)\u001b[0m\n\u001b[0;32m    711\u001b[0m         \u001b[38;5;28;01mraise\u001b[39;00m \u001b[38;5;167;01mTypeError\u001b[39;00m(message)\n\u001b[0;32m    712\u001b[0m     kwargs[new_name] \u001b[38;5;241m=\u001b[39m kwargs\u001b[38;5;241m.\u001b[39mpop(old_name)\n\u001b[1;32m--> 713\u001b[0m \u001b[38;5;28;01mreturn\u001b[39;00m \u001b[43mfun\u001b[49m\u001b[43m(\u001b[49m\u001b[38;5;241;43m*\u001b[39;49m\u001b[43margs\u001b[49m\u001b[43m,\u001b[49m\u001b[43m \u001b[49m\u001b[38;5;241;43m*\u001b[39;49m\u001b[38;5;241;43m*\u001b[39;49m\u001b[43mkwargs\u001b[49m\u001b[43m)\u001b[49m\n",
      "File \u001b[1;32mc:\\Users\\leond\\AppData\\Local\\Programs\\Python\\Python311\\Lib\\site-packages\\scipy\\stats\\_axis_nan_policy.py:523\u001b[0m, in \u001b[0;36m_axis_nan_policy_factory.<locals>.axis_nan_policy_decorator.<locals>.axis_nan_policy_wrapper\u001b[1;34m(***failed resolving arguments***)\u001b[0m\n\u001b[0;32m    521\u001b[0m \u001b[38;5;28;01mif\u001b[39;00m sentinel:\n\u001b[0;32m    522\u001b[0m     samples \u001b[38;5;241m=\u001b[39m _remove_sentinel(samples, paired, sentinel)\n\u001b[1;32m--> 523\u001b[0m res \u001b[38;5;241m=\u001b[39m \u001b[43mhypotest_fun_out\u001b[49m\u001b[43m(\u001b[49m\u001b[38;5;241;43m*\u001b[39;49m\u001b[43msamples\u001b[49m\u001b[43m,\u001b[49m\u001b[43m \u001b[49m\u001b[38;5;241;43m*\u001b[39;49m\u001b[38;5;241;43m*\u001b[39;49m\u001b[43mkwds\u001b[49m\u001b[43m)\u001b[49m\n\u001b[0;32m    524\u001b[0m res \u001b[38;5;241m=\u001b[39m result_to_tuple(res)\n\u001b[0;32m    525\u001b[0m res \u001b[38;5;241m=\u001b[39m _add_reduced_axes(res, reduced_axes, keepdims)\n",
      "File \u001b[1;32mc:\\Users\\leond\\AppData\\Local\\Programs\\Python\\Python311\\Lib\\site-packages\\scipy\\stats\\_morestats.py:4067\u001b[0m, in \u001b[0;36mwilcoxon\u001b[1;34m(x, y, zero_method, correction, alternative, method)\u001b[0m\n\u001b[0;32m   4065\u001b[0m     \u001b[38;5;28;01mraise\u001b[39;00m \u001b[38;5;167;01mValueError\u001b[39;00m(\u001b[38;5;124m'\u001b[39m\u001b[38;5;124mSamples x and y must be one-dimensional.\u001b[39m\u001b[38;5;124m'\u001b[39m)\n\u001b[0;32m   4066\u001b[0m \u001b[38;5;28;01mif\u001b[39;00m \u001b[38;5;28mlen\u001b[39m(x) \u001b[38;5;241m!=\u001b[39m \u001b[38;5;28mlen\u001b[39m(y):\n\u001b[1;32m-> 4067\u001b[0m     \u001b[38;5;28;01mraise\u001b[39;00m \u001b[38;5;167;01mValueError\u001b[39;00m(\u001b[38;5;124m'\u001b[39m\u001b[38;5;124mThe samples x and y must have the same length.\u001b[39m\u001b[38;5;124m'\u001b[39m)\n\u001b[0;32m   4068\u001b[0m \u001b[38;5;66;03m# Future enhancement: consider warning when elements of `d` appear to\u001b[39;00m\n\u001b[0;32m   4069\u001b[0m \u001b[38;5;66;03m# be tied but are numerically distinct.\u001b[39;00m\n\u001b[0;32m   4070\u001b[0m d \u001b[38;5;241m=\u001b[39m x \u001b[38;5;241m-\u001b[39m y\n",
      "\u001b[1;31mValueError\u001b[0m: The samples x and y must have the same length."
     ]
    }
   ],
   "source": [
    "def wilcoxon_test(series1, series2):\n",
    "    return wilcoxon(series1, series2, alternative='greater')[1]\n",
    "\n",
    "# Create a DataFrame to store the p-values\n",
    "p_values = pd.DataFrame(np.zeros((len(data), len(data))), index=data.keys(), columns=data.keys())\n",
    "\n",
    "# Perform pairwise Wilcoxon tests\n",
    "for key1 in data.keys():\n",
    "    for key2 in data.keys():\n",
    "        if key1 != key2:\n",
    "            p_values.loc[key1, key2] = wilcoxon_test(data[key1], data[key2])\n"
   ]
  },
  {
   "cell_type": "code",
   "execution_count": null,
   "metadata": {},
   "outputs": [
    {
     "data": {
      "image/png": "[encoded data removed]",
      "text/plain": [
       "<Figure size 600x600 with 1 Axes>"
      ]
     },
     "metadata": {},
     "output_type": "display_data"
    }
   ],
   "source": [
    "from matplotlib.colors import ListedColormap\n",
    "# def cor_heatmap(cor):\n",
    "#     plt.figure(figsize=(10, 8))\n",
    "#     sns.heatmap(data=cor, annot=True, cmap=plt.cm.Reds, fmt='.4f', robust=True)\n",
    "#     plt.show()\n",
    "\n",
    "# # Plot the heatmap\n",
    "# cor_heatmap(p_values)\n",
    "colors = sns.color_palette('crest', 1) + ['crimson']\n",
    "#cmap = ListedColormap(colors)\n",
    "\n",
    "# Create a mask for the heatmap (only diagonal)\n",
    "mask = np.eye(p_values.shape[0], dtype=bool)\n",
    "\n",
    "# Plot the heatmap of p-values\n",
    "def p_heatmap(p):\n",
    "    plt.figure(figsize=(6,6))\n",
    "    sns.heatmap(data=p, annot=True, cmap=sns.color_palette(colors, as_cmap=True), fmt='.4f', robust=True, cbar=False, mask=mask, vmin=0, vmax=1)\n",
    "    plt.show()\n",
    "\n",
    "# Plot the heatmap\n",
    "p_heatmap(p_values)"
   ]
  },
  {
   "cell_type": "code",
   "execution_count": null,
   "metadata": {},
   "outputs": [
    {
     "ename": "NameError",
     "evalue": "name 'data' is not defined",
     "output_type": "error",
     "traceback": [
      "\u001b[1;31m---------------------------------------------------------------------------\u001b[0m",
      "\u001b[1;31mNameError\u001b[0m                                 Traceback (most recent call last)",
      "Cell \u001b[1;32mIn[14], line 1\u001b[0m\n\u001b[1;32m----> 1\u001b[0m df \u001b[38;5;241m=\u001b[39m pd\u001b[38;5;241m.\u001b[39mDataFrame(\u001b[38;5;28mdict\u001b[39m([(k, pd\u001b[38;5;241m.\u001b[39mSeries(v)) \u001b[38;5;28;01mfor\u001b[39;00m k, v \u001b[38;5;129;01min\u001b[39;00m \u001b[43mdata\u001b[49m\u001b[38;5;241m.\u001b[39mitems()]))\n\u001b[0;32m      3\u001b[0m \u001b[38;5;66;03m# Convert the DataFrame to a long format\u001b[39;00m\n\u001b[0;32m      4\u001b[0m df_long \u001b[38;5;241m=\u001b[39m df\u001b[38;5;241m.\u001b[39mmelt(var_name\u001b[38;5;241m=\u001b[39m\u001b[38;5;124m'\u001b[39m\u001b[38;5;124mMethod\u001b[39m\u001b[38;5;124m'\u001b[39m, value_name\u001b[38;5;241m=\u001b[39m\u001b[38;5;124m'\u001b[39m\u001b[38;5;124mScore\u001b[39m\u001b[38;5;124m'\u001b[39m)\n",
      "\u001b[1;31mNameError\u001b[0m: name 'data' is not defined"
     ]
    }
   ],
   "source": [
    "df = pd.DataFrame(dict([(k, pd.Series(v)) for k, v in data.items()]))\n",
    "\n",
    "# Convert the DataFrame to a long format\n",
    "df_long = df.melt(var_name='Method', value_name='Score')\n",
    "\n",
    "# Plot the boxplot\n",
    "plt.figure(figsize=(12, 6))\n",
    "sns.boxplot(x='Method', y='Score', data=df_long)\n",
    "plt.title('Comparison of Validation Scores')\n",
    "plt.ylabel('Validation Score')\n",
    "plt.xlabel('Method')\n",
    "plt.xticks(rotation=45)\n",
    "plt.ylim(0, 0.1)\n",
    "plt.yticks(np.arange(0, 0.22, 0.05))\n",
    "plt.show()"
   ]
  },
  {
   "cell_type": "code",
   "execution_count": null,
   "metadata": {},
   "outputs": [
    {
     "data": {
      "text/plain": [
       "LeveneResult(statistic=2.0423325424713763, pvalue=0.08719514791265769)"
      ]
     },
     "execution_count": 36,
     "metadata": {},
     "output_type": "execute_result"
    }
   ],
   "source": [
    "friedmanchisquare(gp_log_cv, gsgp_log_cv, ne_log_cv, neat_log_cv, nn_log_cv, mean_log_cv)\n",
    "levene(gp_log_cv, gsgp_log_cv, ne_log_cv, neat_log_cv, nn_log_cv, mean_log_cv)\n"
   ]
  },
  {
   "cell_type": "code",
   "execution_count": 8,
   "metadata": {},
   "outputs": [
    {
     "data": {
      "text/plain": [
       "0       0.5474\n",
       "1       0.5309\n",
       "2       0.5309\n",
       "3       0.3554\n",
       "4       0.3554\n",
       "         ...  \n",
       "2543    0.6898\n",
       "2544    0.6898\n",
       "2545    0.6898\n",
       "2546    0.6898\n",
       "2547    0.6898\n",
       "Name: train_score, Length: 2548, dtype: float64"
      ]
     },
     "execution_count": 8,
     "metadata": {},
     "output_type": "execute_result"
    }
   ],
   "source": [
    "gp_log_train = pd.read_csv('logs/'+ f'{target}'+ '/gp_train.csv', sep=',',header=None)\n",
    "gp_log_train[['train_score', 'val_score']] = gp_log_train[[7,8]]\n",
    "\n"
   ]
  },
  {
   "cell_type": "code",
   "execution_count": null,
   "metadata": {},
   "outputs": [],
   "source": [
    "gp_best_params['n_iter']"
   ]
  },
  {
   "cell_type": "code",
   "execution_count": null,
   "metadata": {},
   "outputs": [
    {
     "data": {
      "text/plain": [
       "10"
      ]
     },
     "execution_count": 5,
     "metadata": {},
     "output_type": "execute_result"
    }
   ],
   "source": [
    "gp_best_params['n_iter']"
   ]
  },
  {
   "cell_type": "code",
   "execution_count": null,
   "metadata": {},
   "outputs": [
    {
     "data": {
      "text/plain": [
       "50"
      ]
     },
     "execution_count": 6,
     "metadata": {},
     "output_type": "execute_result"
    }
   ],
   "source": [
    "gp_best_params['ps']"
   ]
  }
 ],
 "metadata": {
  "kernelspec": {
   "display_name": "Python 3",
   "language": "python",
   "name": "python3"
  },
  "language_info": {
   "codemirror_mode": {
    "name": "ipython",
    "version": 3
   },
   "file_extension": ".py",
   "mimetype": "text/x-python",
   "name": "python",
   "nbconvert_exporter": "python",
   "pygments_lexer": "ipython3",
   "version": "3.11.4"
  }
 },
 "nbformat": 4,
 "nbformat_minor": 2
}
