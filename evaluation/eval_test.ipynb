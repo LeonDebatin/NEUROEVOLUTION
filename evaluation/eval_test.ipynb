{
 "cells": [
  {
   "cell_type": "code",
   "execution_count": 1,
   "metadata": {},
   "outputs": [],
   "source": [
    "import numpy as np\n",
    "import scipy.stats as stats\n",
    "\n",
    "def wilcoxon_test_pvalues(data1, data2):\n",
    "  \"\"\"\n",
    "  Performs Wilcoxon signed-rank test and returns the p-value.\n",
    "\n",
    "  Args:\n",
    "      data1 (list): List of data points for group 1.\n",
    "      data2 (list): List of data points for group 2.\n",
    "\n",
    "  Returns:\n",
    "      float: p-value from the Wilcoxon signed-rank test.\n",
    "  \"\"\"\n",
    "  _, p_value = stats.wilcoxon(data1, data2)\n",
    "  return p_value\n",
    "\n",
    "def create_kinf_matrix(data_list):\n",
    "  \"\"\"\n",
    "  Creates a kinship (kinf) of p-value matrix from a list of data lists.\n",
    "\n",
    "  Args:\n",
    "      data_list (list): List of lists, where each inner list represents data points for a group.\n",
    "\n",
    "  Returns:\n",
    "      numpy.ndarray: Kinf of p-value matrix.\n",
    "  \"\"\"\n",
    "  n = len(data_list)\n",
    "  p_value_matrix = np.zeros((n, n))\n",
    "  for i in range(n):\n",
    "    for j in range(i, n):  # Fill upper triangular matrix only (excluding diagonal)\n",
    "      p_value_matrix[i, j] = wilcoxon_test_pvalues(a, b)\n",
    "  # Fill lower triangular matrix by mirroring upper triangular values\n",
    "  p_value_matrix += p_value_matrix.T - np.diag(p_value_matrix.diagonal())\n",
    "  return p_value_matrix\n"
   ]
  },
  {
   "cell_type": "code",
   "execution_count": 1,
   "metadata": {},
   "outputs": [],
   "source": [
    "#usage: py evaluation_script.py file_path_X_test file_path_y_test\n",
    "#example: py evaluation_script.py \"../NEUROEVOLUTION/datamart/data_project_nel.csv\" \"datamart/y_lactose.csv\"\n",
    "\n",
    "import sys\n",
    "import os\n",
    "parent_dir = os.path.abspath(os.path.join(os.path.dirname('../NEUROEVOLUTION'), '..'))\n",
    "if parent_dir not in sys.path:\n",
    "    sys.path.insert(0, parent_dir)\n",
    "\n",
    "parent_dir = os.path.abspath(os.path.join(os.path.dirname('../NEUROEVOLUTION/genetic_programming'), '..'))\n",
    "if parent_dir not in sys.path:\n",
    "    sys.path.insert(0, parent_dir)\n",
    "\n",
    "\n",
    "parent_dir = os.path.abspath(os.path.join(os.path.dirname('../NEUROEVOLUTION/gpolnel'), '..'))\n",
    "if parent_dir not in sys.path:\n",
    "    sys.path.insert(0, parent_dir)\n",
    "\n",
    "import seaborn as sns\n",
    "import matplotlib.pyplot as plt\n",
    "import pandas as pd\n",
    "from scipy.stats import friedmanchisquare, levene, wilcoxon\n",
    "import pickle\n",
    "import re\n",
    "from sklearn.preprocessing import PowerTransformer\n",
    "from sklearn.metrics import mean_squared_error, mean_absolute_error, r2_score, root_mean_squared_error, mean_absolute_percentage_error\n",
    "import sys\n",
    "import csv\n",
    "import numpy as np\n",
    "import torch.nn as nn\n",
    "from NEUROEVOLUTION.utils import root_mean_squared_error, drop_features, kfold, load_best_params, complete_params, seed, device, mean_cross_validation, extract_number\n",
    "from NEUROEVOLUTION.gpolnel.utils.ffunctions import Ffunctions\n",
    "from NEUROEVOLUTION.genetic_programming.gp_utils import gp_cross_validation#NEUROEVOLUTION.\n",
    "from NEUROEVOLUTION.geometric_semantic_genetic_programming.gsgp_utils import gsgp_cross_validation\n",
    "from NEUROEVOLUTION.neuroevolution_gpol_based.ne_utils import ne_cross_validation\n",
    "from NEUROEVOLUTION.neuroevolution_augmentingtopologies.neat_utils import neat_cross_validation\n",
    "from NEUROEVOLUTION.neural_network_backpropagation.nn_utils import nn_cross_validation"
   ]
  },
  {
   "cell_type": "code",
   "execution_count": 2,
   "metadata": {},
   "outputs": [],
   "source": [
    "target = 'lactose'\n",
    "file_path_X = '../datamart/data_project_nel.csv'\n",
    "file_path_y = '../datamart/y_' + f'{target}'+ '.csv'\n",
    "X = pd.read_csv(file_path_X)\n",
    "X = drop_features(X)\n",
    "y = pd.read_csv(file_path_y)['lactose_percent']\n",
    "\n",
    "\n",
    "batch_size = X.shape[0]\n",
    "shuffle = True\n",
    "ffunction = Ffunctions('rmse')\n",
    "loss_fn = nn.MSELoss()"
   ]
  },
  {
   "cell_type": "code",
   "execution_count": 3,
   "metadata": {},
   "outputs": [],
   "source": [
    "gp_best_params = load_best_params('../genetic_programming/best_params/lactose-best_params_final.pkl')#('../NEUROEVOLUTION/genetic_programming/best_params/' + f'{target}' + '-best_params-1.pkl')\n",
    "gp_best_params = complete_params(gp_best_params)"
   ]
  },
  {
   "cell_type": "code",
   "execution_count": null,
   "metadata": {},
   "outputs": [
    {
     "name": "stdout",
     "output_type": "stream",
     "text": [
      "cv_score: 0.24811251\n"
     ]
    }
   ],
   "source": [
    "gp_score = gp_cross_validation(X, y, batch_size, shuffle, kfold, gp_best_params['initializer'], gp_best_params['ps'], gp_best_params['n_iter'],  \n",
    "                               gp_best_params['sspace'],  gp_best_params['selection_method'], gp_best_params['mutation_prob'], \n",
    "                               gp_best_params['mutation_method'], gp_best_params['xo_prob'],gp_best_params['xo_method'], \n",
    "                               gp_best_params['has_elitism'], gp_best_params['allow_reproduction'], log_path_cv = 'logs/'+ f'{target}'+ '/gp_cv.csv',\n",
    "                               log_path_train = 'logs/'+ f'{target}'+ '/gp_train.csv', ffunction=ffunction, seed=seed,  device=device, id=1)"
   ]
  },
  {
   "cell_type": "code",
   "execution_count": null,
   "metadata": {},
   "outputs": [],
   "source": [
    "gsgp_best_params = load_best_params('../geometric_semantic_genetic_programming/best_params/lactose-best_params_final.pkl')#('../NEUROEVOLUTION/genetic_programming/best_params/' + f'{target}' + '-best_params-1.pkl')\n",
    "gsgp_best_params = complete_params(gsgp_best_params)"
   ]
  },
  {
   "cell_type": "code",
   "execution_count": null,
   "metadata": {},
   "outputs": [
    {
     "name": "stdout",
     "output_type": "stream",
     "text": [
      "cv_score: 0.12834309\n"
     ]
    }
   ],
   "source": [
    "gsgp_score = gsgp_cross_validation(X, y, batch_size, shuffle, kfold, gsgp_best_params['initializer'], gsgp_best_params['ps'], gsgp_best_params['n_iter'],  \n",
    "                               gsgp_best_params['sspace'],  gsgp_best_params['selection_method'], gsgp_best_params['mutation_prob'], \n",
    "                               gsgp_best_params['mutation_method'], gsgp_best_params['xo_prob'],gsgp_best_params['xo_method'], \n",
    "                               gsgp_best_params['has_elitism'], gsgp_best_params['allow_reproduction'], log_path_cv ='logs/'+ f'{target}'+ '/gsgp_cv.csv',\n",
    "                               log_path_train ='logs/'+ f'{target}'+ '/gsgp_train.csv', ffunction=ffunction, seed=seed,  device=device, id=1)"
   ]
  },
  {
   "cell_type": "code",
   "execution_count": null,
   "metadata": {},
   "outputs": [],
   "source": [
    "ne_best_params = load_best_params('../neuroevolution_gpol_based/best_params/lactose-best_params_final.pkl')#('../NEUROEVOLUTION/genetic_programming/best_params/' + f'{target}' + '-best_params-1.pkl')\n",
    "ne_best_params = complete_params(ne_best_params)"
   ]
  },
  {
   "cell_type": "code",
   "execution_count": null,
   "metadata": {},
   "outputs": [
    {
     "name": "stdout",
     "output_type": "stream",
     "text": [
      "cv_score: 2.4461246\n"
     ]
    }
   ],
   "source": [
    "ne_score = ne_cross_validation(X, y, batch_size, shuffle, kfold, ne_best_params['initializer'], ne_best_params['ps'], ne_best_params['n_iter'],  \n",
    "                               ne_best_params['sspace'],  ne_best_params['selection_method'], ne_best_params['mutation_prob'], \n",
    "                               ne_best_params['mutation_method'], ne_best_params['xo_prob'],ne_best_params['xo_method'], \n",
    "                               ne_best_params['has_elitism'], ne_best_params['allow_reproduction'], log_path_cv ='logs/'+ f'{target}'+ '/ne_cv.csv',\n",
    "                               log_path_train = 'logs/'+f'{target}'+ '/ne_train.csv', ffunction=ffunction, seed=seed,  device=device, id=1) #"
   ]
  },
  {
   "cell_type": "code",
   "execution_count": null,
   "metadata": {},
   "outputs": [],
   "source": [
    "neat_best_params = load_best_params('../neuroevolution_augmentingtopologies/best_params/lactose-best_params_final.pkl')#('../neatUROEVOLUTION/geneattic_programming/best_params/' + f'{target}' + '-best_params-1.pkl')"
   ]
  },
  {
   "cell_type": "code",
   "execution_count": null,
   "metadata": {},
   "outputs": [
    {
     "name": "stdout",
     "output_type": "stream",
     "text": [
      "0.06335316782052186\n"
     ]
    }
   ],
   "source": [
    "neat_score = neat_cross_validation( X, y, config_path = '../neuroevolution_augmentingtopologies/' + neat_best_params['config_file'] , kf=kfold, n_iter=neat_best_params['n_iter'],  train_log_path= 'logs/'+f'{target}'+ '/neat_train.csv', cv_log_path= 'logs/'+f'{target}'+ '/neat_cv.csv', id=1)"
   ]
  },
  {
   "cell_type": "code",
   "execution_count": null,
   "metadata": {},
   "outputs": [],
   "source": [
    "nn_best_params = load_best_params('../neural_network_backpropagation/best_params/lactose-best_params_final.pkl')#('../nnUROEVOLUTION/genntic_programming/best_params/' + f'{target}' + '-best_params-1.pkl')"
   ]
  },
  {
   "cell_type": "code",
   "execution_count": null,
   "metadata": {},
   "outputs": [
    {
     "data": {
      "text/plain": [
       "Sequential(\n",
       "  (0): Linear(in_features=12, out_features=8, bias=True)\n",
       "  (output): Linear(in_features=8, out_features=1, bias=True)\n",
       ")"
      ]
     },
     "execution_count": 12,
     "metadata": {},
     "output_type": "execute_result"
    }
   ],
   "source": [
    "nn_best_params['model']"
   ]
  },
  {
   "cell_type": "code",
   "execution_count": null,
   "metadata": {},
   "outputs": [
    {
     "data": {
      "text/plain": [
       "0.058353383"
      ]
     },
     "execution_count": 13,
     "metadata": {},
     "output_type": "execute_result"
    }
   ],
   "source": [
    "model = nn.Sequential(nn.Linear( 12, 8))\n",
    "model.add_module('out', nn.Linear(8, 1))\n",
    "nn_score = nn_cross_validation(X, y, model=model, cv_log_path ='logs/'+ f'{target}'+ '/nn_cv.csv', train_log_path='logs/'+ f'{target}'+ '/nn_train.csv', loss_fn=loss_fn, optimizer_name = nn_best_params['optimizer_name'], lr = nn_best_params['lr'], weight_decay=nn_best_params['weight_decay'], n_epochs = nn_best_params['n_epochs'], batch_size= nn_best_params['batch_size'],  kf=kfold, id=1 )"
   ]
  },
  {
   "cell_type": "code",
   "execution_count": null,
   "metadata": {},
   "outputs": [
    {
     "name": "stdout",
     "output_type": "stream",
     "text": [
      "cv_score: 0.06466750592096202\n"
     ]
    }
   ],
   "source": [
    "mean_score = mean_cross_validation(X,y,log_path_cv ='logs/'+ f'{target}'+ '/mean_cv.csv', id=1)"
   ]
  },
  {
   "cell_type": "code",
   "execution_count": null,
   "metadata": {},
   "outputs": [],
   "source": []
  },
  {
   "cell_type": "code",
   "execution_count": null,
   "metadata": {},
   "outputs": [],
   "source": [
    "gp_log_cv = pd.read_csv('logs/'+ f'{target}'+ '/gp_cv.csv', sep=';')['val_score'].apply(extract_number)\n",
    "gsgp_log_cv = pd.read_csv('logs/'+ f'{target}'+ '/gsgp_cv.csv', sep=';')['val_score'].apply(extract_number)\n",
    "ne_log_cv = pd.read_csv('logs/'+ f'{target}'+ '/ne_cv.csv', sep=';')['val_score'].apply(extract_number)\n",
    "\n",
    "neat_log_cv = pd.read_csv('logs/'+ f'{target}'+ '/neat_cv.csv', sep=';')['val_score']\n",
    "nn_log_cv = pd.read_csv('logs/'+ f'{target}'+ '/nn_cv.csv', sep=';')['val_score'].apply(extract_number)\n",
    "mean_log_cv = pd.read_csv('logs/'+ f'{target}'+ '/mean_cv.csv', sep=';')['val_score']"
   ]
  },
  {
   "cell_type": "code",
   "execution_count": null,
   "metadata": {},
   "outputs": [],
   "source": [
    "data = {\n",
    "    'gp': gp_log_cv,\n",
    "    'gsgp': gsgp_log_cv,\n",
    "    'ne_gpol': ne_log_cv,\n",
    "    'neat': neat_log_cv,\n",
    "    'nn_backprop': nn_log_cv,\n",
    "    'mean': mean_log_cv\n",
    "}"
   ]
  },
  {
   "cell_type": "code",
   "execution_count": null,
   "metadata": {},
   "outputs": [],
   "source": [
    "def wilcoxon_test(series1, series2):\n",
    "    return wilcoxon(series1, series2, alternative='greater')[1]\n",
    "\n",
    "# Create a DataFrame to store the p-values\n",
    "p_values = pd.DataFrame(np.zeros((len(data), len(data))), index=data.keys(), columns=data.keys())\n",
    "\n",
    "# Perform pairwise Wilcoxon tests\n",
    "for key1 in data.keys():\n",
    "    for key2 in data.keys():\n",
    "        if key1 != key2:\n",
    "            p_values.loc[key1, key2] = wilcoxon_test(data[key1], data[key2])\n"
   ]
  },
  {
   "cell_type": "code",
   "execution_count": null,
   "metadata": {},
   "outputs": [
    {
     "data": {
      "image/png": "[encoded data removed]",
      "text/plain": [
       "<Figure size 600x600 with 1 Axes>"
      ]
     },
     "metadata": {},
     "output_type": "display_data"
    }
   ],
   "source": [
    "from matplotlib.colors import ListedColormap\n",
    "# def cor_heatmap(cor):\n",
    "#     plt.figure(figsize=(10, 8))\n",
    "#     sns.heatmap(data=cor, annot=True, cmap=plt.cm.Reds, fmt='.4f', robust=True)\n",
    "#     plt.show()\n",
    "\n",
    "# # Plot the heatmap\n",
    "# cor_heatmap(p_values)\n",
    "colors = sns.color_palette('crest', 1) + ['crimson']\n",
    "#cmap = ListedColormap(colors)\n",
    "\n",
    "# Create a mask for the heatmap (only diagonal)\n",
    "mask = np.eye(p_values.shape[0], dtype=bool)\n",
    "\n",
    "# Plot the heatmap of p-values\n",
    "def p_heatmap(p):\n",
    "    plt.figure(figsize=(6,6))\n",
    "    sns.heatmap(data=p, annot=True, cmap=sns.color_palette(colors, as_cmap=True), fmt='.4f', robust=True, cbar=False, mask=mask, vmin=0, vmax=1)\n",
    "    plt.show()\n",
    "\n",
    "# Plot the heatmap\n",
    "p_heatmap(p_values)"
   ]
  },
  {
   "cell_type": "code",
   "execution_count": null,
   "metadata": {},
   "outputs": [
    {
     "data": {
      "image/png": "[encoded data removed]",
      "text/plain": [
       "<Figure size 1200x600 with 1 Axes>"
      ]
     },
     "metadata": {},
     "output_type": "display_data"
    }
   ],
   "source": [
    "df = pd.DataFrame(dict([(k, pd.Series(v)) for k, v in data.items()]))\n",
    "\n",
    "# Convert the DataFrame to a long format\n",
    "df_long = df.melt(var_name='Method', value_name='Score')\n",
    "\n",
    "# Plot the boxplot\n",
    "plt.figure(figsize=(12, 6))\n",
    "sns.boxplot(x='Method', y='Score', data=df_long)\n",
    "plt.title('Comparison of Validation Scores')\n",
    "plt.ylabel('Validation Score')\n",
    "plt.xlabel('Method')\n",
    "plt.xticks(rotation=45)\n",
    "plt.ylim(0, 0.1)\n",
    "plt.yticks(np.arange(0, 0.22, 0.02))\n",
    "plt.show()"
   ]
  },
  {
   "cell_type": "code",
   "execution_count": null,
   "metadata": {},
   "outputs": [
    {
     "data": {
      "text/plain": [
       "LeveneResult(statistic=2.0423325424713763, pvalue=0.08719514791265769)"
      ]
     },
     "execution_count": 36,
     "metadata": {},
     "output_type": "execute_result"
    }
   ],
   "source": [
    "friedmanchisquare(gp_log_cv, gsgp_log_cv, ne_log_cv, neat_log_cv, nn_log_cv, mean_log_cv)\n",
    "levene(gp_log_cv, gsgp_log_cv, ne_log_cv, neat_log_cv, nn_log_cv, mean_log_cv)\n"
   ]
  },
  {
   "cell_type": "code",
   "execution_count": 4,
   "metadata": {},
   "outputs": [
    {
     "data": {
      "text/html": [
       "<div>\n",
       "<style scoped>\n",
       "    .dataframe tbody tr th:only-of-type {\n",
       "        vertical-align: middle;\n",
       "    }\n",
       "\n",
       "    .dataframe tbody tr th {\n",
       "        vertical-align: top;\n",
       "    }\n",
       "\n",
       "    .dataframe thead th {\n",
       "        text-align: right;\n",
       "    }\n",
       "</style>\n",
       "<table border=\"1\" class=\"dataframe\">\n",
       "  <thead>\n",
       "    <tr style=\"text-align: right;\">\n",
       "      <th></th>\n",
       "      <th>0</th>\n",
       "      <th>1</th>\n",
       "      <th>2</th>\n",
       "      <th>3</th>\n",
       "      <th>4</th>\n",
       "      <th>5</th>\n",
       "      <th>6</th>\n",
       "      <th>7</th>\n",
       "      <th>8</th>\n",
       "      <th>9</th>\n",
       "      <th>train_score</th>\n",
       "      <th>val_score</th>\n",
       "    </tr>\n",
       "  </thead>\n",
       "  <tbody>\n",
       "    <tr>\n",
       "      <th>0</th>\n",
       "      <td>INFO:IP-SML</td>\n",
       "      <td>GeneticAlgorithm</td>\n",
       "      <td>1:GPOL</td>\n",
       "      <td>1</td>\n",
       "      <td>0</td>\n",
       "      <td>0.000000</td>\n",
       "      <td>7</td>\n",
       "      <td>tensor(0.7456)</td>\n",
       "      <td>tensor(0.5612</td>\n",
       "      <td>dtype=torch.float64)</td>\n",
       "      <td>tensor(0.7456)</td>\n",
       "      <td>tensor(0.5612</td>\n",
       "    </tr>\n",
       "    <tr>\n",
       "      <th>1</th>\n",
       "      <td>INFO:IP-SML</td>\n",
       "      <td>GeneticAlgorithm</td>\n",
       "      <td>1:GPOL</td>\n",
       "      <td>1</td>\n",
       "      <td>1</td>\n",
       "      <td>0.051413</td>\n",
       "      <td>7</td>\n",
       "      <td>tensor(0.7456)</td>\n",
       "      <td>tensor(0.5612</td>\n",
       "      <td>dtype=torch.float64)</td>\n",
       "      <td>tensor(0.7456)</td>\n",
       "      <td>tensor(0.5612</td>\n",
       "    </tr>\n",
       "    <tr>\n",
       "      <th>2</th>\n",
       "      <td>INFO:IP-SML</td>\n",
       "      <td>GeneticAlgorithm</td>\n",
       "      <td>1:GPOL</td>\n",
       "      <td>1</td>\n",
       "      <td>2</td>\n",
       "      <td>0.103170</td>\n",
       "      <td>7</td>\n",
       "      <td>tensor(0.7456)</td>\n",
       "      <td>tensor(0.5612</td>\n",
       "      <td>dtype=torch.float64)</td>\n",
       "      <td>tensor(0.7456)</td>\n",
       "      <td>tensor(0.5612</td>\n",
       "    </tr>\n",
       "    <tr>\n",
       "      <th>3</th>\n",
       "      <td>INFO:IP-SML</td>\n",
       "      <td>GeneticAlgorithm</td>\n",
       "      <td>1:GPOL</td>\n",
       "      <td>1</td>\n",
       "      <td>3</td>\n",
       "      <td>0.041060</td>\n",
       "      <td>1</td>\n",
       "      <td>tensor(0.6487)</td>\n",
       "      <td>tensor(0.5861</td>\n",
       "      <td>dtype=torch.float64)</td>\n",
       "      <td>tensor(0.6487)</td>\n",
       "      <td>tensor(0.5861</td>\n",
       "    </tr>\n",
       "    <tr>\n",
       "      <th>4</th>\n",
       "      <td>INFO:IP-SML</td>\n",
       "      <td>GeneticAlgorithm</td>\n",
       "      <td>1:GPOL</td>\n",
       "      <td>1</td>\n",
       "      <td>4</td>\n",
       "      <td>0.037914</td>\n",
       "      <td>1</td>\n",
       "      <td>tensor(0.6487)</td>\n",
       "      <td>tensor(0.5861</td>\n",
       "      <td>dtype=torch.float64)</td>\n",
       "      <td>tensor(0.6487)</td>\n",
       "      <td>tensor(0.5861</td>\n",
       "    </tr>\n",
       "    <tr>\n",
       "      <th>...</th>\n",
       "      <td>...</td>\n",
       "      <td>...</td>\n",
       "      <td>...</td>\n",
       "      <td>...</td>\n",
       "      <td>...</td>\n",
       "      <td>...</td>\n",
       "      <td>...</td>\n",
       "      <td>...</td>\n",
       "      <td>...</td>\n",
       "      <td>...</td>\n",
       "      <td>...</td>\n",
       "      <td>...</td>\n",
       "    </tr>\n",
       "    <tr>\n",
       "      <th>415</th>\n",
       "      <td>INFO:IP-SMLNN</td>\n",
       "      <td>GeneticAlgorithm</td>\n",
       "      <td>1:GPOL</td>\n",
       "      <td>1</td>\n",
       "      <td>21</td>\n",
       "      <td>11.391652</td>\n",
       "      <td>2</td>\n",
       "      <td>tensor(1.5796)</td>\n",
       "      <td>tensor(1.8784</td>\n",
       "      <td>dtype=torch.float64)</td>\n",
       "      <td>tensor(1.5796)</td>\n",
       "      <td>tensor(1.8784</td>\n",
       "    </tr>\n",
       "    <tr>\n",
       "      <th>416</th>\n",
       "      <td>INFO:IP-SMLNN</td>\n",
       "      <td>GeneticAlgorithm</td>\n",
       "      <td>1:GPOL</td>\n",
       "      <td>1</td>\n",
       "      <td>22</td>\n",
       "      <td>11.008296</td>\n",
       "      <td>2</td>\n",
       "      <td>tensor(2.5957)</td>\n",
       "      <td>tensor(2.4405</td>\n",
       "      <td>dtype=torch.float64)</td>\n",
       "      <td>tensor(2.5957)</td>\n",
       "      <td>tensor(2.4405</td>\n",
       "    </tr>\n",
       "    <tr>\n",
       "      <th>417</th>\n",
       "      <td>INFO:IP-SMLNN</td>\n",
       "      <td>GeneticAlgorithm</td>\n",
       "      <td>1:GPOL</td>\n",
       "      <td>1</td>\n",
       "      <td>23</td>\n",
       "      <td>11.432168</td>\n",
       "      <td>2</td>\n",
       "      <td>tensor(3.0677)</td>\n",
       "      <td>tensor(2.7297</td>\n",
       "      <td>dtype=torch.float64)</td>\n",
       "      <td>tensor(3.0677)</td>\n",
       "      <td>tensor(2.7297</td>\n",
       "    </tr>\n",
       "    <tr>\n",
       "      <th>418</th>\n",
       "      <td>INFO:IP-SMLNN</td>\n",
       "      <td>GeneticAlgorithm</td>\n",
       "      <td>1:GPOL</td>\n",
       "      <td>1</td>\n",
       "      <td>24</td>\n",
       "      <td>11.963287</td>\n",
       "      <td>2</td>\n",
       "      <td>tensor(2.5543)</td>\n",
       "      <td>tensor(2.4397</td>\n",
       "      <td>dtype=torch.float64)</td>\n",
       "      <td>tensor(2.5543)</td>\n",
       "      <td>tensor(2.4397</td>\n",
       "    </tr>\n",
       "    <tr>\n",
       "      <th>419</th>\n",
       "      <td>INFO:IP-SMLNN</td>\n",
       "      <td>GeneticAlgorithm</td>\n",
       "      <td>1:GPOL</td>\n",
       "      <td>1</td>\n",
       "      <td>25</td>\n",
       "      <td>11.039777</td>\n",
       "      <td>2</td>\n",
       "      <td>tensor(2.4467)</td>\n",
       "      <td>tensor(2.3614</td>\n",
       "      <td>dtype=torch.float64)</td>\n",
       "      <td>tensor(2.4467)</td>\n",
       "      <td>tensor(2.3614</td>\n",
       "    </tr>\n",
       "  </tbody>\n",
       "</table>\n",
       "<p>420 rows × 12 columns</p>\n",
       "</div>"
      ],
      "text/plain": [
       "                 0                 1       2  3   4          5  6  \\\n",
       "0      INFO:IP-SML  GeneticAlgorithm  1:GPOL  1   0   0.000000  7   \n",
       "1      INFO:IP-SML  GeneticAlgorithm  1:GPOL  1   1   0.051413  7   \n",
       "2      INFO:IP-SML  GeneticAlgorithm  1:GPOL  1   2   0.103170  7   \n",
       "3      INFO:IP-SML  GeneticAlgorithm  1:GPOL  1   3   0.041060  1   \n",
       "4      INFO:IP-SML  GeneticAlgorithm  1:GPOL  1   4   0.037914  1   \n",
       "..             ...               ...     ... ..  ..        ... ..   \n",
       "415  INFO:IP-SMLNN  GeneticAlgorithm  1:GPOL  1  21  11.391652  2   \n",
       "416  INFO:IP-SMLNN  GeneticAlgorithm  1:GPOL  1  22  11.008296  2   \n",
       "417  INFO:IP-SMLNN  GeneticAlgorithm  1:GPOL  1  23  11.432168  2   \n",
       "418  INFO:IP-SMLNN  GeneticAlgorithm  1:GPOL  1  24  11.963287  2   \n",
       "419  INFO:IP-SMLNN  GeneticAlgorithm  1:GPOL  1  25  11.039777  2   \n",
       "\n",
       "                  7              8                      9     train_score  \\\n",
       "0    tensor(0.7456)  tensor(0.5612   dtype=torch.float64)  tensor(0.7456)   \n",
       "1    tensor(0.7456)  tensor(0.5612   dtype=torch.float64)  tensor(0.7456)   \n",
       "2    tensor(0.7456)  tensor(0.5612   dtype=torch.float64)  tensor(0.7456)   \n",
       "3    tensor(0.6487)  tensor(0.5861   dtype=torch.float64)  tensor(0.6487)   \n",
       "4    tensor(0.6487)  tensor(0.5861   dtype=torch.float64)  tensor(0.6487)   \n",
       "..              ...            ...                    ...             ...   \n",
       "415  tensor(1.5796)  tensor(1.8784   dtype=torch.float64)  tensor(1.5796)   \n",
       "416  tensor(2.5957)  tensor(2.4405   dtype=torch.float64)  tensor(2.5957)   \n",
       "417  tensor(3.0677)  tensor(2.7297   dtype=torch.float64)  tensor(3.0677)   \n",
       "418  tensor(2.5543)  tensor(2.4397   dtype=torch.float64)  tensor(2.5543)   \n",
       "419  tensor(2.4467)  tensor(2.3614   dtype=torch.float64)  tensor(2.4467)   \n",
       "\n",
       "         val_score  \n",
       "0    tensor(0.5612  \n",
       "1    tensor(0.5612  \n",
       "2    tensor(0.5612  \n",
       "3    tensor(0.5861  \n",
       "4    tensor(0.5861  \n",
       "..             ...  \n",
       "415  tensor(1.8784  \n",
       "416  tensor(2.4405  \n",
       "417  tensor(2.7297  \n",
       "418  tensor(2.4397  \n",
       "419  tensor(2.3614  \n",
       "\n",
       "[420 rows x 12 columns]"
      ]
     },
     "execution_count": 4,
     "metadata": {},
     "output_type": "execute_result"
    }
   ],
   "source": [
    "gp_log_train = pd.read_csv('logs/'+ f'{target}'+ '/gp_train.csv', sep=',',header=None)\n",
    "gp_log_train[['train_score', 'val_score']] = gp_log_train[[7,8]]\n",
    "\n",
    "gp_log_train"
   ]
  },
  {
   "cell_type": "code",
   "execution_count": 5,
   "metadata": {},
   "outputs": [
    {
     "data": {
      "text/plain": [
       "10"
      ]
     },
     "execution_count": 5,
     "metadata": {},
     "output_type": "execute_result"
    }
   ],
   "source": [
    "gp_best_params['n_iter']"
   ]
  },
  {
   "cell_type": "code",
   "execution_count": 6,
   "metadata": {},
   "outputs": [
    {
     "data": {
      "text/plain": [
       "50"
      ]
     },
     "execution_count": 6,
     "metadata": {},
     "output_type": "execute_result"
    }
   ],
   "source": [
    "gp_best_params['ps']"
   ]
  }
 ],
 "metadata": {
  "kernelspec": {
   "display_name": "Python 3",
   "language": "python",
   "name": "python3"
  },
  "language_info": {
   "codemirror_mode": {
    "name": "ipython",
    "version": 3
   },
   "file_extension": ".py",
   "mimetype": "text/x-python",
   "name": "python",
   "nbconvert_exporter": "python",
   "pygments_lexer": "ipython3",
   "version": "3.11.4"
  }
 },
 "nbformat": 4,
 "nbformat_minor": 2
}
