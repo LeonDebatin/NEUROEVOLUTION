{
 "cells": [
  {
   "cell_type": "code",
   "execution_count": 1,
   "metadata": {},
   "outputs": [],
   "source": [
    "import sys\n",
    "import os\n",
    "parent_dir = os.path.abspath(os.path.join(os.path.dirname('../NEUROEVOLUTION'), '..'))\n",
    "if parent_dir not in sys.path:\n",
    "    sys.path.insert(0, parent_dir)\n",
    "\n",
    "parent_dir = os.path.abspath(os.path.join(os.path.dirname('../NEUROEVOLUTION/genetic_programming'), '..'))\n",
    "if parent_dir not in sys.path:\n",
    "    sys.path.insert(0, parent_dir)\n",
    "\n",
    "\n",
    "parent_dir = os.path.abspath(os.path.join(os.path.dirname('../NEUROEVOLUTION/gpolnel'), '..'))\n",
    "if parent_dir not in sys.path:\n",
    "    sys.path.insert(0, parent_dir)\n",
    "\n",
    "import seaborn as sns\n",
    "import matplotlib.pyplot as plt\n",
    "import pandas as pd\n",
    "from scipy.stats import friedmanchisquare, levene\n",
    "import sys\n",
    "import torch.nn as nn\n",
    "from NEUROEVOLUTION.utils import drop_features, kfold, load_best_params, complete_params, seed, device, mean_cross_validation, extract_number, get_wilcoxon_p_values, color_wilcoxon\n",
    "from NEUROEVOLUTION.gpolnel.utils.ffunctions import Ffunctions\n",
    "from NEUROEVOLUTION.genetic_programming.gp_utils import gp_cross_validation\n",
    "from NEUROEVOLUTION.geometric_semantic_genetic_programming.gsgp_utils import gsgp_cross_validation\n",
    "from NEUROEVOLUTION.neuroevolution_gpol_based.ne_utils import ne_cross_validation\n",
    "from NEUROEVOLUTION.neuroevolution_augmentingtopologies.neat_utils import neat_cross_validation\n",
    "from NEUROEVOLUTION.neural_network_backpropagation.nn_utils import nn_cross_validation"
   ]
  },
  {
   "cell_type": "code",
   "execution_count": 2,
   "metadata": {},
   "outputs": [],
   "source": [
    "target = 'protein'\n",
    "file_path_X = '../datamart/data_project_nel.csv'\n",
    "file_path_y = '../datamart/y_' + f'{target}'+ '.csv'\n",
    "X = pd.read_csv(file_path_X)\n",
    "X = drop_features(X)\n",
    "y = pd.read_csv(file_path_y)[f'{target}'+'_percent']\n",
    "\n",
    "\n",
    "batch_size = X.shape[0]\n",
    "shuffle = True\n",
    "ffunction = Ffunctions('rmse')\n",
    "loss_fn = nn.MSELoss()"
   ]
  },
  {
   "cell_type": "code",
   "execution_count": 3,
   "metadata": {},
   "outputs": [],
   "source": [
    "gp_best_params = load_best_params('../genetic_programming/best_params/' +f'{target}'+'-best_params_final.pkl')\n",
    "gp_best_params = complete_params(gp_best_params)"
   ]
  },
  {
   "cell_type": "code",
   "execution_count": 4,
   "metadata": {},
   "outputs": [
    {
     "name": "stdout",
     "output_type": "stream",
     "text": [
      "cv_score: 0.14962454512371098\n"
     ]
    }
   ],
   "source": [
    "gp_score = gp_cross_validation(X, y, batch_size, shuffle, kfold, gp_best_params['initializer'], gp_best_params['ps'], gp_best_params['n_iter'],  \n",
    "                               gp_best_params['sspace'],  gp_best_params['selection_method'], gp_best_params['mutation_prob'], \n",
    "                               gp_best_params['mutation_method'], gp_best_params['xo_prob'],gp_best_params['xo_method'], \n",
    "                               gp_best_params['has_elitism'], gp_best_params['allow_reproduction'], log_path_cv = 'logs/'+ f'{target}'+ '/gp_cv.csv',\n",
    "                               log_path_train = 'logs/'+ f'{target}'+ '/gp_train.csv', ffunction=ffunction, seed=seed,  device=device, id=1)"
   ]
  },
  {
   "cell_type": "code",
   "execution_count": 5,
   "metadata": {},
   "outputs": [],
   "source": [
    "gsgp_best_params = load_best_params('../geometric_semantic_genetic_programming/best_params/' +f'{target}'+'-best_params_final.pkl')\n",
    "gsgp_best_params = complete_params(gsgp_best_params)"
   ]
  },
  {
   "cell_type": "code",
   "execution_count": 6,
   "metadata": {},
   "outputs": [
    {
     "name": "stdout",
     "output_type": "stream",
     "text": [
      "cv_score: 0.18744763056881272\n"
     ]
    }
   ],
   "source": [
    "gsgp_score = gsgp_cross_validation(X, y, batch_size, shuffle, kfold, gsgp_best_params['initializer'], gsgp_best_params['ps'], gsgp_best_params['n_iter'],  \n",
    "                               gsgp_best_params['sspace'],  gsgp_best_params['selection_method'], gsgp_best_params['mutation_prob'], \n",
    "                               gsgp_best_params['mutation_method'], gsgp_best_params['xo_prob'],gsgp_best_params['xo_method'], \n",
    "                               gsgp_best_params['has_elitism'], gsgp_best_params['allow_reproduction'], log_path_cv ='logs/'+ f'{target}'+ '/gsgp_cv.csv',\n",
    "                               log_path_train ='logs/'+ f'{target}'+ '/gsgp_train.csv', ffunction=ffunction, seed=seed,  device=device, id=1)"
   ]
  },
  {
   "cell_type": "code",
   "execution_count": 7,
   "metadata": {},
   "outputs": [],
   "source": [
    "ne_best_params = load_best_params('../neuroevolution_gpol_based/best_params/' +f'{target}'+'-best_params_final.pkl')\n",
    "ne_best_params = complete_params(ne_best_params)"
   ]
  },
  {
   "cell_type": "code",
   "execution_count": 8,
   "metadata": {},
   "outputs": [
    {
     "name": "stdout",
     "output_type": "stream",
     "text": [
      "cv_score: 0.5821528859704284\n"
     ]
    }
   ],
   "source": [
    "ne_score = ne_cross_validation(X, y, batch_size, shuffle, kfold, ne_best_params['initializer'], ne_best_params['ps'], ne_best_params['n_iter'],  \n",
    "                               ne_best_params['sspace'],  ne_best_params['selection_method'], ne_best_params['mutation_prob'], \n",
    "                               ne_best_params['mutation_method'], ne_best_params['xo_prob'],ne_best_params['xo_method'], \n",
    "                               ne_best_params['has_elitism'], ne_best_params['allow_reproduction'], log_path_cv ='logs/'+ f'{target}'+ '/ne_cv.csv',\n",
    "                               log_path_train = 'logs/'+f'{target}'+ '/ne_train.csv', ffunction=ffunction, seed=seed,  device=device, id=1) #"
   ]
  },
  {
   "cell_type": "code",
   "execution_count": 9,
   "metadata": {},
   "outputs": [],
   "source": [
    "neat_best_params = load_best_params('../neuroevolution_augmentingtopologies/best_params/' +f'{target}'+'-best_params_final.pkl')"
   ]
  },
  {
   "cell_type": "code",
   "execution_count": 10,
   "metadata": {},
   "outputs": [
    {
     "name": "stdout",
     "output_type": "stream",
     "text": [
      "0.147537018928577\n"
     ]
    }
   ],
   "source": [
    "neat_score = neat_cross_validation( X, y, config_path = '../neuroevolution_augmentingtopologies/' + neat_best_params['config_file'] , kf=kfold, n_iter=neat_best_params['n_iter'],  train_log_path= 'logs/'+f'{target}'+ '/neat_train.csv', cv_log_path= 'logs/'+f'{target}'+ '/neat_cv.csv', id=1)"
   ]
  },
  {
   "cell_type": "code",
   "execution_count": 11,
   "metadata": {},
   "outputs": [],
   "source": [
    "nn_best_params = load_best_params('../neural_network_backpropagation/best_params/' +f'{target}'+'-best_params_final.pkl')"
   ]
  },
  {
   "cell_type": "code",
   "execution_count": 12,
   "metadata": {},
   "outputs": [
    {
     "data": {
      "text/plain": [
       "Sequential(\n",
       "  (0): Linear(in_features=12, out_features=2, bias=True)\n",
       "  (linear): Linear(in_features=2, out_features=9, bias=True)\n",
       "  (sigmoid2): Sigmoid()\n",
       "  (output): Linear(in_features=9, out_features=1, bias=True)\n",
       ")"
      ]
     },
     "execution_count": 12,
     "metadata": {},
     "output_type": "execute_result"
    }
   ],
   "source": [
    "nn_best_params['model']"
   ]
  },
  {
   "cell_type": "code",
   "execution_count": 13,
   "metadata": {},
   "outputs": [
    {
     "name": "stdout",
     "output_type": "stream",
     "text": [
      "0.13805076\n"
     ]
    }
   ],
   "source": [
    "model = nn.Sequential(nn.Linear( 12, 2))\n",
    "model.add_module('lin',nn.Linear( 2, 9))\n",
    "model.add_module('relu1', nn.Sigmoid())\n",
    "model.add_module('out', nn.Linear(9, 1))\n",
    "nn_score = nn_cross_validation(X, y, model=model, cv_log_path ='logs/'+ f'{target}'+ '/nn_cv.csv', train_log_path='logs/'+ f'{target}'+ '/nn_train.csv', loss_fn=loss_fn, optimizer_name = nn_best_params['optimizer_name'], lr = nn_best_params['lr'], weight_decay=nn_best_params['weight_decay'], n_epochs = nn_best_params['n_epochs'], batch_size= nn_best_params['batch_size'],  kf=kfold, id=1 )"
   ]
  },
  {
   "cell_type": "code",
   "execution_count": 14,
   "metadata": {},
   "outputs": [
    {
     "name": "stdout",
     "output_type": "stream",
     "text": [
      "cv_score: 0.1489864227680281\n"
     ]
    }
   ],
   "source": [
    "mean_score = mean_cross_validation(X,y,log_path_cv ='logs/'+ f'{target}'+ '/mean_cv.csv', id=1)"
   ]
  },
  {
   "cell_type": "code",
   "execution_count": 25,
   "metadata": {},
   "outputs": [],
   "source": [
    "gp_log_cv = pd.read_csv('logs/'+ f'{target}'+ '/gp_cv.csv', sep=';')['val_score'].apply(extract_number)\n",
    "gsgp_log_cv = pd.read_csv('logs/'+ f'{target}'+ '/gsgp_cv.csv', sep=';')['val_score'].apply(extract_number)\n",
    "ne_log_cv = pd.read_csv('logs/'+ f'{target}'+ '/ne_cv.csv', sep=';')['val_score'].apply(extract_number)\n",
    "\n",
    "neat_log_cv = pd.read_csv('logs/'+ f'{target}'+ '/neat_cv.csv', sep=';')['val_score']\n",
    "nn_log_cv = pd.read_csv('logs/'+ f'{target}'+ '/nn_cv.csv', sep=';')['val_score'].apply(extract_number)\n",
    "mean_log_cv = pd.read_csv('logs/'+ f'{target}'+ '/mean_cv.csv', sep=';')['val_score']"
   ]
  },
  {
   "cell_type": "code",
   "execution_count": 26,
   "metadata": {},
   "outputs": [],
   "source": [
    "data = {\n",
    "    'nn_backprop': nn_log_cv,\n",
    "    'gp': gp_log_cv,\n",
    "    'mean': mean_log_cv,\n",
    "    'neat': neat_log_cv,\n",
    "    \n",
    "    'gsgp': gsgp_log_cv,\n",
    "    'ne_gpolnel': ne_log_cv\n",
    "}"
   ]
  },
  {
   "cell_type": "code",
   "execution_count": 27,
   "metadata": {},
   "outputs": [
    {
     "data": {
      "text/html": [
       "<style type=\"text/css\">\n",
       "#T_42363_row0_col0, #T_42363_row1_col1, #T_42363_row2_col2, #T_42363_row3_col3, #T_42363_row4_col4, #T_42363_row5_col5 {\n",
       "  background-color: black;\n",
       "}\n",
       "#T_42363_row0_col1, #T_42363_row0_col2, #T_42363_row0_col3, #T_42363_row0_col4, #T_42363_row0_col5, #T_42363_row1_col2, #T_42363_row1_col3, #T_42363_row1_col4, #T_42363_row1_col5, #T_42363_row2_col1, #T_42363_row2_col3, #T_42363_row2_col4, #T_42363_row2_col5, #T_42363_row3_col1, #T_42363_row3_col2, #T_42363_row3_col4, #T_42363_row3_col5, #T_42363_row4_col5 {\n",
       "  background-color: lightcoral;\n",
       "}\n",
       "#T_42363_row1_col0, #T_42363_row2_col0, #T_42363_row3_col0, #T_42363_row4_col0, #T_42363_row4_col1, #T_42363_row4_col2, #T_42363_row4_col3, #T_42363_row5_col0, #T_42363_row5_col1, #T_42363_row5_col2, #T_42363_row5_col3, #T_42363_row5_col4 {\n",
       "  background-color: mediumseagreen;\n",
       "}\n",
       "</style>\n",
       "<table id=\"T_42363\">\n",
       "  <thead>\n",
       "    <tr>\n",
       "      <th class=\"blank level0\" >&nbsp;</th>\n",
       "      <th id=\"T_42363_level0_col0\" class=\"col_heading level0 col0\" >nn_backprop</th>\n",
       "      <th id=\"T_42363_level0_col1\" class=\"col_heading level0 col1\" >gp</th>\n",
       "      <th id=\"T_42363_level0_col2\" class=\"col_heading level0 col2\" >mean</th>\n",
       "      <th id=\"T_42363_level0_col3\" class=\"col_heading level0 col3\" >neat</th>\n",
       "      <th id=\"T_42363_level0_col4\" class=\"col_heading level0 col4\" >gsgp</th>\n",
       "      <th id=\"T_42363_level0_col5\" class=\"col_heading level0 col5\" >ne_gpolnel</th>\n",
       "    </tr>\n",
       "  </thead>\n",
       "  <tbody>\n",
       "    <tr>\n",
       "      <th id=\"T_42363_level0_row0\" class=\"row_heading level0 row0\" >nn_backprop</th>\n",
       "      <td id=\"T_42363_row0_col0\" class=\"data row0 col0\" >0.00</td>\n",
       "      <td id=\"T_42363_row0_col1\" class=\"data row0 col1\" >1.00</td>\n",
       "      <td id=\"T_42363_row0_col2\" class=\"data row0 col2\" >1.00</td>\n",
       "      <td id=\"T_42363_row0_col3\" class=\"data row0 col3\" >1.00</td>\n",
       "      <td id=\"T_42363_row0_col4\" class=\"data row0 col4\" >1.00</td>\n",
       "      <td id=\"T_42363_row0_col5\" class=\"data row0 col5\" >1.00</td>\n",
       "    </tr>\n",
       "    <tr>\n",
       "      <th id=\"T_42363_level0_row1\" class=\"row_heading level0 row1\" >gp</th>\n",
       "      <td id=\"T_42363_row1_col0\" class=\"data row1 col0\" >0.00</td>\n",
       "      <td id=\"T_42363_row1_col1\" class=\"data row1 col1\" >0.00</td>\n",
       "      <td id=\"T_42363_row1_col2\" class=\"data row1 col2\" >0.19</td>\n",
       "      <td id=\"T_42363_row1_col3\" class=\"data row1 col3\" >0.05</td>\n",
       "      <td id=\"T_42363_row1_col4\" class=\"data row1 col4\" >1.00</td>\n",
       "      <td id=\"T_42363_row1_col5\" class=\"data row1 col5\" >1.00</td>\n",
       "    </tr>\n",
       "    <tr>\n",
       "      <th id=\"T_42363_level0_row2\" class=\"row_heading level0 row2\" >mean</th>\n",
       "      <td id=\"T_42363_row2_col0\" class=\"data row2 col0\" >0.00</td>\n",
       "      <td id=\"T_42363_row2_col1\" class=\"data row2 col1\" >0.84</td>\n",
       "      <td id=\"T_42363_row2_col2\" class=\"data row2 col2\" >0.00</td>\n",
       "      <td id=\"T_42363_row2_col3\" class=\"data row2 col3\" >0.12</td>\n",
       "      <td id=\"T_42363_row2_col4\" class=\"data row2 col4\" >1.00</td>\n",
       "      <td id=\"T_42363_row2_col5\" class=\"data row2 col5\" >1.00</td>\n",
       "    </tr>\n",
       "    <tr>\n",
       "      <th id=\"T_42363_level0_row3\" class=\"row_heading level0 row3\" >neat</th>\n",
       "      <td id=\"T_42363_row3_col0\" class=\"data row3 col0\" >0.00</td>\n",
       "      <td id=\"T_42363_row3_col1\" class=\"data row3 col1\" >0.96</td>\n",
       "      <td id=\"T_42363_row3_col2\" class=\"data row3 col2\" >0.90</td>\n",
       "      <td id=\"T_42363_row3_col3\" class=\"data row3 col3\" >0.00</td>\n",
       "      <td id=\"T_42363_row3_col4\" class=\"data row3 col4\" >1.00</td>\n",
       "      <td id=\"T_42363_row3_col5\" class=\"data row3 col5\" >1.00</td>\n",
       "    </tr>\n",
       "    <tr>\n",
       "      <th id=\"T_42363_level0_row4\" class=\"row_heading level0 row4\" >gsgp</th>\n",
       "      <td id=\"T_42363_row4_col0\" class=\"data row4 col0\" >0.00</td>\n",
       "      <td id=\"T_42363_row4_col1\" class=\"data row4 col1\" >0.00</td>\n",
       "      <td id=\"T_42363_row4_col2\" class=\"data row4 col2\" >0.00</td>\n",
       "      <td id=\"T_42363_row4_col3\" class=\"data row4 col3\" >0.00</td>\n",
       "      <td id=\"T_42363_row4_col4\" class=\"data row4 col4\" >0.00</td>\n",
       "      <td id=\"T_42363_row4_col5\" class=\"data row4 col5\" >1.00</td>\n",
       "    </tr>\n",
       "    <tr>\n",
       "      <th id=\"T_42363_level0_row5\" class=\"row_heading level0 row5\" >ne_gpolnel</th>\n",
       "      <td id=\"T_42363_row5_col0\" class=\"data row5 col0\" >0.00</td>\n",
       "      <td id=\"T_42363_row5_col1\" class=\"data row5 col1\" >0.00</td>\n",
       "      <td id=\"T_42363_row5_col2\" class=\"data row5 col2\" >0.00</td>\n",
       "      <td id=\"T_42363_row5_col3\" class=\"data row5 col3\" >0.00</td>\n",
       "      <td id=\"T_42363_row5_col4\" class=\"data row5 col4\" >0.00</td>\n",
       "      <td id=\"T_42363_row5_col5\" class=\"data row5 col5\" >0.00</td>\n",
       "    </tr>\n",
       "  </tbody>\n",
       "</table>\n"
      ],
      "text/plain": [
       "<pandas.io.formats.style.Styler at 0x1e4ea124d50>"
      ]
     },
     "execution_count": 27,
     "metadata": {},
     "output_type": "execute_result"
    }
   ],
   "source": [
    "wilcoxon_p_values = get_wilcoxon_p_values(data)\n",
    "wilcoxon_p_values.style.applymap(color_wilcoxon).format(\"{:.2f}\")"
   ]
  },
  {
   "cell_type": "code",
   "execution_count": 28,
   "metadata": {},
   "outputs": [
    {
     "name": "stdout",
     "output_type": "stream",
     "text": [
      "FriedmanchisquareResult(statistic=45.88571428571427, pvalue=9.581903851109485e-09)\n",
      "LeveneResult(statistic=6.641506997806204, pvalue=6.930610708797957e-05)\n"
     ]
    }
   ],
   "source": [
    "print(friedmanchisquare(gp_log_cv, gsgp_log_cv, ne_log_cv, neat_log_cv, nn_log_cv, mean_log_cv))\n",
    "print(levene(gp_log_cv, gsgp_log_cv, ne_log_cv, neat_log_cv, nn_log_cv, mean_log_cv))\n"
   ]
  },
  {
   "cell_type": "code",
   "execution_count": 29,
   "metadata": {},
   "outputs": [
    {
     "data": {
      "image/png": "[encoded data removed]",
      "text/plain": [
       "<Figure size 500x300 with 1 Axes>"
      ]
     },
     "metadata": {},
     "output_type": "display_data"
    }
   ],
   "source": [
    "df = pd.DataFrame(dict([(k, pd.Series(v)) for k, v in data.items()]))\n",
    "df_long = df.melt(var_name='Method', value_name='Score')\n",
    "plt.figure(figsize=(5, 3))\n",
    "sns.boxplot(x='Method', y='Score', data=df_long, color='darkcyan')\n",
    "plt.title('Comparison of Validation Scores for '+ f'{target}')\n",
    "plt.ylabel('')\n",
    "plt.xlabel('')\n",
    "plt.ylim(0.10, 0.22)\n",
    "plt.show()"
   ]
  }
 ],
 "metadata": {
  "kernelspec": {
   "display_name": "Python 3",
   "language": "python",
   "name": "python3"
  },
  "language_info": {
   "codemirror_mode": {
    "name": "ipython",
    "version": 3
   },
   "file_extension": ".py",
   "mimetype": "text/x-python",
   "name": "python",
   "nbconvert_exporter": "python",
   "pygments_lexer": "ipython3",
   "version": "3.11.4"
  }
 },
 "nbformat": 4,
 "nbformat_minor": 2
}
