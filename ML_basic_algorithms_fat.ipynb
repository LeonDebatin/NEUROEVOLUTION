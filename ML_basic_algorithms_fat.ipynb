{
 "cells": [
  {
   "cell_type": "code",
   "execution_count": 1,
   "metadata": {},
   "outputs": [],
   "source": [
    "import pandas as pd\n",
    "from sklearn.tree import DecisionTreeRegressor\n",
    "from sklearn.ensemble import GradientBoostingRegressor\n",
    "from sklearn.ensemble import RandomForestRegressor\n",
    "from sklearn.model_selection import GridSearchCV, StratifiedKFold\n",
    "from sklearn.linear_model import LinearRegression\n",
    "from sklearn.svm import SVR\n",
    "import numpy as np\n",
    "from sklearn.metrics import mean_squared_error\n",
    "from sklearn.metrics import make_scorer\n",
    "from sklearn.metrics import mean_squared_error\n",
    "from sklearn.metrics import mean_absolute_error\n",
    "from sklearn.metrics import root_mean_squared_error\n",
    "import numpy as np\n",
    "from sklearn.linear_model import ElasticNet\n",
    "from sklearn.model_selection import RepeatedKFold\n",
    "from sklearn.model_selection import GridSearchCV, KFold\n",
    "import numpy as np\n",
    "import copy\n",
    "seed=1"
   ]
  },
  {
   "cell_type": "code",
   "execution_count": 2,
   "metadata": {},
   "outputs": [],
   "source": [
    "X_train = pd.read_csv('./datamart/X_train_clipped_scaled.csv') #X_train_clipped_scaled\n",
    "y_train = pd.read_csv('./datamart/y_protein_train.csv').values.ravel()\n",
    "X_test = pd.read_csv('./datamart/X_test_clipped_scaled.csv') #X_test_clipped_scaled\n",
    "y_test = pd.read_csv('./datamart/y_protein_test.csv').values.ravel()"
   ]
  },
  {
   "cell_type": "code",
   "execution_count": 3,
   "metadata": {},
   "outputs": [
    {
     "name": "stdout",
     "output_type": "stream",
     "text": [
      "0.15027590306101302\n",
      "0.15214485590263713\n"
     ]
    },
    {
     "data": {
      "text/plain": [
       "array([[1.00000000e+00, 1.80971413e-15],\n",
       "       [1.80971413e-15, 1.00000000e+00]])"
      ]
     },
     "execution_count": 3,
     "metadata": {},
     "output_type": "execute_result"
    }
   ],
   "source": [
    "mean = y_train.mean()\n",
    "median = np.median(y_train)\n",
    "print(root_mean_squared_error(y_test, [mean for i in range(len(y_test))]))\n",
    "print(root_mean_squared_error(y_test, [median for i in range(len(y_test))]))\n",
    "np.corrcoef(y_test, [mean for i in range(len(y_test))])"
   ]
  },
  {
   "cell_type": "code",
   "execution_count": 4,
   "metadata": {},
   "outputs": [],
   "source": [
    "def grid_search(estimator, param_grid, cv, fit_params=None, X_train=None, y_train=None):\n",
    "\n",
    "    # Define the grid search with RMSE scoring\n",
    "    grid_search = GridSearchCV(estimator, param_grid, scoring='neg_root_mean_squared_error', cv=cv)\n",
    "    \n",
    "    # Fit the grid search\n",
    "    if fit_params is not None:\n",
    "        grid_search.fit(X_train, y_train, **fit_params)\n",
    "    else:\n",
    "        grid_search.fit(X_train, y_train)\n",
    "    \n",
    "    # Get the best parameters and best score\n",
    "    best_params = grid_search.best_params_\n",
    "    best_params = {key.split('__', 1)[1] if '__' in key else key: value for key, value in best_params.items()}\n",
    "    best_score = grid_search.best_score_\n",
    "    \n",
    "    # Convert negative MSE to RMSE\n",
    "    best_rmse = best_score * -1\n",
    "    \n",
    "    print(\"Best Parameters: \", best_params)\n",
    "    print(\"Best RMSE: \", best_rmse)\n",
    "    \n",
    "    return best_params, best_rmse\n"
   ]
  },
  {
   "cell_type": "code",
   "execution_count": 5,
   "metadata": {},
   "outputs": [],
   "source": [
    "def evaluate_estimator(estimator, X_train, y_train, X_test, y_test):\n",
    "\n",
    "    # Predict on training and validation data\n",
    "    train_pred = estimator.predict(X_train)\n",
    "    val_pred = estimator.predict(X_test)\n",
    "    \n",
    "    # Calculate RMSE for training and validation sets\n",
    "    train_rmse = root_mean_squared_error(y_train, train_pred)\n",
    "    val_rmse = root_mean_squared_error(y_test, val_pred)\n",
    "    \n",
    "    print('Train RMSE:', train_rmse)\n",
    "    print('Test RMSE:', val_rmse)\n",
    "    print('Corr', np.corrcoef(y_test, val_pred)[0,1])\n",
    "    return train_rmse, val_rmse\n"
   ]
  },
  {
   "cell_type": "code",
   "execution_count": 6,
   "metadata": {},
   "outputs": [],
   "source": [
    "kfold = RepeatedKFold(n_splits=5, random_state=seed, n_repeats=2)"
   ]
  },
  {
   "cell_type": "code",
   "execution_count": 7,
   "metadata": {},
   "outputs": [
    {
     "name": "stdout",
     "output_type": "stream",
     "text": [
      "Best Parameters:  {'max_depth': 1, 'min_samples_leaf': 2, 'min_samples_split': 2}\n",
      "Best RMSE:  0.15742283115765657\n"
     ]
    }
   ],
   "source": [
    "dt = DecisionTreeRegressor(random_state=seed)\n",
    "\n",
    "# Define the parameter grid for decision tree regressor\n",
    "param_grid = {\n",
    "    'max_depth': [1,2,3],\n",
    "    'min_samples_split': [2,3,4],\n",
    "    'min_samples_leaf': [1,2,3]\n",
    "}\n",
    "dt_best_params, dt_best_score = grid_search(dt, param_grid, cv=kfold, X_train=X_train, y_train=y_train)\n"
   ]
  },
  {
   "cell_type": "code",
   "execution_count": 8,
   "metadata": {},
   "outputs": [
    {
     "name": "stdout",
     "output_type": "stream",
     "text": [
      "Train RMSE: 0.1429185614246393\n",
      "Test RMSE: 0.1546113013630925\n",
      "Corr -0.08363134843582593\n"
     ]
    }
   ],
   "source": [
    "dt =  DecisionTreeRegressor(**dt_best_params, random_state=seed)\n",
    "dt.fit(X_train, y_train)\n",
    "dt_train_error, dt_test_error= evaluate_estimator(dt, X_train=X_train, y_train=y_train, X_test=X_test, y_test=y_test)"
   ]
  },
  {
   "cell_type": "code",
   "execution_count": 9,
   "metadata": {},
   "outputs": [
    {
     "data": {
      "image/svg+xml": [
       "<?xml version=\"1.0\" encoding=\"UTF-8\" standalone=\"no\"?>\n",
       "<!DOCTYPE svg PUBLIC \"-//W3C//DTD SVG 1.1//EN\"\n",
       " \"http://www.w3.org/Graphics/SVG/1.1/DTD/svg11.dtd\">\n",
       "<!-- Generated by graphviz version 8.1.0 (20230707.0739)\n",
       " -->\n",
       "<!-- Title: Tree Pages: 1 -->\n",
       "<svg width=\"344pt\" height=\"176pt\"\n",
       " viewBox=\"0.00 0.00 343.50 175.50\" xmlns=\"http://www.w3.org/2000/svg\" xmlns:xlink=\"http://www.w3.org/1999/xlink\">\n",
       "<g id=\"graph0\" class=\"graph\" transform=\"scale(1 1) rotate(0) translate(4 171.5)\">\n",
       "<title>Tree</title>\n",
       "<polygon fill=\"white\" stroke=\"none\" points=\"-4,4 -4,-171.5 339.5,-171.5 339.5,4 -4,4\"/>\n",
       "<!-- 0 -->\n",
       "<g id=\"node1\" class=\"node\">\n",
       "<title>0</title>\n",
       "<path fill=\"#e78946\" stroke=\"black\" d=\"M267.12,-167.5C267.12,-167.5 67.38,-167.5 67.38,-167.5 61.38,-167.5 55.38,-161.5 55.38,-155.5 55.38,-155.5 55.38,-105.5 55.38,-105.5 55.38,-99.5 61.38,-93.5 67.38,-93.5 67.38,-93.5 267.12,-93.5 267.12,-93.5 273.12,-93.5 279.12,-99.5 279.12,-105.5 279.12,-105.5 279.12,-155.5 279.12,-155.5 279.12,-161.5 273.12,-167.5 267.12,-167.5\"/>\n",
       "<text text-anchor=\"start\" x=\"63.38\" y=\"-150.2\" font-family=\"Helvetica,sans-Serif\" font-size=\"14.00\">watery_by_100_milkings ≤ 3.097</text>\n",
       "<text text-anchor=\"start\" x=\"96\" y=\"-133.7\" font-family=\"Helvetica,sans-Serif\" font-size=\"14.00\">squared_error = 0.022</text>\n",
       "<text text-anchor=\"start\" x=\"120\" y=\"-117.2\" font-family=\"Helvetica,sans-Serif\" font-size=\"14.00\">samples = 226</text>\n",
       "<text text-anchor=\"start\" x=\"124.5\" y=\"-100.7\" font-family=\"Helvetica,sans-Serif\" font-size=\"14.00\">value = 3.333</text>\n",
       "</g>\n",
       "<!-- 1 -->\n",
       "<g id=\"node2\" class=\"node\">\n",
       "<title>1</title>\n",
       "<path fill=\"#e58139\" stroke=\"black\" d=\"M146.5,-57.5C146.5,-57.5 12,-57.5 12,-57.5 6,-57.5 0,-51.5 0,-45.5 0,-45.5 0,-12 0,-12 0,-6 6,0 12,0 12,0 146.5,0 146.5,0 152.5,0 158.5,-6 158.5,-12 158.5,-12 158.5,-45.5 158.5,-45.5 158.5,-51.5 152.5,-57.5 146.5,-57.5\"/>\n",
       "<text text-anchor=\"start\" x=\"8\" y=\"-40.2\" font-family=\"Helvetica,sans-Serif\" font-size=\"14.00\">squared_error = 0.017</text>\n",
       "<text text-anchor=\"start\" x=\"32\" y=\"-23.7\" font-family=\"Helvetica,sans-Serif\" font-size=\"14.00\">samples = 211</text>\n",
       "<text text-anchor=\"start\" x=\"36.5\" y=\"-7.2\" font-family=\"Helvetica,sans-Serif\" font-size=\"14.00\">value = 3.345</text>\n",
       "</g>\n",
       "<!-- 0&#45;&gt;1 -->\n",
       "<g id=\"edge1\" class=\"edge\">\n",
       "<title>0&#45;&gt;1</title>\n",
       "<path fill=\"none\" stroke=\"black\" d=\"M135.23,-93.21C127.33,-84.25 118.87,-74.66 110.98,-65.72\"/>\n",
       "<polygon fill=\"black\" stroke=\"black\" points=\"114.17,-63.91 104.93,-58.73 108.92,-68.54 114.17,-63.91\"/>\n",
       "<text text-anchor=\"middle\" x=\"102.37\" y=\"-77.63\" font-family=\"Helvetica,sans-Serif\" font-size=\"14.00\">True</text>\n",
       "</g>\n",
       "<!-- 2 -->\n",
       "<g id=\"node3\" class=\"node\">\n",
       "<title>2</title>\n",
       "<path fill=\"#ffffff\" stroke=\"black\" d=\"M323.5,-57.5C323.5,-57.5 189,-57.5 189,-57.5 183,-57.5 177,-51.5 177,-45.5 177,-45.5 177,-12 177,-12 177,-6 183,0 189,0 189,0 323.5,0 323.5,0 329.5,0 335.5,-6 335.5,-12 335.5,-12 335.5,-45.5 335.5,-45.5 335.5,-51.5 329.5,-57.5 323.5,-57.5\"/>\n",
       "<text text-anchor=\"start\" x=\"185\" y=\"-40.2\" font-family=\"Helvetica,sans-Serif\" font-size=\"14.00\">squared_error = 0.062</text>\n",
       "<text text-anchor=\"start\" x=\"213.12\" y=\"-23.7\" font-family=\"Helvetica,sans-Serif\" font-size=\"14.00\">samples = 15</text>\n",
       "<text text-anchor=\"start\" x=\"213.5\" y=\"-7.2\" font-family=\"Helvetica,sans-Serif\" font-size=\"14.00\">value = 3.172</text>\n",
       "</g>\n",
       "<!-- 0&#45;&gt;2 -->\n",
       "<g id=\"edge2\" class=\"edge\">\n",
       "<title>0&#45;&gt;2</title>\n",
       "<path fill=\"none\" stroke=\"black\" d=\"M199.63,-93.21C207.62,-84.25 216.18,-74.66 224.16,-65.72\"/>\n",
       "<polygon fill=\"black\" stroke=\"black\" points=\"226.24,-68.52 230.29,-58.73 221.02,-63.86 226.24,-68.52\"/>\n",
       "<text text-anchor=\"middle\" x=\"232.71\" y=\"-77.64\" font-family=\"Helvetica,sans-Serif\" font-size=\"14.00\">False</text>\n",
       "</g>\n",
       "</g>\n",
       "</svg>\n"
      ],
      "text/plain": [
       "<graphviz.sources.Source at 0x23dba72f750>"
      ]
     },
     "execution_count": 9,
     "metadata": {},
     "output_type": "execute_result"
    }
   ],
   "source": [
    "from sklearn import tree\n",
    "import graphviz\n",
    "dot_data = tree.export_graphviz(dt,\n",
    "                                out_file=None,\n",
    "                                feature_names=X_train.columns,\n",
    "                                filled=True,\n",
    "                                rounded=True,\n",
    "                                special_characters=True)\n",
    "\n",
    "# Create a Graphviz source object\n",
    "graph = graphviz.Source(dot_data)\n",
    "graph"
   ]
  },
  {
   "cell_type": "code",
   "execution_count": 10,
   "metadata": {},
   "outputs": [],
   "source": [
    "rf = RandomForestRegressor(random_state=seed)\n",
    "\n",
    "# Define the parameter grid for Random Forest Regressor\n",
    "param_grid = {\n",
    "    'n_estimators': [80,90,100],\n",
    "    'max_depth': [2, 3, 4]\n",
    "}\n",
    "rf_best_params, rf_best_score = grid_search(rf, param_grid, cv=kfold, X_train=X_train, y_train=y_train)"
   ]
  },
  {
   "cell_type": "code",
   "execution_count": null,
   "metadata": {},
   "outputs": [
    {
     "name": "stdout",
     "output_type": "stream",
     "text": [
      "Train RMSE: 0.10420689621301926\n",
      "Test RMSE: 0.14310367267056798\n"
     ]
    }
   ],
   "source": [
    "rf = RandomForestRegressor(**rf_best_params,random_state=seed)\n",
    "rf.fit(X_train, y_train)\n",
    "rf_train_error, rf_test_error= evaluate_estimator(rf, X_train=X_train, y_train=y_train, X_test=X_test, y_test=y_test)"
   ]
  },
  {
   "cell_type": "code",
   "execution_count": null,
   "metadata": {},
   "outputs": [
    {
     "name": "stdout",
     "output_type": "stream",
     "text": [
      "Best Parameters:  {'learning_rate': 0.05, 'max_depth': 2, 'n_estimators': 50}\n",
      "Best RMSE:  0.1456949668879271\n"
     ]
    }
   ],
   "source": [
    "gb = GradientBoostingRegressor(random_state=seed)\n",
    "\n",
    "# Define the parameter grid for Gradient Boosting Regressor\n",
    "param_grid = {\n",
    "    'n_estimators': [10, 25, 50, 75],\n",
    "    'learning_rate': [0.01, 0.05],\n",
    "    'max_depth': [1,2]\n",
    "}\n",
    "gb_best_params, gb_best_score = grid_search(gb, param_grid, cv=kfold, X_train=X_train, y_train=y_train)\n"
   ]
  },
  {
   "cell_type": "code",
   "execution_count": null,
   "metadata": {},
   "outputs": [
    {
     "name": "stdout",
     "output_type": "stream",
     "text": [
      "Train RMSE: 0.11397452713132661\n",
      "Test RMSE: 0.1445641894657515\n"
     ]
    }
   ],
   "source": [
    "gb = GradientBoostingRegressor(**gb_best_params,random_state=seed)\n",
    "gb.fit(X_train, y_train)\n",
    "gb_train_error, gb_test_error= evaluate_estimator(gb, X_train=X_train, y_train=y_train, X_test=X_test, y_test=y_test)"
   ]
  },
  {
   "cell_type": "code",
   "execution_count": null,
   "metadata": {},
   "outputs": [
    {
     "name": "stdout",
     "output_type": "stream",
     "text": [
      "Best Parameters:  {'C': 0.01, 'gamma': 0.001, 'kernel': 'linear'}\n",
      "Best RMSE:  0.14054827681629\n"
     ]
    }
   ],
   "source": [
    "svr = SVR()\n",
    "\n",
    "param_grid = {\n",
    "    'C': [0.001,0.01, 0.1],\n",
    "    'gamma': [0.001, 0.01, 0.1],\n",
    "    'kernel': ['linear', 'rbf']\n",
    "}\n",
    "svr_best_params, svr_best_score = grid_search(svr, param_grid, cv=kfold, X_train=X_train, y_train=y_train)\n"
   ]
  },
  {
   "cell_type": "code",
   "execution_count": null,
   "metadata": {},
   "outputs": [
    {
     "name": "stdout",
     "output_type": "stream",
     "text": [
      "Train RMSE: 0.13450316201035012\n",
      "Test RMSE: 0.140510465007968\n"
     ]
    }
   ],
   "source": [
    "svr = SVR(**svr_best_params)\n",
    "svr.fit(X_train, y_train)\n",
    "svr_train_error, svr_test_error= evaluate_estimator(svr, X_train=X_train, y_train=y_train, X_test=X_test, y_test=y_test)"
   ]
  },
  {
   "cell_type": "code",
   "execution_count": null,
   "metadata": {},
   "outputs": [
    {
     "name": "stdout",
     "output_type": "stream",
     "text": [
      "Best Parameters:  {}\n",
      "Best RMSE:  0.14169829011505466\n"
     ]
    }
   ],
   "source": [
    "lr =  LinearRegression()\n",
    "param_grid = {}\n",
    "lr_best_params, lr_best_score = grid_search(lr, param_grid, cv=kfold, X_train=X_train, y_train=y_train)\n"
   ]
  },
  {
   "cell_type": "code",
   "execution_count": null,
   "metadata": {},
   "outputs": [
    {
     "name": "stdout",
     "output_type": "stream",
     "text": [
      "Train RMSE: 0.13450316201035012\n",
      "Test RMSE: 0.140510465007968\n"
     ]
    }
   ],
   "source": [
    "lr = LinearRegression(**lr_best_params)\n",
    "svr.fit(X_train, y_train)\n",
    "svr_train_error, svr_test_error= evaluate_estimator(svr, X_train=X_train, y_train=y_train, X_test=X_test, y_test=y_test)"
   ]
  },
  {
   "cell_type": "code",
   "execution_count": null,
   "metadata": {},
   "outputs": [
    {
     "name": "stdout",
     "output_type": "stream",
     "text": [
      "Best Parameters:  {'alpha': 0.01, 'l1_ratio': 0.6}\n",
      "Best RMSE:  0.13951111251273013\n"
     ]
    }
   ],
   "source": [
    "en = ElasticNet()\n",
    "param_grid = {\n",
    "    'alpha': [0.001, 0.01, 0.1],\n",
    "    'l1_ratio': [0.3, 0.4,0.5,0.6,0.7]\n",
    "}\n",
    "en_best_params, en_best_score = grid_search(en, param_grid, cv=kfold, X_train=X_train, y_train=y_train)"
   ]
  },
  {
   "cell_type": "code",
   "execution_count": null,
   "metadata": {},
   "outputs": [
    {
     "name": "stdout",
     "output_type": "stream",
     "text": [
      "Train RMSE: 0.13407396884049835\n",
      "Test RMSE: 0.13871016226990393\n"
     ]
    }
   ],
   "source": [
    "en = ElasticNet(**en_best_params)\n",
    "en.fit(X_train, y_train)\n",
    "en_train_error, en_test_error= evaluate_estimator(en, X_train=X_train, y_train=y_train, X_test=X_test, y_test=y_test)"
   ]
  }
 ],
 "metadata": {
  "kernelspec": {
   "display_name": "Python 3",
   "language": "python",
   "name": "python3"
  },
  "language_info": {
   "codemirror_mode": {
    "name": "ipython",
    "version": 3
   },
   "file_extension": ".py",
   "mimetype": "text/x-python",
   "name": "python",
   "nbconvert_exporter": "python",
   "pygments_lexer": "ipython3",
   "version": "3.11.4"
  }
 },
 "nbformat": 4,
 "nbformat_minor": 2
}
