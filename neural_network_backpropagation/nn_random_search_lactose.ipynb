{
 "cells": [
  {
   "cell_type": "code",
   "execution_count": 1,
   "metadata": {},
   "outputs": [],
   "source": [
    "import os\n",
    "import sys\n",
    "\n",
    "\n",
    "parent_dir = os.path.abspath(os.path.join(os.path.dirname('../NEUROEVOLUTION'), '..'))\n",
    "if parent_dir not in sys.path:\n",
    "    sys.path.insert(0, parent_dir)\n",
    "    \n",
    "\n",
    "parent_dir = os.path.abspath(os.path.join(os.path.dirname('../NEUROEVOLUTION/gpolnel'), '..'))\n",
    "if parent_dir not in sys.path:\n",
    "    sys.path.insert(0, parent_dir)\n",
    "    \n",
    "\n",
    "from NEUROEVOLUTION.utils import seed\n",
    "\n",
    "import csv\n",
    "import numpy as np\n",
    "import pandas as pd\n",
    "import torch\n",
    "import torch.nn as nn\n",
    "import torch.optim\n",
    "\n",
    "from NEUROEVOLUTION.utils import kfold,seed, drop_features, save_best_params\n",
    "\n",
    "import pickle\n",
    "import random\n",
    "random.seed(seed)\n",
    "import torch\n",
    "import pickle\n",
    "torch.manual_seed(seed)\n",
    "\n",
    "from nn_utils import nn_cross_validation, create_random_model, random_optimizer\n",
    "target = 'lactose'"
   ]
  },
  {
   "cell_type": "code",
   "execution_count": 2,
   "metadata": {},
   "outputs": [],
   "source": [
    "X = pd.read_csv('../datamart/data_project_nel.csv')\n",
    "X = drop_features(X)\n",
    "y = pd.read_csv('../datamart/y_' + f'{target}'+ '.csv')['lactose_percent']"
   ]
  },
  {
   "cell_type": "code",
   "execution_count": 3,
   "metadata": {},
   "outputs": [
    {
     "name": "stdout",
     "output_type": "stream",
     "text": [
      "cv_score: 0.0590872\n",
      "New best cv_score: 0.05908719822764397 at search 1\n",
      "cv_score: 4.2945633\n",
      "cv_score: 4.5531583\n",
      "cv_score: 3.4659553\n"
     ]
    }
   ],
   "source": [
    "batch_sizes = [5,10,15,20,25]\n",
    "learning_rates = [0.0001, 0.001, 0.01, 0.1]\n",
    "n_epoches = [25, 50, 75, 100, 250, 500, 1000]\n",
    "weight_decays = [0.0, 0.1, 0.01, 0.001, 0.0001] \n",
    "loss_fn = nn.MSELoss()\n",
    "\n",
    "best_score = np.inf\n",
    "\n",
    "name = 'logs/' +f'{target}' + '/random_search_total' + '.csv'\n",
    "with open(name, 'w', newline='\\n') as csvfile:\n",
    "    w = csv.writer(csvfile, delimiter=';')\n",
    "    w.writerow(['id']+['model']+['optimizer']+['learning_rate']+['l2']+['batch_size']+['n_epochs']+['cv_score'])\n",
    "\n",
    "\n",
    "for i in range(1,50):\n",
    "\n",
    "    batch_size = random.choice(batch_sizes)\n",
    "    model = create_random_model()\n",
    "    lr = random.choice(learning_rates)\n",
    "    optimizer_name = random_optimizer()\n",
    "    n_epochs = random.choice(n_epoches)\n",
    "    weight_decay = random.choice(weight_decays)\n",
    "    \n",
    "    log_path_cv = 'logs/' + f'{target}'+'/' + f'{i}' + '_cv_results.csv'\n",
    "    log_path_train = 'logs/'+ f'{target}'+ '/train_logs.csv'\n",
    "    \n",
    "    score = nn_cross_validation(X_train=X, y_train=y, model=model, loss_fn=loss_fn, optimizer_name = optimizer_name,lr=lr, weight_decay=weight_decay,  n_epochs=n_epochs, batch_size=batch_size,kf=kfold, cv_log_path=log_path_cv, train_log_path=log_path_train)\n",
    "    print('cv_score:', score)\n",
    "    with open(name, 'a', newline='\\n') as csvfile:\n",
    "        w = csv.writer(csvfile, delimiter=';')\n",
    "        w.writerow([i]+[f'{model}']+[f'{optimizer_name}']+[lr]+[weight_decay]+[batch_size]+[n_epochs]+[score])\n",
    "    \n",
    "    if score < best_score:\n",
    "        best_score = score\n",
    "        print(f'New best cv_score: {best_score} at search {i}')\n",
    "        best_params = {\n",
    "            'X': X,\n",
    "            'y': y,\n",
    "            'batch_size': batch_size,\n",
    "            'kfold': kfold,\n",
    "            'n_epochs': n_epochs,\n",
    "            'model': model,\n",
    "            'lr': lr,\n",
    "            'optimizer_name': optimizer_name,\n",
    "            'weight_decay': weight_decay,\n",
    "            'loss_fn': loss_fn,\n",
    "            'id': i,\n",
    "        }\n",
    "        save_best_params('best_params/'+ f'{target}' + '-best_params-' + f'{i}' +'.pkl', best_params)\n",
    "        \n",
    "        \n",
    "save_best_params('best_params/'+ f'{target}' + '-best_params_final.pkl', best_params)"
   ]
  }
 ],
 "metadata": {
  "kernelspec": {
   "display_name": "Python 3",
   "language": "python",
   "name": "python3"
  },
  "language_info": {
   "codemirror_mode": {
    "name": "ipython",
    "version": 3
   },
   "file_extension": ".py",
   "mimetype": "text/x-python",
   "name": "python",
   "nbconvert_exporter": "python",
   "pygments_lexer": "ipython3",
   "version": "3.11.4"
  }
 },
 "nbformat": 4,
 "nbformat_minor": 2
}
