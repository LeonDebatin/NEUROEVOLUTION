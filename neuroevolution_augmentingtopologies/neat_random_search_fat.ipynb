{
 "cells": [
  {
   "cell_type": "code",
   "execution_count": null,
   "metadata": {},
   "outputs": [],
   "source": [
    "import numpy as np\n",
    "import pandas as pd\n",
    "import random\n",
    "import csv\n",
    "import sys\n",
    "import os\n",
    "parent_dir = os.path.abspath(os.path.join(os.path.dirname('../NEUROEVOLUTION'), '..'))\n",
    "if parent_dir not in sys.path:\n",
    "    sys.path.insert(0, parent_dir)\n",
    "    \n",
    "from neat_utils import neat_cross_validation\n",
    "from NEUROEVOLUTION.utils import drop_features, kfold, save_best_params, seed\n",
    "\n",
    "target = 'fat'\n"
   ]
  },
  {
   "cell_type": "code",
   "execution_count": null,
   "metadata": {},
   "outputs": [],
   "source": [
    "X = pd.read_csv('../datamart/data_project_nel.csv')\n",
    "X = drop_features(X)\n",
    "y = pd.read_csv('../datamart/y_' + f'{target}'+ '.csv')[f'{target}'+'_percent']"
   ]
  },
  {
   "cell_type": "code",
   "execution_count": null,
   "metadata": {},
   "outputs": [],
   "source": [
    "n_iters = [25, 50, 75, 100]\n",
    "best_score = np.inf\n",
    "name = 'logs/' +f'{target}' + '/random_search_total' + '.csv'\n",
    "\n",
    "with open(name, 'a', newline='\\n') as csvfile:\n",
    "        w = csv.writer(csvfile, delimiter=';')\n",
    "        w.writerow(['i'] + ['n_iter'] + ['config_file']+ ['score'])\n",
    "\n",
    "\n",
    "for i in range(1,50):\n",
    "    config_n = random.choice([1,2,3,4,5,6])\n",
    "    config_file = f'configs/config_{config_n}'\n",
    "    \n",
    "    n_iter = random.choice(n_iters)\n",
    "    \n",
    "    log_path_cv = 'logs/' + f'{target}'+'/' + f'{i}' + '_cv_results.csv'\n",
    "    log_path_train = 'logs/'+ f'{target}'+ '/train_logs.csv'\n",
    "    \n",
    "    \n",
    "    score = neat_cross_validation(X, y, config_file, kfold, n_iter, train_log_path = log_path_train, cv_log_path = log_path_cv, id=i)\n",
    "    \n",
    "    with open(name, 'a', newline='\\n') as csvfile:\n",
    "        w = csv.writer(csvfile, delimiter=';')\n",
    "        w.writerow([i] + [n_iter] + [config_file]+ [score])\n",
    "    \n",
    "    if score < best_score:\n",
    "        best_score = score\n",
    "        print(f'New best cv_score: {best_score} at search {i}')\n",
    "        best = score\n",
    "        best_config = config_file\n",
    "        best_iter = n_iter\n",
    "        best_params = {\n",
    "            'X': X,\n",
    "            'y': y,\n",
    "            'n_iter': n_iter,\n",
    "            'config_file': config_file,\n",
    "        }\n",
    "        save_best_params('best_params/'+ f'{target}' + '-best_params-' + f'{i}' +'.pkl', best_params)\n",
    "\n",
    "save_best_params('best_params/'+ f'{target}' + '-best_params_final.pkl', best_params)"
   ]
  }
 ],
 "metadata": {
  "kernelspec": {
   "display_name": "Python 3 (ipykernel)",
   "language": "python",
   "name": "python3"
  },
  "language_info": {
   "codemirror_mode": {
    "name": "ipython",
    "version": 3
   },
   "file_extension": ".py",
   "mimetype": "text/x-python",
   "name": "python",
   "nbconvert_exporter": "python",
   "pygments_lexer": "ipython3",
   "version": "3.11.4"
  }
 },
 "nbformat": 4,
 "nbformat_minor": 4
}
