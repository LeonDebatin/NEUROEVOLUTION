{
 "cells": [
  {
   "cell_type": "code",
   "execution_count": 1,
   "metadata": {},
   "outputs": [],
   "source": [
    "import numpy as np\n",
    "import pandas as pd\n",
    "import random\n",
    "import csv\n",
    "import sys\n",
    "import os\n",
    "parent_dir = os.path.abspath(os.path.join(os.path.dirname('../NEUROEVOLUTION'), '..'))\n",
    "if parent_dir not in sys.path:\n",
    "    sys.path.insert(0, parent_dir)\n",
    "    \n",
    "from neat_utils import neat_cross_validation\n",
    "from NEUROEVOLUTION.utils import drop_features, kfold, save_best_params, seed\n",
    "\n",
    "target = 'fat'\n"
   ]
  },
  {
   "cell_type": "code",
   "execution_count": 2,
   "metadata": {},
   "outputs": [],
   "source": [
    "X = pd.read_csv('../datamart/data_project_nel.csv')\n",
    "X = drop_features(X)\n",
    "y = pd.read_csv('../datamart/y_' + f'{target}'+ '.csv')['lactose_percent']"
   ]
  },
  {
   "cell_type": "code",
   "execution_count": 3,
   "metadata": {},
   "outputs": [
    {
     "ename": "KeyboardInterrupt",
     "evalue": "",
     "output_type": "error",
     "traceback": [
      "\u001b[1;31m---------------------------------------------------------------------------\u001b[0m",
      "\u001b[1;31mKeyboardInterrupt\u001b[0m                         Traceback (most recent call last)",
      "Cell \u001b[1;32mIn[3], line 20\u001b[0m\n\u001b[0;32m     16\u001b[0m log_path_cv \u001b[38;5;241m=\u001b[39m \u001b[38;5;124m'\u001b[39m\u001b[38;5;124mlogs/\u001b[39m\u001b[38;5;124m'\u001b[39m \u001b[38;5;241m+\u001b[39m \u001b[38;5;124mf\u001b[39m\u001b[38;5;124m'\u001b[39m\u001b[38;5;132;01m{\u001b[39;00mtarget\u001b[38;5;132;01m}\u001b[39;00m\u001b[38;5;124m'\u001b[39m\u001b[38;5;241m+\u001b[39m\u001b[38;5;124m'\u001b[39m\u001b[38;5;124m/\u001b[39m\u001b[38;5;124m'\u001b[39m \u001b[38;5;241m+\u001b[39m \u001b[38;5;124mf\u001b[39m\u001b[38;5;124m'\u001b[39m\u001b[38;5;132;01m{\u001b[39;00mi\u001b[38;5;132;01m}\u001b[39;00m\u001b[38;5;124m'\u001b[39m \u001b[38;5;241m+\u001b[39m \u001b[38;5;124m'\u001b[39m\u001b[38;5;124m_cv_results.csv\u001b[39m\u001b[38;5;124m'\u001b[39m\n\u001b[0;32m     17\u001b[0m log_path_train \u001b[38;5;241m=\u001b[39m \u001b[38;5;124m'\u001b[39m\u001b[38;5;124mlogs/\u001b[39m\u001b[38;5;124m'\u001b[39m\u001b[38;5;241m+\u001b[39m \u001b[38;5;124mf\u001b[39m\u001b[38;5;124m'\u001b[39m\u001b[38;5;132;01m{\u001b[39;00mtarget\u001b[38;5;132;01m}\u001b[39;00m\u001b[38;5;124m'\u001b[39m\u001b[38;5;241m+\u001b[39m \u001b[38;5;124m'\u001b[39m\u001b[38;5;124m/train_logs.csv\u001b[39m\u001b[38;5;124m'\u001b[39m\n\u001b[1;32m---> 20\u001b[0m score \u001b[38;5;241m=\u001b[39m \u001b[43mneat_cross_validation\u001b[49m\u001b[43m(\u001b[49m\u001b[43mX\u001b[49m\u001b[43m,\u001b[49m\u001b[43m \u001b[49m\u001b[43my\u001b[49m\u001b[43m,\u001b[49m\u001b[43m \u001b[49m\u001b[43mconfig_file\u001b[49m\u001b[43m,\u001b[49m\u001b[43m \u001b[49m\u001b[43mkfold\u001b[49m\u001b[43m,\u001b[49m\u001b[43m \u001b[49m\u001b[43mn_iter\u001b[49m\u001b[43m,\u001b[49m\u001b[43m \u001b[49m\u001b[43mtrain_log_path\u001b[49m\u001b[43m \u001b[49m\u001b[38;5;241;43m=\u001b[39;49m\u001b[43m \u001b[49m\u001b[43mlog_path_train\u001b[49m\u001b[43m,\u001b[49m\u001b[43m \u001b[49m\u001b[43mcv_log_path\u001b[49m\u001b[43m \u001b[49m\u001b[38;5;241;43m=\u001b[39;49m\u001b[43m \u001b[49m\u001b[43mlog_path_cv\u001b[49m\u001b[43m,\u001b[49m\u001b[43m \u001b[49m\u001b[38;5;28;43mid\u001b[39;49m\u001b[38;5;241;43m=\u001b[39;49m\u001b[43mi\u001b[49m\u001b[43m)\u001b[49m\n\u001b[0;32m     22\u001b[0m \u001b[38;5;28;01mwith\u001b[39;00m \u001b[38;5;28mopen\u001b[39m(name, \u001b[38;5;124m'\u001b[39m\u001b[38;5;124ma\u001b[39m\u001b[38;5;124m'\u001b[39m, newline\u001b[38;5;241m=\u001b[39m\u001b[38;5;124m'\u001b[39m\u001b[38;5;130;01m\\n\u001b[39;00m\u001b[38;5;124m'\u001b[39m) \u001b[38;5;28;01mas\u001b[39;00m csvfile:\n\u001b[0;32m     23\u001b[0m     w \u001b[38;5;241m=\u001b[39m csv\u001b[38;5;241m.\u001b[39mwriter(csvfile, delimiter\u001b[38;5;241m=\u001b[39m\u001b[38;5;124m'\u001b[39m\u001b[38;5;124m;\u001b[39m\u001b[38;5;124m'\u001b[39m)\n",
      "File \u001b[1;32mc:\\Users\\leond\\OneDrive\\Desktop\\NeuroEvolutionaryLearning\\Git\\NEUROEVOLUTION\\neuroevolution_augmentingtopologies\\neat_utils.py:80\u001b[0m, in \u001b[0;36mneat_cross_validation\u001b[1;34m(X_train, y_train, config_path, kf, n_iter, train_log_path, cv_log_path, id)\u001b[0m\n\u001b[0;32m     72\u001b[0m X_train_cross, X_val \u001b[38;5;241m=\u001b[39m X_train_cross\u001b[38;5;241m.\u001b[39mto_numpy(), X_val\u001b[38;5;241m.\u001b[39mto_numpy()\n\u001b[0;32m     74\u001b[0m \u001b[38;5;66;03m# X_train_cross = torch.tensor(X_train_cross.values, dtype=torch.float32)\u001b[39;00m\n\u001b[0;32m     75\u001b[0m \u001b[38;5;66;03m# X_val = torch.tensor(X_val.values, dtype=torch.float32)\u001b[39;00m\n\u001b[0;32m     76\u001b[0m \u001b[38;5;66;03m# y_train_cross = torch.tensor(y_train_cross.values, dtype=torch.float32).reshape(-1, 1)\u001b[39;00m\n\u001b[0;32m     77\u001b[0m \u001b[38;5;66;03m# y_val = torch.tensor(y_val.values, dtype=torch.float32).reshape(-1, 1)\u001b[39;00m\n\u001b[1;32m---> 80\u001b[0m model \u001b[38;5;241m=\u001b[39m \u001b[43mneat_train\u001b[49m\u001b[43m(\u001b[49m\u001b[43mX_train_cross\u001b[49m\u001b[43m,\u001b[49m\u001b[43m \u001b[49m\u001b[43my_train_cross\u001b[49m\u001b[43m,\u001b[49m\u001b[43m \u001b[49m\u001b[43mX_val\u001b[49m\u001b[43m,\u001b[49m\u001b[43m \u001b[49m\u001b[43my_val\u001b[49m\u001b[43m,\u001b[49m\u001b[43m \u001b[49m\u001b[43mconfig_path\u001b[49m\u001b[43m,\u001b[49m\u001b[43m \u001b[49m\u001b[43mlog_path\u001b[49m\u001b[43m \u001b[49m\u001b[38;5;241;43m=\u001b[39;49m\u001b[43m \u001b[49m\u001b[43mtrain_log_path\u001b[49m\u001b[43m,\u001b[49m\u001b[43m \u001b[49m\u001b[43mn_iter\u001b[49m\u001b[38;5;241;43m=\u001b[39;49m\u001b[43mn_iter\u001b[49m\u001b[43m)\u001b[49m\n\u001b[0;32m     82\u001b[0m score \u001b[38;5;241m=\u001b[39m model\u001b[38;5;241m.\u001b[39mfitness_val \u001b[38;5;241m*\u001b[39m\u001b[38;5;241m-\u001b[39m\u001b[38;5;241m1\u001b[39m\n\u001b[0;32m     84\u001b[0m cv_logger_append(cv_log_path, \u001b[38;5;28mid\u001b[39m, fold, score, \u001b[38;5;124m'\u001b[39m\u001b[38;5;124mrepr\u001b[39m\u001b[38;5;124m'\u001b[39m)\n",
      "File \u001b[1;32mc:\\Users\\leond\\OneDrive\\Desktop\\NeuroEvolutionaryLearning\\Git\\NEUROEVOLUTION\\neuroevolution_augmentingtopologies\\neat_utils.py:38\u001b[0m, in \u001b[0;36mneat_train\u001b[1;34m(X_train, y_train, X_val, y_val, config_path, n_iter, log_path)\u001b[0m\n\u001b[0;32m     36\u001b[0m stats \u001b[38;5;241m=\u001b[39m neat\u001b[38;5;241m.\u001b[39mStatisticsReporter()\n\u001b[0;32m     37\u001b[0m p\u001b[38;5;241m.\u001b[39madd_reporter(stats)\n\u001b[1;32m---> 38\u001b[0m winner \u001b[38;5;241m=\u001b[39m \u001b[43mp\u001b[49m\u001b[38;5;241;43m.\u001b[39;49m\u001b[43mrun\u001b[49m\u001b[43m(\u001b[49m\u001b[43meval_genomes\u001b[49m\u001b[43m,\u001b[49m\u001b[43m \u001b[49m\u001b[43mn_iter\u001b[49m\u001b[43m)\u001b[49m\n\u001b[0;32m     41\u001b[0m iterations \u001b[38;5;241m=\u001b[39m \u001b[38;5;28mrange\u001b[39m(\u001b[38;5;241m0\u001b[39m,n_iter)\n\u001b[0;32m     42\u001b[0m best \u001b[38;5;241m=\u001b[39m [c\u001b[38;5;241m.\u001b[39mfitness\u001b[38;5;241m*\u001b[39m\u001b[38;5;241m-\u001b[39m\u001b[38;5;241m1\u001b[39m \u001b[38;5;28;01mfor\u001b[39;00m c \u001b[38;5;129;01min\u001b[39;00m stats\u001b[38;5;241m.\u001b[39mmost_fit_genomes]\n",
      "File \u001b[1;32mc:\\Users\\leond\\AppData\\Local\\Programs\\Python\\Python311\\Lib\\site-packages\\neat\\population.py:89\u001b[0m, in \u001b[0;36mPopulation.run\u001b[1;34m(self, fitness_function, n)\u001b[0m\n\u001b[0;32m     86\u001b[0m \u001b[38;5;28mself\u001b[39m\u001b[38;5;241m.\u001b[39mreporters\u001b[38;5;241m.\u001b[39mstart_generation(\u001b[38;5;28mself\u001b[39m\u001b[38;5;241m.\u001b[39mgeneration)\n\u001b[0;32m     88\u001b[0m \u001b[38;5;66;03m# Evaluate all genomes using the user-provided function.\u001b[39;00m\n\u001b[1;32m---> 89\u001b[0m \u001b[43mfitness_function\u001b[49m\u001b[43m(\u001b[49m\u001b[38;5;28;43mlist\u001b[39;49m\u001b[43m(\u001b[49m\u001b[43miteritems\u001b[49m\u001b[43m(\u001b[49m\u001b[38;5;28;43mself\u001b[39;49m\u001b[38;5;241;43m.\u001b[39;49m\u001b[43mpopulation\u001b[49m\u001b[43m)\u001b[49m\u001b[43m)\u001b[49m\u001b[43m,\u001b[49m\u001b[43m \u001b[49m\u001b[38;5;28;43mself\u001b[39;49m\u001b[38;5;241;43m.\u001b[39;49m\u001b[43mconfig\u001b[49m\u001b[43m)\u001b[49m\n\u001b[0;32m     91\u001b[0m \u001b[38;5;66;03m# Gather and report statistics.\u001b[39;00m\n\u001b[0;32m     92\u001b[0m best \u001b[38;5;241m=\u001b[39m \u001b[38;5;28;01mNone\u001b[39;00m\n",
      "File \u001b[1;32mc:\\Users\\leond\\OneDrive\\Desktop\\NeuroEvolutionaryLearning\\Git\\NEUROEVOLUTION\\neuroevolution_augmentingtopologies\\neat_utils.py:29\u001b[0m, in \u001b[0;36mneat_train.<locals>.eval_genomes\u001b[1;34m(genomes, config)\u001b[0m\n\u001b[0;32m     23\u001b[0m \u001b[38;5;250m\u001b[39m\u001b[38;5;124;03m'''\u001b[39;00m\n\u001b[0;32m     24\u001b[0m \u001b[38;5;124;03mThe function used by NEAT-Python to evaluate the fitness of the genomes.\u001b[39;00m\n\u001b[0;32m     25\u001b[0m \u001b[38;5;124;03m-> It has to have the two first arguments equals to the genomes and config objects.\u001b[39;00m\n\u001b[0;32m     26\u001b[0m \u001b[38;5;124;03m-> It has to update the `fitness` attribute of the genome.\u001b[39;00m\n\u001b[0;32m     27\u001b[0m \u001b[38;5;124;03m'''\u001b[39;00m\n\u001b[0;32m     28\u001b[0m \u001b[38;5;28;01mfor\u001b[39;00m genome_id, genome \u001b[38;5;129;01min\u001b[39;00m genomes:\n\u001b[1;32m---> 29\u001b[0m     net \u001b[38;5;241m=\u001b[39m \u001b[43mneat\u001b[49m\u001b[38;5;241;43m.\u001b[39;49m\u001b[43mnn\u001b[49m\u001b[38;5;241;43m.\u001b[39;49m\u001b[43mFeedForwardNetwork\u001b[49m\u001b[38;5;241;43m.\u001b[39;49m\u001b[43mcreate\u001b[49m\u001b[43m(\u001b[49m\u001b[43mgenome\u001b[49m\u001b[43m,\u001b[49m\u001b[43m \u001b[49m\u001b[43mconfig\u001b[49m\u001b[43m)\u001b[49m\n\u001b[0;32m     30\u001b[0m     genome\u001b[38;5;241m.\u001b[39mfitness \u001b[38;5;241m=\u001b[39m eval_rmse(net, X_train, y_train)\n\u001b[0;32m     31\u001b[0m     genome\u001b[38;5;241m.\u001b[39mfitness_val \u001b[38;5;241m=\u001b[39m eval_rmse(net, X_val, y_val)\n",
      "File \u001b[1;32mc:\\Users\\leond\\AppData\\Local\\Programs\\Python\\Python311\\Lib\\site-packages\\neat\\nn\\feed_forward.py:35\u001b[0m, in \u001b[0;36mFeedForwardNetwork.create\u001b[1;34m(genome, config)\u001b[0m\n\u001b[0;32m     32\u001b[0m \u001b[38;5;66;03m# Gather expressed connections.\u001b[39;00m\n\u001b[0;32m     33\u001b[0m connections \u001b[38;5;241m=\u001b[39m [cg\u001b[38;5;241m.\u001b[39mkey \u001b[38;5;28;01mfor\u001b[39;00m cg \u001b[38;5;129;01min\u001b[39;00m itervalues(genome\u001b[38;5;241m.\u001b[39mconnections) \u001b[38;5;28;01mif\u001b[39;00m cg\u001b[38;5;241m.\u001b[39menabled]\n\u001b[1;32m---> 35\u001b[0m layers \u001b[38;5;241m=\u001b[39m \u001b[43mfeed_forward_layers\u001b[49m\u001b[43m(\u001b[49m\u001b[43mconfig\u001b[49m\u001b[38;5;241;43m.\u001b[39;49m\u001b[43mgenome_config\u001b[49m\u001b[38;5;241;43m.\u001b[39;49m\u001b[43minput_keys\u001b[49m\u001b[43m,\u001b[49m\u001b[43m \u001b[49m\u001b[43mconfig\u001b[49m\u001b[38;5;241;43m.\u001b[39;49m\u001b[43mgenome_config\u001b[49m\u001b[38;5;241;43m.\u001b[39;49m\u001b[43moutput_keys\u001b[49m\u001b[43m,\u001b[49m\u001b[43m \u001b[49m\u001b[43mconnections\u001b[49m\u001b[43m)\u001b[49m\n\u001b[0;32m     36\u001b[0m node_evals \u001b[38;5;241m=\u001b[39m []\n\u001b[0;32m     37\u001b[0m \u001b[38;5;28;01mfor\u001b[39;00m layer \u001b[38;5;129;01min\u001b[39;00m layers:\n",
      "File \u001b[1;32mc:\\Users\\leond\\AppData\\Local\\Programs\\Python\\Python311\\Lib\\site-packages\\neat\\graphs.py:58\u001b[0m, in \u001b[0;36mfeed_forward_layers\u001b[1;34m(inputs, outputs, connections)\u001b[0m\n\u001b[0;32m     53\u001b[0m         s \u001b[38;5;241m=\u001b[39m s\u001b[38;5;241m.\u001b[39munion(t)\n\u001b[0;32m     55\u001b[0m     \u001b[38;5;28;01mreturn\u001b[39;00m required\n\u001b[1;32m---> 58\u001b[0m \u001b[38;5;28;01mdef\u001b[39;00m \u001b[38;5;21mfeed_forward_layers\u001b[39m(inputs, outputs, connections):\n\u001b[0;32m     59\u001b[0m \u001b[38;5;250m    \u001b[39m\u001b[38;5;124;03m\"\"\"\u001b[39;00m\n\u001b[0;32m     60\u001b[0m \u001b[38;5;124;03m    Collect the layers whose members can be evaluated in parallel in a feed-forward network.\u001b[39;00m\n\u001b[0;32m     61\u001b[0m \u001b[38;5;124;03m    :param inputs: list of the network input nodes\u001b[39;00m\n\u001b[1;32m   (...)\u001b[0m\n\u001b[0;32m     67\u001b[0m \u001b[38;5;124;03m    never used to compute the final network output.\u001b[39;00m\n\u001b[0;32m     68\u001b[0m \u001b[38;5;124;03m    \"\"\"\u001b[39;00m\n\u001b[0;32m     70\u001b[0m     required \u001b[38;5;241m=\u001b[39m required_for_output(inputs, outputs, connections)\n",
      "\u001b[1;31mKeyboardInterrupt\u001b[0m: "
     ]
    }
   ],
   "source": [
    "n_iters = [25, 50, 75, 100]\n",
    "best_score = np.inf\n",
    "name = 'logs/' +f'{target}' + '/random_search_total' + '.csv'\n",
    "\n",
    "with open(name, 'a', newline='\\n') as csvfile:\n",
    "        w = csv.writer(csvfile, delimiter=';')\n",
    "        w.writerow(['i'] + ['n_iter'] + ['config_file']+ ['score'])\n",
    "\n",
    "\n",
    "for i in range(1,50):\n",
    "    config_n = random.choice([1,2,3,4,5,6])\n",
    "    config_file = f'configs/config_{config_n}'\n",
    "    \n",
    "    n_iter = random.choice(n_iters)\n",
    "    \n",
    "    log_path_cv = 'logs/' + f'{target}'+'/' + f'{i}' + '_cv_results.csv'\n",
    "    log_path_train = 'logs/'+ f'{target}'+ '/train_logs.csv'\n",
    "    \n",
    "    \n",
    "    score = neat_cross_validation(X, y, config_file, kfold, n_iter, train_log_path = log_path_train, cv_log_path = log_path_cv, id=i)\n",
    "    \n",
    "    with open(name, 'a', newline='\\n') as csvfile:\n",
    "        w = csv.writer(csvfile, delimiter=';')\n",
    "        w.writerow([i] + [n_iter] + [config_file]+ [score])\n",
    "    \n",
    "    if score < best_score:\n",
    "        best_score = score\n",
    "        print(f'New best cv_score: {best_score} at search {i}')\n",
    "        best = score\n",
    "        best_config = config_file\n",
    "        best_iter = n_iter\n",
    "        best_params = {\n",
    "            'X': X,\n",
    "            'y': y,\n",
    "            'n_iter': n_iter,\n",
    "            'config_file': config_file,\n",
    "        }\n",
    "        save_best_params('best_params/'+ f'{target}' + '-best_params-' + f'{i}' +'.pkl', best_params)\n",
    "\n",
    "save_best_params('best_params/'+ f'{target}' + '-best_params_final.pkl', best_params)"
   ]
  }
 ],
 "metadata": {
  "kernelspec": {
   "display_name": "Python 3 (ipykernel)",
   "language": "python",
   "name": "python3"
  },
  "language_info": {
   "codemirror_mode": {
    "name": "ipython",
    "version": 3
   },
   "file_extension": ".py",
   "mimetype": "text/x-python",
   "name": "python",
   "nbconvert_exporter": "python",
   "pygments_lexer": "ipython3",
   "version": "3.11.4"
  }
 },
 "nbformat": 4,
 "nbformat_minor": 4
}
