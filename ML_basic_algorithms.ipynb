{
 "cells": [
  {
   "cell_type": "code",
   "execution_count": 13,
   "metadata": {},
   "outputs": [],
   "source": [
    "import pandas as pd\n",
    "from sklearn.tree import DecisionTreeRegressor\n",
    "from sklearn.ensemble import GradientBoostingRegressor\n",
    "from sklearn.ensemble import RandomForestRegressor\n",
    "from sklearn.model_selection import GridSearchCV, StratifiedKFold\n",
    "from sklearn.linear_model import LinearRegression\n",
    "from sklearn.svm import SVR\n",
    "import numpy as np\n",
    "from sklearn.metrics import mean_squared_error\n",
    "from sklearn.metrics import make_scorer\n",
    "from sklearn.metrics import mean_squared_error\n",
    "from sklearn.metrics import mean_absolute_error\n",
    "from sklearn.metrics import root_mean_squared_error\n",
    "import numpy as np\n",
    "from sklearn.linear_model import ElasticNet\n",
    "from sklearn.model_selection import RepeatedKFold\n",
    "from sklearn.model_selection import GridSearchCV, KFold\n",
    "import numpy as np\n",
    "import copy\n",
    "seed=1"
   ]
  },
  {
   "cell_type": "code",
   "execution_count": 14,
   "metadata": {},
   "outputs": [],
   "source": [
    "X_train = pd.read_csv('./datamart/X_train_clipped_scaled.csv') #X_train_clipped_scaled\n",
    "y_train = pd.read_csv('./datamart/y_lactose_train.csv').values.ravel()\n",
    "X_test = pd.read_csv('./datamart/X_test_clipped_scaled.csv') #X_test_clipped_scaled\n",
    "y_test = pd.read_csv('./datamart/y_lactose_test.csv').values.ravel()"
   ]
  },
  {
   "cell_type": "code",
   "execution_count": 15,
   "metadata": {},
   "outputs": [
    {
     "name": "stdout",
     "output_type": "stream",
     "text": [
      "0.06369677074425789\n",
      "0.06442381583211654\n"
     ]
    }
   ],
   "source": [
    "mean = y_train.mean()\n",
    "median = np.median(y_train)\n",
    "print(root_mean_squared_error(y_test, [mean for i in range(len(y_test))]))\n",
    "print(root_mean_squared_error(y_test, [median for i in range(len(y_test))]))"
   ]
  },
  {
   "cell_type": "code",
   "execution_count": 16,
   "metadata": {},
   "outputs": [],
   "source": [
    "def grid_search(estimator, param_grid, cv, fit_params=None, X_train=None, y_train=None):\n",
    "\n",
    "    # Define the grid search with RMSE scoring\n",
    "    grid_search = GridSearchCV(estimator, param_grid, scoring='neg_root_mean_squared_error', cv=cv)\n",
    "    \n",
    "    # Fit the grid search\n",
    "    if fit_params is not None:\n",
    "        grid_search.fit(X_train, y_train, **fit_params)\n",
    "    else:\n",
    "        grid_search.fit(X_train, y_train)\n",
    "    \n",
    "    # Get the best parameters and best score\n",
    "    best_params = grid_search.best_params_\n",
    "    best_params = {key.split('__', 1)[1] if '__' in key else key: value for key, value in best_params.items()}\n",
    "    best_score = grid_search.best_score_\n",
    "    \n",
    "    # Convert negative MSE to RMSE\n",
    "    best_rmse = best_score * -1\n",
    "    \n",
    "    print(\"Best Parameters: \", best_params)\n",
    "    print(\"Best RMSE: \", best_rmse)\n",
    "    \n",
    "    return best_params, best_rmse\n"
   ]
  },
  {
   "cell_type": "code",
   "execution_count": 17,
   "metadata": {},
   "outputs": [],
   "source": [
    "def evaluate_estimator(estimator, X_train, y_train, X_test, y_test):\n",
    "\n",
    "    # Predict on training and validation data\n",
    "    train_pred = estimator.predict(X_train)\n",
    "    val_pred = estimator.predict(X_test)\n",
    "    \n",
    "    # Calculate RMSE for training and validation sets\n",
    "    train_rmse = root_mean_squared_error(y_train, train_pred)\n",
    "    val_rmse = root_mean_squared_error(y_test, val_pred)\n",
    "    \n",
    "    print('Train RMSE:', train_rmse)\n",
    "    print('Test RMSE:', val_rmse)\n",
    "    print('Corr', np.corrcoef(y_test, val_pred)[0,1])\n",
    "    return train_rmse, val_rmse\n"
   ]
  },
  {
   "cell_type": "code",
   "execution_count": 18,
   "metadata": {},
   "outputs": [],
   "source": [
    "kfold = RepeatedKFold(n_splits=5, random_state=seed, n_repeats=2)"
   ]
  },
  {
   "cell_type": "code",
   "execution_count": 19,
   "metadata": {},
   "outputs": [
    {
     "name": "stdout",
     "output_type": "stream",
     "text": [
      "Best Parameters:  {'max_depth': 1, 'min_samples_leaf': 1, 'min_samples_split': 2}\n",
      "Best RMSE:  0.06297306354854927\n"
     ]
    }
   ],
   "source": [
    "dt = DecisionTreeRegressor(random_state=seed)\n",
    "\n",
    "# Define the parameter grid for decision tree regressor\n",
    "param_grid = {\n",
    "    'max_depth': [1,2,3],\n",
    "    'min_samples_split': [2,3,4],\n",
    "    'min_samples_leaf': [1,2,3]\n",
    "}\n",
    "dt_best_params, dt_best_score = grid_search(dt, param_grid, cv=kfold, X_train=X_train, y_train=y_train)\n"
   ]
  },
  {
   "cell_type": "code",
   "execution_count": 20,
   "metadata": {},
   "outputs": [
    {
     "name": "stdout",
     "output_type": "stream",
     "text": [
      "Train RMSE: 0.060303376681384684\n",
      "Test RMSE: 0.06244530793324499\n",
      "Corr 0.24568874301974966\n"
     ]
    }
   ],
   "source": [
    "dt =  DecisionTreeRegressor(**dt_best_params, random_state=seed)\n",
    "dt.fit(X_train, y_train)\n",
    "dt_train_error, dt_test_error= evaluate_estimator(dt, X_train=X_train, y_train=y_train, X_test=X_test, y_test=y_test)"
   ]
  },
  {
   "cell_type": "code",
   "execution_count": 21,
   "metadata": {},
   "outputs": [
    {
     "data": {
      "image/svg+xml": [
       "<?xml version=\"1.0\" encoding=\"UTF-8\" standalone=\"no\"?>\n",
       "<!DOCTYPE svg PUBLIC \"-//W3C//DTD SVG 1.1//EN\"\n",
       " \"http://www.w3.org/Graphics/SVG/1.1/DTD/svg11.dtd\">\n",
       "<!-- Generated by graphviz version 8.1.0 (20230707.0739)\n",
       " -->\n",
       "<!-- Title: Tree Pages: 1 -->\n",
       "<svg width=\"344pt\" height=\"176pt\"\n",
       " viewBox=\"0.00 0.00 343.50 175.50\" xmlns=\"http://www.w3.org/2000/svg\" xmlns:xlink=\"http://www.w3.org/1999/xlink\">\n",
       "<g id=\"graph0\" class=\"graph\" transform=\"scale(1 1) rotate(0) translate(4 171.5)\">\n",
       "<title>Tree</title>\n",
       "<polygon fill=\"white\" stroke=\"none\" points=\"-4,4 -4,-171.5 339.5,-171.5 339.5,4 -4,4\"/>\n",
       "<!-- 0 -->\n",
       "<g id=\"node1\" class=\"node\">\n",
       "<title>0</title>\n",
       "<path fill=\"#f7d7c1\" stroke=\"black\" d=\"M234.5,-167.5C234.5,-167.5 100,-167.5 100,-167.5 94,-167.5 88,-161.5 88,-155.5 88,-155.5 88,-105.5 88,-105.5 88,-99.5 94,-93.5 100,-93.5 100,-93.5 234.5,-93.5 234.5,-93.5 240.5,-93.5 246.5,-99.5 246.5,-105.5 246.5,-105.5 246.5,-155.5 246.5,-155.5 246.5,-161.5 240.5,-167.5 234.5,-167.5\"/>\n",
       "<text text-anchor=\"start\" x=\"99.75\" y=\"-150.2\" font-family=\"Helvetica,sans-Serif\" font-size=\"14.00\">milk_kg_day ≤ &#45;0.511</text>\n",
       "<text text-anchor=\"start\" x=\"96\" y=\"-133.7\" font-family=\"Helvetica,sans-Serif\" font-size=\"14.00\">squared_error = 0.004</text>\n",
       "<text text-anchor=\"start\" x=\"120\" y=\"-117.2\" font-family=\"Helvetica,sans-Serif\" font-size=\"14.00\">samples = 226</text>\n",
       "<text text-anchor=\"start\" x=\"124.5\" y=\"-100.7\" font-family=\"Helvetica,sans-Serif\" font-size=\"14.00\">value = 4.889</text>\n",
       "</g>\n",
       "<!-- 1 -->\n",
       "<g id=\"node2\" class=\"node\">\n",
       "<title>1</title>\n",
       "<path fill=\"#e58139\" stroke=\"black\" d=\"M146.5,-57.5C146.5,-57.5 12,-57.5 12,-57.5 6,-57.5 0,-51.5 0,-45.5 0,-45.5 0,-12 0,-12 0,-6 6,0 12,0 12,0 146.5,0 146.5,0 152.5,0 158.5,-6 158.5,-12 158.5,-12 158.5,-45.5 158.5,-45.5 158.5,-51.5 152.5,-57.5 146.5,-57.5\"/>\n",
       "<text text-anchor=\"start\" x=\"8\" y=\"-40.2\" font-family=\"Helvetica,sans-Serif\" font-size=\"14.00\">squared_error = 0.004</text>\n",
       "<text text-anchor=\"start\" x=\"36.12\" y=\"-23.7\" font-family=\"Helvetica,sans-Serif\" font-size=\"14.00\">samples = 71</text>\n",
       "<text text-anchor=\"start\" x=\"36.5\" y=\"-7.2\" font-family=\"Helvetica,sans-Serif\" font-size=\"14.00\">value = 4.924</text>\n",
       "</g>\n",
       "<!-- 0&#45;&gt;1 -->\n",
       "<g id=\"edge1\" class=\"edge\">\n",
       "<title>0&#45;&gt;1</title>\n",
       "<path fill=\"none\" stroke=\"black\" d=\"M135.23,-93.21C127.33,-84.25 118.87,-74.66 110.98,-65.72\"/>\n",
       "<polygon fill=\"black\" stroke=\"black\" points=\"114.17,-63.91 104.93,-58.73 108.92,-68.54 114.17,-63.91\"/>\n",
       "<text text-anchor=\"middle\" x=\"102.37\" y=\"-77.63\" font-family=\"Helvetica,sans-Serif\" font-size=\"14.00\">True</text>\n",
       "</g>\n",
       "<!-- 2 -->\n",
       "<g id=\"node3\" class=\"node\">\n",
       "<title>2</title>\n",
       "<path fill=\"#ffffff\" stroke=\"black\" d=\"M323.5,-57.5C323.5,-57.5 189,-57.5 189,-57.5 183,-57.5 177,-51.5 177,-45.5 177,-45.5 177,-12 177,-12 177,-6 183,0 189,0 189,0 323.5,0 323.5,0 329.5,0 335.5,-6 335.5,-12 335.5,-12 335.5,-45.5 335.5,-45.5 335.5,-51.5 329.5,-57.5 323.5,-57.5\"/>\n",
       "<text text-anchor=\"start\" x=\"185\" y=\"-40.2\" font-family=\"Helvetica,sans-Serif\" font-size=\"14.00\">squared_error = 0.004</text>\n",
       "<text text-anchor=\"start\" x=\"209\" y=\"-23.7\" font-family=\"Helvetica,sans-Serif\" font-size=\"14.00\">samples = 155</text>\n",
       "<text text-anchor=\"start\" x=\"213.5\" y=\"-7.2\" font-family=\"Helvetica,sans-Serif\" font-size=\"14.00\">value = 4.873</text>\n",
       "</g>\n",
       "<!-- 0&#45;&gt;2 -->\n",
       "<g id=\"edge2\" class=\"edge\">\n",
       "<title>0&#45;&gt;2</title>\n",
       "<path fill=\"none\" stroke=\"black\" d=\"M199.63,-93.21C207.62,-84.25 216.18,-74.66 224.16,-65.72\"/>\n",
       "<polygon fill=\"black\" stroke=\"black\" points=\"226.24,-68.52 230.29,-58.73 221.02,-63.86 226.24,-68.52\"/>\n",
       "<text text-anchor=\"middle\" x=\"232.71\" y=\"-77.64\" font-family=\"Helvetica,sans-Serif\" font-size=\"14.00\">False</text>\n",
       "</g>\n",
       "</g>\n",
       "</svg>\n"
      ],
      "text/plain": [
       "<graphviz.sources.Source at 0x1d4980d7e10>"
      ]
     },
     "execution_count": 21,
     "metadata": {},
     "output_type": "execute_result"
    }
   ],
   "source": [
    "from sklearn import tree\n",
    "import graphviz\n",
    "dot_data = tree.export_graphviz(dt,\n",
    "                                out_file=None,\n",
    "                                feature_names=X_train.columns,\n",
    "                                filled=True,\n",
    "                                rounded=True,\n",
    "                                special_characters=True)\n",
    "\n",
    "# Create a Graphviz source object\n",
    "graph = graphviz.Source(dot_data)\n",
    "graph"
   ]
  },
  {
   "cell_type": "code",
   "execution_count": 22,
   "metadata": {},
   "outputs": [
    {
     "name": "stdout",
     "output_type": "stream",
     "text": [
      "Best Parameters:  {'max_depth': 2, 'n_estimators': 90}\n",
      "Best RMSE:  0.06040034345620034\n"
     ]
    }
   ],
   "source": [
    "rf = RandomForestRegressor(random_state=seed)\n",
    "\n",
    "# Define the parameter grid for Random Forest Regressor\n",
    "param_grid = {\n",
    "    'n_estimators': [80,90,100],\n",
    "    'max_depth': [2, 3, 4]\n",
    "}\n",
    "rf_best_params, rf_best_score = grid_search(rf, param_grid, cv=kfold, X_train=X_train, y_train=y_train)"
   ]
  },
  {
   "cell_type": "code",
   "execution_count": 23,
   "metadata": {},
   "outputs": [
    {
     "name": "stdout",
     "output_type": "stream",
     "text": [
      "Train RMSE: 0.054197908833190096\n",
      "Test RMSE: 0.06108490702348537\n",
      "Corr 0.30538597804313067\n"
     ]
    }
   ],
   "source": [
    "rf = RandomForestRegressor(**rf_best_params,random_state=seed)\n",
    "rf.fit(X_train, y_train)\n",
    "rf_train_error, rf_test_error= evaluate_estimator(rf, X_train=X_train, y_train=y_train, X_test=X_test, y_test=y_test)"
   ]
  },
  {
   "cell_type": "code",
   "execution_count": 24,
   "metadata": {},
   "outputs": [
    {
     "name": "stdout",
     "output_type": "stream",
     "text": [
      "Best Parameters:  {'learning_rate': 0.05, 'max_depth': 1, 'n_estimators': 75}\n",
      "Best RMSE:  0.060608729512555345\n"
     ]
    }
   ],
   "source": [
    "gb = GradientBoostingRegressor(random_state=seed)\n",
    "\n",
    "# Define the parameter grid for Gradient Boosting Regressor\n",
    "param_grid = {\n",
    "    'n_estimators': [10, 25, 50, 75],\n",
    "    'learning_rate': [0.01, 0.05],\n",
    "    'max_depth': [1,2]\n",
    "}\n",
    "gb_best_params, gb_best_score = grid_search(gb, param_grid, cv=kfold, X_train=X_train, y_train=y_train)\n"
   ]
  },
  {
   "cell_type": "code",
   "execution_count": 25,
   "metadata": {},
   "outputs": [
    {
     "name": "stdout",
     "output_type": "stream",
     "text": [
      "Train RMSE: 0.05561668834590839\n",
      "Test RMSE: 0.06076479419058459\n",
      "Corr 0.3285098302818489\n"
     ]
    }
   ],
   "source": [
    "gb = GradientBoostingRegressor(**gb_best_params,random_state=seed)\n",
    "gb.fit(X_train, y_train)\n",
    "gb_train_error, gb_test_error= evaluate_estimator(gb, X_train=X_train, y_train=y_train, X_test=X_test, y_test=y_test)"
   ]
  },
  {
   "cell_type": "code",
   "execution_count": 26,
   "metadata": {},
   "outputs": [
    {
     "name": "stdout",
     "output_type": "stream",
     "text": [
      "Best Parameters:  {'C': 0.1, 'gamma': 0.1, 'kernel': 'rbf'}\n",
      "Best RMSE:  0.061196074897829286\n"
     ]
    }
   ],
   "source": [
    "svr = SVR()\n",
    "\n",
    "param_grid = {\n",
    "    'C': [0.001,0.01, 0.1],\n",
    "    'gamma': [0.001, 0.01, 0.1],\n",
    "    'kernel': ['linear', 'rbf']\n",
    "}\n",
    "svr_best_params, svr_best_score = grid_search(svr, param_grid, cv=kfold, X_train=X_train, y_train=y_train)\n"
   ]
  },
  {
   "cell_type": "code",
   "execution_count": 27,
   "metadata": {},
   "outputs": [
    {
     "name": "stdout",
     "output_type": "stream",
     "text": [
      "Train RMSE: 0.05555812501008992\n",
      "Test RMSE: 0.06026391318457922\n",
      "Corr 0.36302459151890243\n"
     ]
    }
   ],
   "source": [
    "svr = SVR(**svr_best_params)\n",
    "svr.fit(X_train, y_train)\n",
    "svr_train_error, svr_test_error= evaluate_estimator(svr, X_train=X_train, y_train=y_train, X_test=X_test, y_test=y_test)"
   ]
  },
  {
   "cell_type": "code",
   "execution_count": 28,
   "metadata": {},
   "outputs": [
    {
     "name": "stdout",
     "output_type": "stream",
     "text": [
      "Best Parameters:  {}\n",
      "Best RMSE:  0.05975898467443528\n"
     ]
    }
   ],
   "source": [
    "lr =  LinearRegression()\n",
    "param_grid = {}\n",
    "lr_best_params, lr_best_score = grid_search(lr, param_grid, cv=kfold, X_train=X_train, y_train=y_train)\n"
   ]
  },
  {
   "cell_type": "code",
   "execution_count": 29,
   "metadata": {},
   "outputs": [
    {
     "name": "stdout",
     "output_type": "stream",
     "text": [
      "Train RMSE: 0.05555812501008992\n",
      "Test RMSE: 0.06026391318457922\n",
      "Corr 0.36302459151890243\n"
     ]
    }
   ],
   "source": [
    "lr = LinearRegression(**lr_best_params)\n",
    "svr.fit(X_train, y_train)\n",
    "svr_train_error, svr_test_error= evaluate_estimator(svr, X_train=X_train, y_train=y_train, X_test=X_test, y_test=y_test)"
   ]
  },
  {
   "cell_type": "code",
   "execution_count": 30,
   "metadata": {},
   "outputs": [
    {
     "name": "stdout",
     "output_type": "stream",
     "text": [
      "Best Parameters:  {'alpha': 0.01, 'l1_ratio': 0.4}\n",
      "Best RMSE:  0.05865081111844798\n"
     ]
    }
   ],
   "source": [
    "en = ElasticNet()\n",
    "param_grid = {\n",
    "    'alpha': [0.001, 0.01, 0.1],\n",
    "    'l1_ratio': [0.3, 0.4,0.5,0.6]\n",
    "}\n",
    "en_best_params, en_best_score = grid_search(en, param_grid, cv=kfold, X_train=X_train, y_train=y_train)"
   ]
  },
  {
   "cell_type": "code",
   "execution_count": 31,
   "metadata": {},
   "outputs": [
    {
     "name": "stdout",
     "output_type": "stream",
     "text": [
      "Train RMSE: 0.05760682665423563\n",
      "Test RMSE: 0.05830582626815553\n",
      "Corr 0.4037614596577001\n"
     ]
    }
   ],
   "source": [
    "en = ElasticNet(**en_best_params)\n",
    "en.fit(X_train, y_train)\n",
    "en_train_error, en_test_error= evaluate_estimator(en, X_train=X_train, y_train=y_train, X_test=X_test, y_test=y_test)"
   ]
  }
 ],
 "metadata": {
  "kernelspec": {
   "display_name": "Python 3",
   "language": "python",
   "name": "python3"
  },
  "language_info": {
   "codemirror_mode": {
    "name": "ipython",
    "version": 3
   },
   "file_extension": ".py",
   "mimetype": "text/x-python",
   "name": "python",
   "nbconvert_exporter": "python",
   "pygments_lexer": "ipython3",
   "version": "3.11.4"
  }
 },
 "nbformat": 4,
 "nbformat_minor": 2
}
