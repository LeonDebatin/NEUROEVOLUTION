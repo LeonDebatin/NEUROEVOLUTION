{
 "cells": [
  {
   "cell_type": "markdown",
   "id": "aacc9a5a-247a-4d48-b15a-e2bf2b29d2fa",
   "metadata": {},
   "source": [
    "# Symbolic Regression with Tree Based GSGP"
   ]
  },
  {
   "cell_type": "markdown",
   "id": "d7029dad-15d0-459e-8a29-5db0940c5601",
   "metadata": {},
   "source": [
    "In this notebook, we will study the use of GPOL-based for *Semantic* Genetic Porgramming.\n",
    "\n",
    "The main steps are the same used for conventional GP:\n",
    "\n",
    "> 1. Search space definition\n",
    "> 2. Problem instance definition\n",
    "> 3. Algorithm instantiation\n",
    "    "
   ]
  },
  {
   "cell_type": "markdown",
   "id": "34d0e606-7cc9-4686-aa4b-becae7db131b",
   "metadata": {},
   "source": [
    "## Environment preparation\n",
    "\n",
    "### Imports"
   ]
  },
  {
   "cell_type": "code",
   "execution_count": 1,
   "id": "9b8d7150",
   "metadata": {},
   "outputs": [],
   "source": [
    "import os\n",
    "import copy\n",
    "import torch\n",
    "import json\n",
    "import time\n",
    "import math\n",
    "import csv\n",
    "import pandas as pd\n",
    "import matplotlib.pyplot as plt\n",
    "\n",
    "from gpolnel.utils.datasets import load_boston\n",
    "from torch.utils.data import TensorDataset, DataLoader\n",
    "\n",
    "from gpolnel.problems.inductive_programming import SML\n",
    "from gpolnel.utils.utils import train_test_split\n",
    "from gpolnel.utils.ffunctions import Ffunctions\n",
    "from gpolnel.utils.tree import Tree\n",
    "from gpolnel.utils.inductive_programming import function_map\n",
    "from gpolnel.algorithms.genetic_algorithm import GeneticAlgorithm\n",
    "from gpolnel.operators.initializers import grow, prm_grow, ERC, Terminal\n",
    "from gpolnel.operators.variators import prm_gs_xo, prm_gs_mtn\n",
    "from gpolnel.operators.selectors import prm_tournament\n"
   ]
  },
  {
   "cell_type": "markdown",
   "id": "abb4a444",
   "metadata": {},
   "source": [
    "### Global settings"
   ]
  },
  {
   "cell_type": "code",
   "execution_count": 2,
   "id": "99dec5c0",
   "metadata": {},
   "outputs": [],
   "source": [
    "seed = 1\n",
    "# device = 'cuda' if torch.cuda.is_available() else 'cpu'\n",
    "device = 'mps' if torch.backends.mps.is_available() else 'cpu'\n",
    "    "
   ]
  },
  {
   "cell_type": "markdown",
   "id": "5bbdd45b",
   "metadata": {},
   "source": [
    "### Data load"
   ]
  },
  {
   "cell_type": "code",
   "execution_count": 3,
   "id": "90ffa1b6-2e05-4025-97b7-77e0c2d9a54a",
   "metadata": {},
   "outputs": [
    {
     "name": "stdout",
     "output_type": "stream",
     "text": [
      "Batch size: 226\n",
      "Total batches: 1\n",
      "\n",
      "Train:\t226\n",
      "Val:\t98\n",
      "Test:\t98\n",
      "Total:\t422\n"
     ]
    }
   ],
   "source": [
    "# Data split\n",
    "X_train = torch.tensor(pd.read_csv('datamart/X_train.csv').values)\n",
    "X_test = torch.tensor(pd.read_csv('datamart/X_test.csv').values)\n",
    "y_train = torch.tensor(pd.read_csv('datamart/y_lactose_train.csv')['lactose_percent'].values)\n",
    "y_test = torch.tensor(pd.read_csv('datamart/y_lactose_test.csv')['lactose_percent'].values)\n",
    "\n",
    "shuffle, p_test, p_val, n_batches_pct = True, .3, .3, 1\n",
    "total_batches = 1\n",
    "batch_size = X_train.shape[0]\n",
    "print('Batch size: {}\\nTotal batches: {}\\n'.format(batch_size, total_batches))\n",
    "\n",
    "print('Train:\\t{}\\nVal:\\t{}\\nTest:\\t{}'.format(X_train.shape[0], X_test.shape[0], X_test.shape[0]))\n",
    "print('Total:\\t{}'.format(X_train.shape[0] + X_test.shape[0] + X_test.shape[0]))\n",
    "\n",
    "# Creates training and validatation data sets\n",
    "ds_train = TensorDataset(X_train, y_train)\n",
    "ds_val = TensorDataset(X_test, y_test)\n",
    "\n",
    "# Creates training and test data loaders\n",
    "dl_train = DataLoader(ds_train, batch_size, shuffle)\n",
    "dl_val = DataLoader(ds_val, batch_size, shuffle)"
   ]
  },
  {
   "cell_type": "markdown",
   "id": "00fa477e-94b6-4d7f-8e3f-ec70f891b41b",
   "metadata": {},
   "source": [
    "<br />\n",
    "\n",
    "So far, we have just repeated the steps of the GP notebook, except that we have imported specific GSGP libraries.\n",
    "\n",
    "<br />"
   ]
  },
  {
   "cell_type": "markdown",
   "id": "5e846989",
   "metadata": {},
   "source": [
    "### 1. Search space definition\n",
    "\n",
    "As the example is for tree-based GP, the search space is almost the same...\n",
    "\n",
    "> *Which is the difference of GP and GSGP serach space definition? Why is it?*\n"
   ]
  },
  {
   "cell_type": "code",
   "execution_count": 4,
   "id": "c1dd536a",
   "metadata": {},
   "outputs": [],
   "source": [
    "fset = [function_map['add'], function_map['sub'], function_map['mul'], function_map['div']]\n",
    "\n",
    "sspace_sml_gs = {\n",
    "    'n_dims': X_train.shape[1],\n",
    "    'function_set': fset, 'constant_set': ERC(-1., 1.),\n",
    "    'p_constants': 0.1,\n",
    "    'max_init_depth': 3,\n",
    "    'device': device,\n",
    "    'n_batches': 1\n",
    "}\n"
   ]
  },
  {
   "cell_type": "markdown",
   "id": "e44cc6ff",
   "metadata": {},
   "source": [
    "### 2. SML Problem instance\n"
   ]
  },
  {
   "cell_type": "code",
   "execution_count": 5,
   "id": "a73dae30",
   "metadata": {},
   "outputs": [],
   "source": [
    "pi_sml = SML(\n",
    "    sspace=sspace_sml_gs,\n",
    "    ffunction=Ffunctions('rmse'),\n",
    "    dl_train=dl_train, dl_test=dl_val\n",
    ")\n"
   ]
  },
  {
   "cell_type": "markdown",
   "id": "fbc1cdca",
   "metadata": {},
   "source": [
    "### 3. GSGP instance"
   ]
  },
  {
   "cell_type": "code",
   "execution_count": 6,
   "id": "647be754-d819-4b35-990e-2274324a6178",
   "metadata": {},
   "outputs": [
    {
     "name": "stdout",
     "output_type": "stream",
     "text": [
      "tensor([0.2500, 0.5000, 0.7500, 1.0000, 1.2500, 1.5000, 1.7500, 2.0000, 2.2500,\n",
      "        2.5000, 2.7500, 3.0000, 3.2500, 3.5000, 3.7500, 4.0000, 4.2500, 4.5000,\n",
      "        4.7500, 5.0000])\n"
     ]
    }
   ],
   "source": [
    "# Defines GSM’s steps\n",
    "to, by = 5.0, 0.25\n",
    "ms = torch.arange(by, to + by, by, device=device)\n",
    "\n",
    "print(ms)\n"
   ]
  },
  {
   "cell_type": "code",
   "execution_count": 7,
   "id": "e888cd1e",
   "metadata": {},
   "outputs": [
    {
     "name": "stdout",
     "output_type": "stream",
     "text": [
      "['./log/intro_gsgp.log', './log/reconstruct\\\\rts', './log/reconstruct\\\\init_pop']\n"
     ]
    }
   ],
   "source": [
    "# Setup logging properties\n",
    "file_dir = './log/'\n",
    "file_name = 'intro_gsgp.log'\n",
    "log_path = file_dir + file_name\n",
    "path_rts = os.path.join(file_dir, 'reconstruct', 'rts')\n",
    "path_init_pop = os.path.join(file_dir, 'reconstruct', 'init_pop')\n",
    "\n",
    "if os.path.exists(file_dir + file_name):\n",
    "    os.remove(file_dir + file_name)\n",
    "if not os.path.exists(file_dir):\n",
    "    os.makedirs(file_dir)\n",
    "\n",
    "for path_i in [file_dir, path_init_pop, path_rts]:\n",
    "    if not os.path.exists(path_i):\n",
    "        os.makedirs(path_i)\n",
    "\n",
    "print([log_path, path_rts, path_init_pop])\n"
   ]
  },
  {
   "cell_type": "code",
   "execution_count": 11,
   "id": "a966200c-5ab3-47fb-a06d-dd9b780762aa",
   "metadata": {},
   "outputs": [],
   "source": [
    "ps = 10\n",
    "selection_pressure = .07\n",
    "mutation_prob = .1\n",
    "xo_prob = .9\n",
    "has_elitism = True\n",
    "allow_reproduction = False\n",
    "\n",
    "mheuristic = GeneticAlgorithm(\n",
    "    pi=pi_sml,\n",
    "    initializer=grow,\n",
    "    selector=prm_tournament(pressure=selection_pressure),\n",
    "    pop_size=ps,\n",
    "    p_m=mutation_prob,\n",
    "    p_c=xo_prob,\n",
    "    elitism=has_elitism,\n",
    "    reproduction=allow_reproduction,  # False = or xo or mutation\n",
    "    device=device,\n",
    "    seed=seed,\n",
    "    #\n",
    "    # Notice that, in GPOL-based implementation that we are using, \n",
    "    # these operators are the only settings that \n",
    "    # are necessary to define a Geometric Semantic GP.\n",
    "    #\n",
    "    crossover=prm_gs_xo(prm_grow(sspace=pi_sml.sspace), device=device),\n",
    "    mutator=prm_gs_mtn(prm_grow(sspace=pi_sml.sspace), ms)\n",
    ")\n"
   ]
  },
  {
   "cell_type": "markdown",
   "id": "2567a875-5aa0-451e-824f-ea0aa20fe6d9",
   "metadata": {},
   "source": [
    "### GSGP initialization"
   ]
  },
  {
   "cell_type": "code",
   "execution_count": 12,
   "id": "4cac1311-c8b0-4455-9f15-eab923d5d3b5",
   "metadata": {},
   "outputs": [
    {
     "ename": "TypeError",
     "evalue": "prm_grow() got an unexpected keyword argument 'n_sols'",
     "output_type": "error",
     "traceback": [
      "\u001b[1;31m---------------------------------------------------------------------------\u001b[0m",
      "\u001b[1;31mTypeError\u001b[0m                                 Traceback (most recent call last)",
      "Cell \u001b[1;32mIn[12], line 1\u001b[0m\n\u001b[1;32m----> 1\u001b[0m \u001b[43mmheuristic\u001b[49m\u001b[38;5;241;43m.\u001b[39;49m\u001b[43m_initialize\u001b[49m\u001b[43m(\u001b[49m\u001b[43m)\u001b[49m\n",
      "File \u001b[1;32mc:\\Users\\leond\\OneDrive\\Desktop\\NeuroEvolutionaryLearning\\Project\\gpolnel\\algorithms\\population_based.py:105\u001b[0m, in \u001b[0;36mPopulationBased._initialize\u001b[1;34m(self, start_at, tree)\u001b[0m\n\u001b[0;32m    103\u001b[0m     pop_repr\u001b[38;5;241m.\u001b[39mextend(start_at)\n\u001b[0;32m    104\u001b[0m \u001b[38;5;66;03m# Initializes pop_size individuals by means of 'initializer' function\u001b[39;00m\n\u001b[1;32m--> 105\u001b[0m pop_repr\u001b[38;5;241m.\u001b[39mextend(\u001b[38;5;28;43mself\u001b[39;49m\u001b[38;5;241;43m.\u001b[39;49m\u001b[43minitializer\u001b[49m\u001b[43m(\u001b[49m\u001b[43msspace\u001b[49m\u001b[38;5;241;43m=\u001b[39;49m\u001b[38;5;28;43mself\u001b[39;49m\u001b[38;5;241;43m.\u001b[39;49m\u001b[43mpi\u001b[49m\u001b[38;5;241;43m.\u001b[39;49m\u001b[43msspace\u001b[49m\u001b[43m,\u001b[49m\u001b[43m \u001b[49m\u001b[43mn_sols\u001b[49m\u001b[38;5;241;43m=\u001b[39;49m\u001b[43mpop_size\u001b[49m\u001b[43m)\u001b[49m)\n\u001b[0;32m    106\u001b[0m \u001b[38;5;66;03m# Stacks population's representation, if candidate solutions are objects of type torch.tensor\u001b[39;00m\n\u001b[0;32m    107\u001b[0m \u001b[38;5;28;01mif\u001b[39;00m \u001b[38;5;28misinstance\u001b[39m(pop_repr[\u001b[38;5;241m0\u001b[39m], torch\u001b[38;5;241m.\u001b[39mTensor):\n",
      "\u001b[1;31mTypeError\u001b[0m: prm_grow() got an unexpected keyword argument 'n_sols'"
     ]
    }
   ],
   "source": [
    "mheuristic._initialize()"
   ]
  },
  {
   "cell_type": "code",
   "execution_count": 14,
   "id": "f71fcb4f-d30f-4dfb-80bf-0295a936877b",
   "metadata": {},
   "outputs": [
    {
     "name": "stdout",
     "output_type": "stream",
     "text": [
      "None\n"
     ]
    }
   ],
   "source": [
    "print(mheuristic.pop)"
   ]
  },
  {
   "cell_type": "code",
   "execution_count": 15,
   "id": "a23eea6d-9e68-48eb-a19b-8b780ee81ce1",
   "metadata": {},
   "outputs": [
    {
     "ename": "AttributeError",
     "evalue": "'NoneType' object has no attribute 'fit'",
     "output_type": "error",
     "traceback": [
      "\u001b[1;31m---------------------------------------------------------------------------\u001b[0m",
      "\u001b[1;31mAttributeError\u001b[0m                            Traceback (most recent call last)",
      "Cell \u001b[1;32mIn[15], line 1\u001b[0m\n\u001b[1;32m----> 1\u001b[0m \u001b[43mmheuristic\u001b[49m\u001b[38;5;241;43m.\u001b[39;49m\u001b[43mbest_sol\u001b[49m\u001b[38;5;241;43m.\u001b[39;49m\u001b[43mfit\u001b[49m\n",
      "\u001b[1;31mAttributeError\u001b[0m: 'NoneType' object has no attribute 'fit'"
     ]
    }
   ],
   "source": [
    "mheuristic.best_sol.fit"
   ]
  },
  {
   "cell_type": "code",
   "execution_count": 16,
   "id": "7e4b3f1c-6a72-4d55-82da-2d5ad94a7b12",
   "metadata": {},
   "outputs": [
    {
     "ename": "AttributeError",
     "evalue": "'NoneType' object has no attribute 'printTree'",
     "output_type": "error",
     "traceback": [
      "\u001b[1;31m---------------------------------------------------------------------------\u001b[0m",
      "\u001b[1;31mAttributeError\u001b[0m                            Traceback (most recent call last)",
      "Cell \u001b[1;32mIn[16], line 1\u001b[0m\n\u001b[1;32m----> 1\u001b[0m \u001b[43mmheuristic\u001b[49m\u001b[38;5;241;43m.\u001b[39;49m\u001b[43mbest_sol\u001b[49m\u001b[38;5;241;43m.\u001b[39;49m\u001b[43mprintTree\u001b[49m()\n",
      "\u001b[1;31mAttributeError\u001b[0m: 'NoneType' object has no attribute 'printTree'"
     ]
    }
   ],
   "source": [
    "mheuristic.best_sol.printTree()"
   ]
  },
  {
   "cell_type": "markdown",
   "id": "f4b589e6-f591-4fba-a73a-602095179663",
   "metadata": {},
   "source": [
    "<hr />\n",
    "\n",
    "##### **Exercise 1**\n",
    "**Implement the Geometric Semantic Crossover and Mutation proposed by Moraglio et al. 2012.**\n",
    "\n",
    "\\>> *The GSXO and GSM implementation will be evaluated in the final project. Its solution will be provided before the project delivery, so it is a basic implementation exercise.*\n",
    "\n",
    "\n",
    "<hr />\n",
    "\n",
    "<br />"
   ]
  },
  {
   "cell_type": "markdown",
   "id": "6a310fe4-4d76-47d1-88fb-a771e02210a1",
   "metadata": {},
   "source": [
    "### Solve"
   ]
  },
  {
   "cell_type": "code",
   "execution_count": 13,
   "id": "542c69e7-906b-4e30-b5c7-ce047380da1f",
   "metadata": {},
   "outputs": [
    {
     "ename": "TypeError",
     "evalue": "prm_grow() got an unexpected keyword argument 'n_sols'",
     "output_type": "error",
     "traceback": [
      "\u001b[1;31m---------------------------------------------------------------------------\u001b[0m",
      "\u001b[1;31mTypeError\u001b[0m                                 Traceback (most recent call last)",
      "Cell \u001b[1;32mIn[13], line 2\u001b[0m\n\u001b[0;32m      1\u001b[0m n_iter \u001b[38;5;241m=\u001b[39m \u001b[38;5;241m100\u001b[39m\n\u001b[1;32m----> 2\u001b[0m \u001b[43mmheuristic\u001b[49m\u001b[38;5;241;43m.\u001b[39;49m\u001b[43msolve\u001b[49m\u001b[43m(\u001b[49m\n\u001b[0;32m      3\u001b[0m \u001b[43m    \u001b[49m\u001b[43mn_iter\u001b[49m\u001b[38;5;241;43m=\u001b[39;49m\u001b[43mn_iter\u001b[49m\u001b[43m,\u001b[49m\n\u001b[0;32m      4\u001b[0m \u001b[43m    \u001b[49m\u001b[43mverbose\u001b[49m\u001b[38;5;241;43m=\u001b[39;49m\u001b[38;5;241;43m5\u001b[39;49m\u001b[43m,\u001b[49m\u001b[43m \u001b[49m\u001b[43mlog\u001b[49m\u001b[38;5;241;43m=\u001b[39;49m\u001b[38;5;241;43m2\u001b[39;49m\u001b[43m,\u001b[49m\u001b[43m \u001b[49m\u001b[43mlog_path\u001b[49m\u001b[38;5;241;43m=\u001b[39;49m\u001b[43mlog_path\u001b[49m\u001b[43m,\u001b[49m\n\u001b[0;32m      5\u001b[0m \u001b[43m    \u001b[49m\u001b[43mtest_elite\u001b[49m\u001b[38;5;241;43m=\u001b[39;49m\u001b[38;5;28;43;01mTrue\u001b[39;49;00m\n\u001b[0;32m      6\u001b[0m \u001b[43m)\u001b[49m\n",
      "File \u001b[1;32mc:\\Users\\leond\\OneDrive\\Desktop\\NeuroEvolutionaryLearning\\Project\\gpolnel\\algorithms\\genetic_algorithm.py:221\u001b[0m, in \u001b[0;36mGeneticAlgorithm.solve\u001b[1;34m(self, n_iter, tol, n_iter_tol, start_at, test_elite, verbose, log, log_path, log_xp)\u001b[0m\n\u001b[0;32m    219\u001b[0m \u001b[38;5;66;03m# 1)\u001b[39;00m\n\u001b[0;32m    220\u001b[0m tree_based \u001b[38;5;241m=\u001b[39m \u001b[38;5;124m'\u001b[39m\u001b[38;5;124mfunction_set\u001b[39m\u001b[38;5;124m'\u001b[39m \u001b[38;5;129;01min\u001b[39;00m \u001b[38;5;28mself\u001b[39m\u001b[38;5;241m.\u001b[39mpi\u001b[38;5;241m.\u001b[39msspace\n\u001b[1;32m--> 221\u001b[0m \u001b[38;5;28;43mself\u001b[39;49m\u001b[38;5;241;43m.\u001b[39;49m\u001b[43m_initialize\u001b[49m\u001b[43m(\u001b[49m\u001b[43mstart_at\u001b[49m\u001b[38;5;241;43m=\u001b[39;49m\u001b[43mstart_at\u001b[49m\u001b[43m,\u001b[49m\u001b[43m \u001b[49m\u001b[43mtree\u001b[49m\u001b[38;5;241;43m=\u001b[39;49m\u001b[43mtree_based\u001b[49m\u001b[43m)\u001b[49m\n\u001b[0;32m    223\u001b[0m \u001b[38;5;66;03m# Optionally, evaluates the elite on the test partition\u001b[39;00m\n\u001b[0;32m    224\u001b[0m \u001b[38;5;28;01mif\u001b[39;00m test_elite:\n\u001b[0;32m    225\u001b[0m     \u001b[38;5;66;03m# Workaround proposed by L. Rosenfeld to maintain the dataloader's seed when test_elite changes\u001b[39;00m\n",
      "File \u001b[1;32mc:\\Users\\leond\\OneDrive\\Desktop\\NeuroEvolutionaryLearning\\Project\\gpolnel\\algorithms\\population_based.py:105\u001b[0m, in \u001b[0;36mPopulationBased._initialize\u001b[1;34m(self, start_at, tree)\u001b[0m\n\u001b[0;32m    103\u001b[0m     pop_repr\u001b[38;5;241m.\u001b[39mextend(start_at)\n\u001b[0;32m    104\u001b[0m \u001b[38;5;66;03m# Initializes pop_size individuals by means of 'initializer' function\u001b[39;00m\n\u001b[1;32m--> 105\u001b[0m pop_repr\u001b[38;5;241m.\u001b[39mextend(\u001b[38;5;28;43mself\u001b[39;49m\u001b[38;5;241;43m.\u001b[39;49m\u001b[43minitializer\u001b[49m\u001b[43m(\u001b[49m\u001b[43msspace\u001b[49m\u001b[38;5;241;43m=\u001b[39;49m\u001b[38;5;28;43mself\u001b[39;49m\u001b[38;5;241;43m.\u001b[39;49m\u001b[43mpi\u001b[49m\u001b[38;5;241;43m.\u001b[39;49m\u001b[43msspace\u001b[49m\u001b[43m,\u001b[49m\u001b[43m \u001b[49m\u001b[43mn_sols\u001b[49m\u001b[38;5;241;43m=\u001b[39;49m\u001b[43mpop_size\u001b[49m\u001b[43m)\u001b[49m)\n\u001b[0;32m    106\u001b[0m \u001b[38;5;66;03m# Stacks population's representation, if candidate solutions are objects of type torch.tensor\u001b[39;00m\n\u001b[0;32m    107\u001b[0m \u001b[38;5;28;01mif\u001b[39;00m \u001b[38;5;28misinstance\u001b[39m(pop_repr[\u001b[38;5;241m0\u001b[39m], torch\u001b[38;5;241m.\u001b[39mTensor):\n",
      "\u001b[1;31mTypeError\u001b[0m: prm_grow() got an unexpected keyword argument 'n_sols'"
     ]
    }
   ],
   "source": [
    "n_iter = 100\n",
    "mheuristic.solve(\n",
    "    n_iter=n_iter,\n",
    "    verbose=5, log=2, log_path=log_path,\n",
    "    test_elite=True\n",
    ")\n"
   ]
  },
  {
   "cell_type": "code",
   "execution_count": null,
   "id": "6318fa14",
   "metadata": {},
   "outputs": [
    {
     "name": "stdout",
     "output_type": "stream",
     "text": [
      "mul( x_9, x_0 )\n"
     ]
    }
   ],
   "source": [
    "mheuristic.best_sol.printTree()"
   ]
  },
  {
   "cell_type": "code",
   "execution_count": null,
   "id": "87e6eff9-f971-403d-a567-d96288760ef8",
   "metadata": {},
   "outputs": [],
   "source": [
    "mheuristic.best_sol.printTree()"
   ]
  },
  {
   "cell_type": "markdown",
   "id": "5db74306-f218-4568-a4c6-06827dde397e",
   "metadata": {},
   "source": [
    "### GP evolution"
   ]
  },
  {
   "cell_type": "code",
   "execution_count": null,
   "id": "eb26aa12-527a-4acd-869e-cdbfb2187837",
   "metadata": {},
   "outputs": [],
   "source": [
    "# # Open log file\n",
    "# rows = []\n",
    "# with open(log_path, 'r') as file:\n",
    "#     # Create a CSV reader object\n",
    "#     csv_reader = csv.reader(file)\n",
    "#     # Iterate over each row in the CSV file\n",
    "#     for row in csv_reader:\n",
    "#         # Process each row (each row is a list of values)\n",
    "#         rows.append(row)\n",
    "\n",
    "# # Fitness history\n",
    "# history_fits = [float(row[7].split('(')[1].split(')')[0]) for row in rows]\n",
    "\n",
    "# # Test fitness history\n",
    "# history_test_fits = [float(row[9].split('(')[1].split(')')[0]) for row in rows]\n",
    "\n",
    "# # Solution size history\n",
    "# history_sizes = [float(row[6]) for row in rows]\n",
    "\n",
    "# # Runtime\n",
    "# history_timing = [float(row[5]) for row in rows]\n"
   ]
  },
  {
   "cell_type": "code",
   "execution_count": null,
   "id": "b153ce27-8a22-4835-86e7-8bf6b14c6f9e",
   "metadata": {},
   "outputs": [],
   "source": [
    "# plt.figure(figsize=(10, 4))\n",
    "\n",
    "# plt.plot(history_fits, label='Train')\n",
    "# plt.plot(history_test_fits, label='Validation')\n",
    "# plt.title('Fitness evolution')\n",
    "# plt.xlabel('Generation')\n",
    "# plt.ylabel('RMSE')\n",
    "# plt.ylim(bottom=0, top=20)\n",
    "# plt.legend()\n",
    "# plt.show()\n",
    "\n",
    "# print('Best solution RMSE fitness: {:.2f} train, {:.2f} test.\\n'.format(mheuristic.best_sol.fit.item(), mheuristic.best_sol.test_fit.item()))\n"
   ]
  },
  {
   "cell_type": "code",
   "execution_count": null,
   "id": "bf6d186b",
   "metadata": {},
   "outputs": [],
   "source": [
    "# plt.figure(figsize=(10, 4))\n",
    "\n",
    "# plt.plot(history_sizes)\n",
    "# plt.title('Solution size evolution')\n",
    "# plt.xlabel('Generation')\n",
    "# plt.ylabel('Size')\n",
    "# plt.ylim(bottom=0)\n",
    "# plt.show()\n"
   ]
  },
  {
   "cell_type": "code",
   "execution_count": null,
   "id": "1e4a6a94",
   "metadata": {},
   "outputs": [],
   "source": [
    "# plt.figure(figsize=(10, 4))\n",
    "\n",
    "# plt.plot(history_timing)\n",
    "# plt.title('Running time evolution')\n",
    "# plt.xlabel('Generation')\n",
    "# plt.ylabel('Seconds')\n",
    "# plt.ylim(bottom=0, top=120)\n",
    "# plt.show()\n",
    "\n",
    "# print('Total time: {:.2f} minutes.\\n'.format(sum(history_timing)/60.))\n"
   ]
  },
  {
   "cell_type": "code",
   "execution_count": null,
   "id": "9689d055",
   "metadata": {},
   "outputs": [],
   "source": []
  },
  {
   "cell_type": "code",
   "execution_count": null,
   "id": "057dea82-df82-4f9a-89e3-54de2525b7c2",
   "metadata": {},
   "outputs": [],
   "source": []
  }
 ],
 "metadata": {
  "kernelspec": {
   "display_name": "Python 3 (ipykernel)",
   "language": "python",
   "name": "python3"
  },
  "language_info": {
   "codemirror_mode": {
    "name": "ipython",
    "version": 3
   },
   "file_extension": ".py",
   "mimetype": "text/x-python",
   "name": "python",
   "nbconvert_exporter": "python",
   "pygments_lexer": "ipython3",
   "version": "3.11.4"
  }
 },
 "nbformat": 4,
 "nbformat_minor": 5
}
