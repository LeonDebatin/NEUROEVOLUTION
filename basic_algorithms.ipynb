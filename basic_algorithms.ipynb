{
 "cells": [
  {
   "cell_type": "code",
   "execution_count": 1,
   "metadata": {},
   "outputs": [],
   "source": [
    "import pandas as pd\n",
    "from sklearn.tree import DecisionTreeRegressor\n",
    "from sklearn.ensemble import GradientBoostingRegressor\n",
    "from sklearn.ensemble import RandomForestRegressorWWWW\n",
    "from sklearn.model_selection import GridSearchCV, StratifiedKFold\n",
    "from sklearn.linear_model import LinearRegression\n",
    "from sklearn.svm import SVR\n",
    "import numpy as np\n",
    "from sklearn.metrics import mean_squared_error\n",
    "from sklearn.metrics import make_scorer\n",
    "from sklearn.metrics import mean_squared_error\n",
    "from sklearn.metrics import mean_absolute_error\n",
    "from sklearn.metrics import root_mean_squared_error\n",
    "import numpy as np\n",
    "from sklearn.linear_model import ElasticNet\n",
    "from sklearn.model_selection import RepeatedKFold\n",
    "from sklearn.model_selection import GridSearchCV, KFold\n",
    "import numpy as np\n",
    "import pickle\n",
    "import copy\n",
    "from utils import clipp, drop_features, scale\n",
    "seed=1"
   ]
  },
  {
   "cell_type": "code",
   "execution_count": 2,
   "metadata": {},
   "outputs": [],
   "source": [
    "X = pd.read_csv('./datamart/data_project_nel.csv') #X_train_clipped_scaled\n",
    "y = pd.read_csv('./datamart/y_lactose.csv').values.ravel()\n",
    "X = drop_features(X)"
   ]
  },
  {
   "cell_type": "code",
   "execution_count": 3,
   "metadata": {},
   "outputs": [
    {
     "name": "stdout",
     "output_type": "stream",
     "text": [
      "RMSE using mean 0.06439776352260754\n"
     ]
    }
   ],
   "source": [
    "mean = y.mean()\n",
    "\n",
    "print('RMSE using mean', root_mean_squared_error(y, [mean for i in range(len(y))]))\n"
   ]
  },
  {
   "cell_type": "code",
   "execution_count": 4,
   "metadata": {},
   "outputs": [],
   "source": [
    "def grid_search(estimator, param_grid, cv, fit_params=None, X_train=None, y_train=None):\n",
    "\n",
    "    # Define the grid search with MSE scoring\n",
    "    grid_search = GridSearchCV(estimator, param_grid, scoring='neg_root_mean_squared_error', cv=cv)\n",
    "    \n",
    "    # Fit the grid search\n",
    "    if fit_params is not None:\n",
    "        grid_search.fit(X_train, y_train, **fit_params)\n",
    "    else:\n",
    "        grid_search.fit(X_train, y_train)\n",
    "    \n",
    "    # Get the best parameters and best score\n",
    "    best_params = grid_search.best_params_\n",
    "    best_params = {key.split('__', 1)[1] if '__' in key else key: value for key, value in best_params.items()}\n",
    "    best_score = grid_search.best_score_\n",
    "    \n",
    "    # Convert negative MSE to MSE\n",
    "    best_MSE = best_score * -1\n",
    "    \n",
    "    print(\"Best Parameters: \", best_params)\n",
    "    print(\"Best MSE: \", best_MSE)\n",
    "    \n",
    "    return best_params, best_MSE\n"
   ]
  },
  {
   "cell_type": "code",
   "execution_count": 5,
   "metadata": {},
   "outputs": [],
   "source": [
    "def evaluate_estimator(estimator, X_train, y_train, X_test, y_test):\n",
    "\n",
    "    # Predict on training and validation data\n",
    "    train_pred = estimator.predict(X_train)\n",
    "    val_pred = estimator.predict(X_test)\n",
    "    \n",
    "    # Calculate MSE for training and validation sets\n",
    "    train_MSE = mean_squared_error(y_train, train_pred)\n",
    "    val_MSE = mean_squared_error(y_test, val_pred)\n",
    "    \n",
    "    print('Train MSE:', train_MSE)\n",
    "    print('Test MSE:', val_MSE)\n",
    "    print('Corr', np.corrcoef(y_test, val_pred)[0,1])\n",
    "    return train_MSE, val_MSE\n"
   ]
  },
  {
   "cell_type": "code",
   "execution_count": 6,
   "metadata": {},
   "outputs": [],
   "source": [
    "kfold = RepeatedKFold(n_splits=10, random_state=seed, n_repeats=2)"
   ]
  },
  {
   "cell_type": "code",
   "execution_count": 7,
   "metadata": {},
   "outputs": [
    {
     "ename": "NameError",
     "evalue": "name 'X_train' is not defined",
     "output_type": "error",
     "traceback": [
      "\u001b[1;31m---------------------------------------------------------------------------\u001b[0m",
      "\u001b[1;31mNameError\u001b[0m                                 Traceback (most recent call last)",
      "Cell \u001b[1;32mIn[7], line 9\u001b[0m\n\u001b[0;32m      3\u001b[0m \u001b[38;5;66;03m# Define the parameter grid for decision tree regressor\u001b[39;00m\n\u001b[0;32m      4\u001b[0m param_grid \u001b[38;5;241m=\u001b[39m {\n\u001b[0;32m      5\u001b[0m     \u001b[38;5;124m'\u001b[39m\u001b[38;5;124mmax_depth\u001b[39m\u001b[38;5;124m'\u001b[39m: [\u001b[38;5;241m1\u001b[39m,\u001b[38;5;241m2\u001b[39m,\u001b[38;5;241m3\u001b[39m],\n\u001b[0;32m      6\u001b[0m     \u001b[38;5;124m'\u001b[39m\u001b[38;5;124mmin_samples_split\u001b[39m\u001b[38;5;124m'\u001b[39m: [\u001b[38;5;241m2\u001b[39m,\u001b[38;5;241m3\u001b[39m,\u001b[38;5;241m4\u001b[39m],\n\u001b[0;32m      7\u001b[0m     \u001b[38;5;124m'\u001b[39m\u001b[38;5;124mmin_samples_leaf\u001b[39m\u001b[38;5;124m'\u001b[39m: [\u001b[38;5;241m1\u001b[39m,\u001b[38;5;241m2\u001b[39m,\u001b[38;5;241m3\u001b[39m]\n\u001b[0;32m      8\u001b[0m }\n\u001b[1;32m----> 9\u001b[0m dt_best_params, dt_best_score \u001b[38;5;241m=\u001b[39m grid_search(dt, param_grid, cv\u001b[38;5;241m=\u001b[39mkfold, X_train\u001b[38;5;241m=\u001b[39m\u001b[43mX_train\u001b[49m, y_train\u001b[38;5;241m=\u001b[39my_train)\n",
      "\u001b[1;31mNameError\u001b[0m: name 'X_train' is not defined"
     ]
    }
   ],
   "source": [
    "dt = DecisionTreeRegressor(random_state=seed)\n",
    "\n",
    "# Define the parameter grid for decision tree regressor\n",
    "param_grid = {\n",
    "    'max_depth': [1,2,3],\n",
    "    'min_samples_split': [2,3,4],\n",
    "    'min_samples_leaf': [1,2,3]\n",
    "}\n",
    "dt_best_params, dt_best_score = grid_search(dt, param_grid, cv=kfold, X_train=X_train, y_train=y_train)\n"
   ]
  },
  {
   "cell_type": "code",
   "execution_count": null,
   "metadata": {},
   "outputs": [
    {
     "name": "stdout",
     "output_type": "stream",
     "text": [
      "Train MSE: 0.00363649723917697\n",
      "Test MSE: 0.003899416482877789\n",
      "Corr 0.24568874301974966\n"
     ]
    }
   ],
   "source": [
    "dt =  DecisionTreeRegressor(**dt_best_params, random_state=seed)\n",
    "dt.fit(X_train, y_train)\n",
    "dt_train_error, dt_test_error= evaluate_estimator(dt, X_train=X_train, y_train=y_train, X_test=X_test, y_test=y_test)"
   ]
  },
  {
   "cell_type": "code",
   "execution_count": null,
   "metadata": {},
   "outputs": [
    {
     "data": {
      "image/svg+xml": [
       "<?xml version=\"1.0\" encoding=\"UTF-8\" standalone=\"no\"?>\n",
       "<!DOCTYPE svg PUBLIC \"-//W3C//DTD SVG 1.1//EN\"\n",
       " \"http://www.w3.org/Graphics/SVG/1.1/DTD/svg11.dtd\">\n",
       "<!-- Generated by graphviz version 8.1.0 (20230707.0739)\n",
       " -->\n",
       "<!-- Title: Tree Pages: 1 -->\n",
       "<svg width=\"344pt\" height=\"176pt\"\n",
       " viewBox=\"0.00 0.00 343.50 175.50\" xmlns=\"http://www.w3.org/2000/svg\" xmlns:xlink=\"http://www.w3.org/1999/xlink\">\n",
       "<g id=\"graph0\" class=\"graph\" transform=\"scale(1 1) rotate(0) translate(4 171.5)\">\n",
       "<title>Tree</title>\n",
       "<polygon fill=\"white\" stroke=\"none\" points=\"-4,4 -4,-171.5 339.5,-171.5 339.5,4 -4,4\"/>\n",
       "<!-- 0 -->\n",
       "<g id=\"node1\" class=\"node\">\n",
       "<title>0</title>\n",
       "<path fill=\"#f7d7c1\" stroke=\"black\" d=\"M234.5,-167.5C234.5,-167.5 100,-167.5 100,-167.5 94,-167.5 88,-161.5 88,-155.5 88,-155.5 88,-105.5 88,-105.5 88,-99.5 94,-93.5 100,-93.5 100,-93.5 234.5,-93.5 234.5,-93.5 240.5,-93.5 246.5,-99.5 246.5,-105.5 246.5,-105.5 246.5,-155.5 246.5,-155.5 246.5,-161.5 240.5,-167.5 234.5,-167.5\"/>\n",
       "<text text-anchor=\"start\" x=\"99.75\" y=\"-150.2\" font-family=\"Helvetica,sans-Serif\" font-size=\"14.00\">milk_kg_day ≤ &#45;0.511</text>\n",
       "<text text-anchor=\"start\" x=\"96\" y=\"-133.7\" font-family=\"Helvetica,sans-Serif\" font-size=\"14.00\">squared_error = 0.004</text>\n",
       "<text text-anchor=\"start\" x=\"120\" y=\"-117.2\" font-family=\"Helvetica,sans-Serif\" font-size=\"14.00\">samples = 226</text>\n",
       "<text text-anchor=\"start\" x=\"124.5\" y=\"-100.7\" font-family=\"Helvetica,sans-Serif\" font-size=\"14.00\">value = 4.889</text>\n",
       "</g>\n",
       "<!-- 1 -->\n",
       "<g id=\"node2\" class=\"node\">\n",
       "<title>1</title>\n",
       "<path fill=\"#e58139\" stroke=\"black\" d=\"M146.5,-57.5C146.5,-57.5 12,-57.5 12,-57.5 6,-57.5 0,-51.5 0,-45.5 0,-45.5 0,-12 0,-12 0,-6 6,0 12,0 12,0 146.5,0 146.5,0 152.5,0 158.5,-6 158.5,-12 158.5,-12 158.5,-45.5 158.5,-45.5 158.5,-51.5 152.5,-57.5 146.5,-57.5\"/>\n",
       "<text text-anchor=\"start\" x=\"8\" y=\"-40.2\" font-family=\"Helvetica,sans-Serif\" font-size=\"14.00\">squared_error = 0.004</text>\n",
       "<text text-anchor=\"start\" x=\"36.12\" y=\"-23.7\" font-family=\"Helvetica,sans-Serif\" font-size=\"14.00\">samples = 71</text>\n",
       "<text text-anchor=\"start\" x=\"36.5\" y=\"-7.2\" font-family=\"Helvetica,sans-Serif\" font-size=\"14.00\">value = 4.924</text>\n",
       "</g>\n",
       "<!-- 0&#45;&gt;1 -->\n",
       "<g id=\"edge1\" class=\"edge\">\n",
       "<title>0&#45;&gt;1</title>\n",
       "<path fill=\"none\" stroke=\"black\" d=\"M135.23,-93.21C127.33,-84.25 118.87,-74.66 110.98,-65.72\"/>\n",
       "<polygon fill=\"black\" stroke=\"black\" points=\"114.17,-63.91 104.93,-58.73 108.92,-68.54 114.17,-63.91\"/>\n",
       "<text text-anchor=\"middle\" x=\"102.37\" y=\"-77.63\" font-family=\"Helvetica,sans-Serif\" font-size=\"14.00\">True</text>\n",
       "</g>\n",
       "<!-- 2 -->\n",
       "<g id=\"node3\" class=\"node\">\n",
       "<title>2</title>\n",
       "<path fill=\"#ffffff\" stroke=\"black\" d=\"M323.5,-57.5C323.5,-57.5 189,-57.5 189,-57.5 183,-57.5 177,-51.5 177,-45.5 177,-45.5 177,-12 177,-12 177,-6 183,0 189,0 189,0 323.5,0 323.5,0 329.5,0 335.5,-6 335.5,-12 335.5,-12 335.5,-45.5 335.5,-45.5 335.5,-51.5 329.5,-57.5 323.5,-57.5\"/>\n",
       "<text text-anchor=\"start\" x=\"185\" y=\"-40.2\" font-family=\"Helvetica,sans-Serif\" font-size=\"14.00\">squared_error = 0.004</text>\n",
       "<text text-anchor=\"start\" x=\"209\" y=\"-23.7\" font-family=\"Helvetica,sans-Serif\" font-size=\"14.00\">samples = 155</text>\n",
       "<text text-anchor=\"start\" x=\"213.5\" y=\"-7.2\" font-family=\"Helvetica,sans-Serif\" font-size=\"14.00\">value = 4.873</text>\n",
       "</g>\n",
       "<!-- 0&#45;&gt;2 -->\n",
       "<g id=\"edge2\" class=\"edge\">\n",
       "<title>0&#45;&gt;2</title>\n",
       "<path fill=\"none\" stroke=\"black\" d=\"M199.63,-93.21C207.62,-84.25 216.18,-74.66 224.16,-65.72\"/>\n",
       "<polygon fill=\"black\" stroke=\"black\" points=\"226.24,-68.52 230.29,-58.73 221.02,-63.86 226.24,-68.52\"/>\n",
       "<text text-anchor=\"middle\" x=\"232.71\" y=\"-77.64\" font-family=\"Helvetica,sans-Serif\" font-size=\"14.00\">False</text>\n",
       "</g>\n",
       "</g>\n",
       "</svg>\n"
      ],
      "text/plain": [
       "<graphviz.sources.Source at 0x19bcde00a90>"
      ]
     },
     "execution_count": 9,
     "metadata": {},
     "output_type": "execute_result"
    }
   ],
   "source": [
    "from sklearn import tree\n",
    "import graphviz\n",
    "dot_data = tree.export_graphviz(dt,\n",
    "                                out_file=None,\n",
    "                                feature_names=X_train.columns,\n",
    "                                filled=True,\n",
    "                                rounded=True,\n",
    "                                special_characters=True)\n",
    "\n",
    "# Create a Graphviz source object\n",
    "graph = graphviz.Source(dot_data)\n",
    "graph"
   ]
  },
  {
   "cell_type": "code",
   "execution_count": null,
   "metadata": {},
   "outputs": [
    {
     "name": "stdout",
     "output_type": "stream",
     "text": [
      "Best Parameters:  {'max_depth': 2, 'n_estimators': 80}\n",
      "Best MSE:  0.0036645901078974632\n"
     ]
    }
   ],
   "source": [
    "rf = RandomForestRegressor(random_state=seed)\n",
    "\n",
    "# Define the parameter grid for Random Forest Regressor\n",
    "param_grid = {\n",
    "    'n_estimators': [80,90,100],\n",
    "    'max_depth': [2, 3, 4]\n",
    "}\n",
    "rf_best_params, rf_best_score = grid_search(rf, param_grid, cv=kfold, X_train=X_train, y_train=y_train)"
   ]
  },
  {
   "cell_type": "code",
   "execution_count": null,
   "metadata": {},
   "outputs": [
    {
     "name": "stdout",
     "output_type": "stream",
     "text": [
      "Train MSE: 0.002939380860524432\n",
      "Test MSE: 0.0037500802551130195\n",
      "Corr 0.3021853406011907\n"
     ]
    }
   ],
   "source": [
    "rf = RandomForestRegressor(**rf_best_params,random_state=seed)\n",
    "rf.fit(X_train, y_train)\n",
    "rf_train_error, rf_test_error= evaluate_estimator(rf, X_train=X_train, y_train=y_train, X_test=X_test, y_test=y_test)"
   ]
  },
  {
   "cell_type": "code",
   "execution_count": null,
   "metadata": {},
   "outputs": [
    {
     "name": "stdout",
     "output_type": "stream",
     "text": [
      "Best Parameters:  {'learning_rate': 0.05, 'max_depth': 1, 'n_estimators': 75}\n",
      "Best MSE:  0.003689636799289775\n"
     ]
    }
   ],
   "source": [
    "gb = GradientBoostingRegressor(random_state=seed)\n",
    "\n",
    "# Define the parameter grid for Gradient Boosting Regressor\n",
    "param_grid = {\n",
    "    'n_estimators': [10, 25, 50, 75],\n",
    "    'learning_rate': [0.01, 0.05],\n",
    "    'max_depth': [1,2]\n",
    "}\n",
    "gb_best_params, gb_best_score = grid_search(gb, param_grid, cv=kfold, X_train=X_train, y_train=y_train)\n"
   ]
  },
  {
   "cell_type": "code",
   "execution_count": null,
   "metadata": {},
   "outputs": [
    {
     "name": "stdout",
     "output_type": "stream",
     "text": [
      "Train MSE: 0.003093216022565902\n",
      "Test MSE: 0.0036923602130241023\n",
      "Corr 0.3285098302818489\n"
     ]
    }
   ],
   "source": [
    "gb = GradientBoostingRegressor(**gb_best_params,random_state=seed)\n",
    "gb.fit(X_train, y_train)\n",
    "gb_train_error, gb_test_error= evaluate_estimator(gb, X_train=X_train, y_train=y_train, X_test=X_test, y_test=y_test)"
   ]
  },
  {
   "cell_type": "code",
   "execution_count": null,
   "metadata": {},
   "outputs": [
    {
     "name": "stdout",
     "output_type": "stream",
     "text": [
      "Best Parameters:  {'C': 0.1, 'gamma': 0.1, 'kernel': 'rbf'}\n",
      "Best MSE:  0.003732428807655509\n"
     ]
    }
   ],
   "source": [
    "svr = SVR()\n",
    "\n",
    "param_grid = {\n",
    "    'C': [0.001,0.01, 0.1],\n",
    "    'gamma': [0.001, 0.01, 0.1],\n",
    "    'kernel': ['linear', 'rbf']\n",
    "}\n",
    "svr_best_params, svr_best_score = grid_search(svr, param_grid, cv=kfold, X_train=X_train, y_train=y_train)\n"
   ]
  },
  {
   "cell_type": "code",
   "execution_count": null,
   "metadata": {},
   "outputs": [
    {
     "name": "stdout",
     "output_type": "stream",
     "text": [
      "Train MSE: 0.0030867052546367795\n",
      "Test MSE: 0.003631739232318502\n",
      "Corr 0.36302459151890243\n"
     ]
    }
   ],
   "source": [
    "svr = SVR(**svr_best_params)\n",
    "svr.fit(X_train, y_train)\n",
    "svr_train_error, svr_test_error= evaluate_estimator(svr, X_train=X_train, y_train=y_train, X_test=X_test, y_test=y_test)"
   ]
  },
  {
   "cell_type": "code",
   "execution_count": null,
   "metadata": {},
   "outputs": [
    {
     "name": "stdout",
     "output_type": "stream",
     "text": [
      "Best Parameters:  {}\n",
      "Best MSE:  0.0035446339121908434\n"
     ]
    }
   ],
   "source": [
    "lr =  LinearRegression()\n",
    "param_grid = {}\n",
    "lr_best_params, lr_best_score = grid_search(lr, param_grid, cv=kfold, X_train=X_train, y_train=y_train)\n"
   ]
  },
  {
   "cell_type": "code",
   "execution_count": null,
   "metadata": {},
   "outputs": [
    {
     "name": "stdout",
     "output_type": "stream",
     "text": [
      "Train MSE: 0.003163395760520787\n",
      "Test MSE: 0.003362213123551181\n",
      "Corr 0.4278257293337073\n"
     ]
    }
   ],
   "source": [
    "lr = LinearRegression(**lr_best_params)\n",
    "lr.fit(X_train, y_train)\n",
    "lr_train_error, svr_test_error= evaluate_estimator(lr, X_train=X_train, y_train=y_train, X_test=X_test, y_test=y_test)"
   ]
  },
  {
   "cell_type": "code",
   "execution_count": null,
   "metadata": {},
   "outputs": [
    {
     "data": {
      "image/png": "[encoded data removed]",
      "text/plain": [
       "<Figure size 1000x600 with 1 Axes>"
      ]
     },
     "metadata": {},
     "output_type": "display_data"
    }
   ],
   "source": [
    "from matplotlib import pyplot as plt\n",
    "coefs = lr.coef_\n",
    "\n",
    "coefs_df = pd.DataFrame({'Feature': X_train.columns, 'Coefficient': coefs})\n",
    "\n",
    "# Sort the DataFrame by coefficient value\n",
    "coefs_df = coefs_df.sort_values(by='Coefficient')\n",
    "\n",
    "# Plot the coefficients\n",
    "plt.figure(figsize=(10, 6))\n",
    "plt.barh(coefs_df['Feature'], coefs_df['Coefficient'], color='skyblue')\n",
    "plt.xlabel('Coefficient Value')\n",
    "plt.ylabel('Feature')\n",
    "plt.title('Linear Regression Coefficients')\n",
    "plt.show()"
   ]
  },
  {
   "cell_type": "code",
   "execution_count": null,
   "metadata": {},
   "outputs": [
    {
     "name": "stdout",
     "output_type": "stream",
     "text": [
      "Best Parameters:  {'alpha': 0.01, 'l1_ratio': 0.4}\n",
      "Best MSE:  0.0034435376346027683\n"
     ]
    }
   ],
   "source": [
    "en = ElasticNet()\n",
    "param_grid = {\n",
    "    'alpha': [0.001, 0.005, 0.01, 0.05, 0.1],\n",
    "    'l1_ratio': [0.3, 0.4,0.5,0.6]\n",
    "}\n",
    "en_best_params, en_best_score = grid_search(en, param_grid, cv=kfold, X_train=X_train, y_train=y_train)"
   ]
  },
  {
   "cell_type": "code",
   "execution_count": null,
   "metadata": {},
   "outputs": [
    {
     "name": "stdout",
     "output_type": "stream",
     "text": [
      "Train MSE: 0.0033185464771711523\n",
      "Test MSE: 0.003399569376812335\n",
      "Corr 0.4037614596577001\n"
     ]
    }
   ],
   "source": [
    "en = ElasticNet(**en_best_params)\n",
    "en.fit(X_train, y_train)\n",
    "en_train_error, en_test_error= evaluate_estimator(en, X_train=X_train, y_train=y_train, X_test=X_test, y_test=y_test)"
   ]
  },
  {
   "cell_type": "code",
   "execution_count": null,
   "metadata": {},
   "outputs": [],
   "source": [
    "with open('models/BasicMLModels/LinearRegression', 'wb') as file:\n",
    "        pickle.dump(lr, file)"
   ]
  }
 ],
 "metadata": {
  "kernelspec": {
   "display_name": "Python 3",
   "language": "python",
   "name": "python3"
  },
  "language_info": {
   "codemirror_mode": {
    "name": "ipython",
    "version": 3
   },
   "file_extension": ".py",
   "mimetype": "text/x-python",
   "name": "python",
   "nbconvert_exporter": "python",
   "pygments_lexer": "ipython3",
   "version": "3.11.4"
  }
 },
 "nbformat": 4,
 "nbformat_minor": 2
}
