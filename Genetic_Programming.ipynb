{
 "cells": [
  {
   "cell_type": "code",
   "execution_count": 1,
   "metadata": {},
   "outputs": [],
   "source": [
    "import os\n",
    "import csv\n",
    "import torch\n",
    "import pandas as pd\n",
    "import matplotlib.pyplot as plt\n",
    "import pandas as pd\n",
    "\n",
    "from gpolnel.utils.datasets import load_boston\n",
    "from torch.utils.data import TensorDataset, DataLoader\n",
    "\n",
    "from gpolnel.problems.inductive_programming import SML\n",
    "from gpolnel.utils.utils import train_test_split\n",
    "from gpolnel.utils.ffunctions import Ffunctions\n",
    "from gpolnel.utils.inductive_programming import function_map\n",
    "from gpolnel.algorithms.genetic_algorithm import GeneticAlgorithm\n",
    "from gpolnel.operators.initializers import grow, prm_grow, ERC\n",
    "from gpolnel.operators.variators import swap_xo, prm_subtree_mtn\n",
    "from gpolnel.operators.selectors import prm_tournament, roulette_wheel, rank_selection\n",
    "from gpolnel.utils.inductive_programming import _execute_tree\n",
    "seed=1\n",
    "#_evaluate_individual_ffunction"
   ]
  },
  {
   "cell_type": "code",
   "execution_count": 2,
   "metadata": {},
   "outputs": [],
   "source": [
    "##to do\n",
    "#crossover\n",
    "#random search\n",
    "#exercises"
   ]
  },
  {
   "cell_type": "code",
   "execution_count": 3,
   "metadata": {},
   "outputs": [
    {
     "data": {
      "text/plain": [
       "'cpu'"
      ]
     },
     "execution_count": 3,
     "metadata": {},
     "output_type": "execute_result"
    }
   ],
   "source": [
    "device = 'mps' if torch.backends.mps.is_available() else 'cpu'\n",
    "device"
   ]
  },
  {
   "cell_type": "code",
   "execution_count": 4,
   "metadata": {},
   "outputs": [],
   "source": [
    "X_train = torch.tensor(pd.read_csv('datamart/X_train_clipped_scaled.csv').values)\n",
    "X_test = torch.tensor(pd.read_csv('datamart/X_test_clipped_scaled.csv').values)\n",
    "y_train = torch.tensor(pd.read_csv('datamart/y_lactose_train.csv')['lactose_percent'].values)\n",
    "y_test = torch.tensor(pd.read_csv('datamart/y_lactose_test.csv')['lactose_percent'].values)"
   ]
  },
  {
   "cell_type": "code",
   "execution_count": 5,
   "metadata": {},
   "outputs": [
    {
     "name": "stdout",
     "output_type": "stream",
     "text": [
      "Batch size: 226\n",
      "Total batches: 1\n",
      "\n",
      "Train:\t226\n",
      "Val:\t98\n",
      "Test:\t98\n",
      "Total:\t422\n"
     ]
    }
   ],
   "source": [
    "shuffle, p_test, p_val, n_batches_pct = True, .3, .3, 1\n",
    "total_batches = 1\n",
    "batch_size = X_train.shape[0]\n",
    "print('Batch size: {}\\nTotal batches: {}\\n'.format(batch_size, total_batches))\n",
    "\n",
    "print('Train:\\t{}\\nVal:\\t{}\\nTest:\\t{}'.format(X_train.shape[0], X_test.shape[0], X_test.shape[0]))\n",
    "print('Total:\\t{}'.format(X_train.shape[0] + X_test.shape[0] + X_test.shape[0]))\n",
    "\n",
    "# Creates training and validatation data sets\n",
    "ds_train = TensorDataset(X_train, y_train)\n",
    "ds_val = TensorDataset(X_test, y_test)\n",
    "\n",
    "# Creates training and test data loaders\n",
    "dl_train = DataLoader(ds_train, batch_size, shuffle)\n",
    "dl_val = DataLoader(ds_val, batch_size, shuffle)"
   ]
  },
  {
   "cell_type": "code",
   "execution_count": 6,
   "metadata": {},
   "outputs": [],
   "source": [
    "fset = [function_map['add'],  function_map['mul'], function_map['div'],function_map['sub']]#function_map['sub'],\n",
    "\n",
    "sspace_sml = {\n",
    "    'n_dims': X_train.shape[1],\n",
    "    'function_set': fset, 'constant_set': ERC(-5., 5.),\n",
    "    'p_constants': 0.1,\n",
    "    'max_init_depth': 3,\n",
    "    'max_depth': 5, \n",
    "    'n_batches': total_batches,\n",
    "    'device': device\n",
    "}\n"
   ]
  },
  {
   "cell_type": "code",
   "execution_count": 7,
   "metadata": {},
   "outputs": [],
   "source": [
    "pi_sml = SML(\n",
    "    sspace=sspace_sml,\n",
    "    ffunction=Ffunctions('rmse'),\n",
    "    dl_train=dl_train, dl_test=dl_val,  # For the algorithm, the unseen is our validation!\n",
    "    n_jobs=8\n",
    ")\n"
   ]
  },
  {
   "cell_type": "code",
   "execution_count": 8,
   "metadata": {},
   "outputs": [],
   "source": [
    "ps = 226\n",
    "selection_pressure = .1\n",
    "mutation_prob = .7\n",
    "xo_prob = .9\n",
    "has_elitism = True\n",
    "allow_reproduction = False\n",
    "\n",
    "mheuristic = GeneticAlgorithm(\n",
    "    pi=pi_sml,\n",
    "    initializer=grow,\n",
    "    selector=prm_tournament(pressure=selection_pressure),  #prm_tournament(pressure=selection_pressure)\n",
    "    crossover=swap_xo,\n",
    "    mutator=prm_subtree_mtn(initializer=prm_grow(sspace_sml)),\n",
    "    pop_size=ps,\n",
    "    p_m=mutation_prob,\n",
    "    p_c=xo_prob,\n",
    "    elitism=has_elitism,\n",
    "    reproduction=allow_reproduction,  # False = or xo or mutation\n",
    "    device=device,\n",
    "    seed=seed\n",
    ")"
   ]
  },
  {
   "cell_type": "code",
   "execution_count": 9,
   "metadata": {},
   "outputs": [],
   "source": [
    "mheuristic._initialize()"
   ]
  },
  {
   "cell_type": "code",
   "execution_count": 10,
   "metadata": {},
   "outputs": [
    {
     "name": "stdout",
     "output_type": "stream",
     "text": [
      "0)\t[mul, div, sub, 6, tensor(-4.7165), 0, 3] (fit: tensor(8.8911))\n",
      "1)\t[add, add, 0, 6, mul, 8, 10] (fit: tensor(5.2662))\n",
      "2)\t[mul, 6, mul, 5, 10] (fit: tensor(4.9594))\n",
      "3)\t[mul, 7, 0] (fit: tensor(5.3177))\n",
      "4)\t[sub, 2, 11] (fit: tensor(5.1042))\n",
      "5)\t[div, 1, 6] (fit: tensor(39.7989))\n",
      "6)\t[div, sub, 9, 2, add, 8, 5] (fit: tensor(8.3483))\n",
      "7)\t[div, 9, sub, 8, 0] (fit: tensor(5.0974))\n",
      "8)\t[sub, sub, 6, tensor(0.4011), 0] (fit: tensor(5.5124))\n",
      "9)\t[mul, mul, div, 10, tensor(-4.8331), div, 9, 1, mul, 2, 4] (fit: tensor(6.7841))\n",
      "10)\t[sub, 1, div, 3, 11] (fit: tensor(23.2750))\n",
      "11)\t[mul, 0, add, 11, sub, 3, 10] (fit: tensor(4.2667))\n",
      "12)\t[add, 6, div, 0, tensor(-4.2355)] (fit: tensor(5.0066))\n",
      "13)\t[div, sub, 8, mul, 11, 5, mul, 7, sub, 0, 6] (fit: tensor(37.9517))\n",
      "14)\t[div, 5, 3] (fit: tensor(48.5670))\n",
      "15)\t[div, sub, 10, 8, add, add, 8, 5, 5] (fit: tensor(6.8058))\n",
      "16)\t[add, sub, 1, tensor(-4.2681), mul, 9, tensor(0.5027)] (fit: tensor(1.2891))\n",
      "17)\t[add, 9, sub, 0, tensor(1.7041)] (fit: tensor(6.7810))\n",
      "18)\t[add, add, 9, 7, mul, 1, 6] (fit: tensor(5.1837))\n",
      "19)\t[div, 5, mul, tensor(-4.8949), 5] (fit: tensor(5.0940))\n",
      "20)\t[sub, 1, 7] (fit: tensor(5.0949))\n",
      "21)\t[add, sub, 8, 3, tensor(-2.1921)] (fit: tensor(7.2090))\n",
      "22)\t[sub, 6, tensor(-3.1319)] (fit: tensor(2.0255))\n",
      "23)\t[div, 9, 0] (fit: tensor(4.9179))\n",
      "24)\t[mul, div, 0, 5, 2] (fit: tensor(63.8211))\n",
      "25)\t[add, tensor(4.4923), mul, mul, 11, 3, add, 9, 6] (fit: tensor(1.5567))\n",
      "26)\t[mul, 1, 8] (fit: tensor(5.0233))\n",
      "27)\t[div, 7, sub, 7, sub, tensor(-1.4506), 2] (fit: tensor(6.4770))\n",
      "28)\t[div, 2, mul, tensor(0.2870), 10] (fit: tensor(106.1474))\n",
      "29)\t[mul, 7, 5] (fit: tensor(4.9302))\n",
      "30)\t[div, add, div, 3, 4, 11, 1] (fit: tensor(105.7814))\n",
      "31)\t[sub, 3, 6] (fit: tensor(5.1274))\n",
      "32)\t[div, add, 10, 1, add, 3, 6] (fit: tensor(18.6857))\n",
      "33)\t[sub, 9, 1] (fit: tensor(5.0898))\n",
      "34)\t[sub, 10, 6] (fit: tensor(4.9327))\n",
      "35)\t[add, 0, 3] (fit: tensor(5.1378))\n",
      "36)\t[mul, mul, 4, 2, 1] (fit: tensor(4.8991))\n",
      "37)\t[mul, 1, add, div, tensor(-1.2627), 10, 5] (fit: tensor(14.5138))\n",
      "38)\t[add, 5, 5] (fit: tensor(5.2775))\n",
      "39)\t[sub, 8, 10] (fit: tensor(5.1190))\n",
      "40)\t[mul, 11, 7] (fit: tensor(5.1724))\n",
      "41)\t[mul, sub, 5, 11, div, 10, 6] (fit: tensor(67.8897))\n",
      "42)\t[div, 9, 4] (fit: tensor(22.8479))\n",
      "43)\t[sub, 4, 8] (fit: tensor(5.0815))\n",
      "44)\t[add, sub, 10, tensor(0.0716), add, 4, 3] (fit: tensor(5.2261))\n",
      "45)\t[mul, tensor(1.9920), 8] (fit: tensor(5.2806))\n",
      "46)\t[add, 11, 11] (fit: tensor(5.2847))\n",
      "47)\t[mul, 4, 4] (fit: tensor(4.1050))\n",
      "48)\t[mul, sub, 3, 10, sub, div, 2, 7, 6] (fit: tensor(16.2028))\n",
      "49)\t[mul, 4, 6] (fit: tensor(4.7991))\n",
      "50)\t[div, mul, tensor(0.9751), 7, 4] (fit: tensor(27.3865))\n",
      "51)\t[add, add, sub, 6, 3, 9, 11] (fit: tensor(5.2535))\n",
      "52)\t[div, 3, add, 7, 9] (fit: tensor(13.7161))\n",
      "53)\t[div, 10, 0] (fit: tensor(5.2568))\n",
      "54)\t[add, add, 1, 4, add, 2, 1] (fit: tensor(5.5336))\n",
      "55)\t[sub, tensor(1.3751), 3] (fit: tensor(3.6526))\n",
      "56)\t[sub, 4, mul, 9, 9] (fit: tensor(6.4867))\n",
      "57)\t[add, 11, 1] (fit: tensor(5.0970))\n",
      "58)\t[div, div, add, tensor(-2.9665), 0, sub, tensor(-1.8731), 7, sub, tensor(0.2451), div, tensor(-4.6581), tensor(-2.3899)] (fit: tensor(6.3340))\n",
      "59)\t[mul, 10, tensor(3.4139)] (fit: tensor(5.9620))\n",
      "60)\t[mul, 6, 10] (fit: tensor(4.2128))\n",
      "61)\t[sub, div, mul, 5, 2, add, 10, 5, 11] (fit: tensor(12.8215))\n",
      "62)\t[add, mul, 5, 7, 5] (fit: tensor(5.0602))\n",
      "63)\t[sub, 8, 4] (fit: tensor(5.0727))\n",
      "64)\t[mul, 10, 7] (fit: tensor(4.8899))\n",
      "65)\t[div, add, div, 1, 11, add, 3, tensor(0.7122), add, mul, tensor(-1.3190), 4, mul, 3, 5] (fit: tensor(106.1931))\n",
      "66)\t[mul, div, 11, 7, sub, tensor(3.5114), tensor(4.6052)] (fit: tensor(14.1737))\n",
      "67)\t[add, div, 8, 8, 9] (fit: tensor(4.0185))\n",
      "68)\t[div, 7, mul, 6, 6] (fit: tensor(126.2339))\n",
      "69)\t[div, add, add, 4, 7, 1, 6] (fit: tensor(52.2160))\n",
      "70)\t[mul, 5, 4] (fit: tensor(4.8504))\n",
      "71)\t[sub, 11, 7] (fit: tensor(5.1302))\n",
      "72)\t[mul, 6, tensor(-3.7053)] (fit: tensor(6.1320))\n",
      "73)\t[mul, 2, 1] (fit: tensor(4.9966))\n",
      "74)\t[sub, add, sub, 8, 10, sub, 10, 11, mul, sub, 4, 1, 6] (fit: tensor(5.4284))\n",
      "75)\t[mul, 8, 10] (fit: tensor(5.1171))\n",
      "76)\t[mul, 1, div, tensor(1.2545), 1] (fit: tensor(3.6353))\n",
      "77)\t[mul, 3, 4] (fit: tensor(4.5555))\n",
      "78)\t[mul, mul, 7, 3, 7] (fit: tensor(5.1170))\n",
      "79)\t[mul, mul, 0, 2, div, 1, 11] (fit: tensor(11.6133))\n",
      "80)\t[div, 11, 10] (fit: tensor(20.2661))\n",
      "81)\t[add, 10, 0] (fit: tensor(5.0109))\n",
      "82)\t[add, add, 10, 11, tensor(-1.7017)] (fit: tensor(6.7191))\n",
      "83)\t[mul, 2, 1] (fit: tensor(4.9966))\n",
      "84)\t[add, 8, div, tensor(4.2576), 10] (fit: tensor(84.9638))\n",
      "85)\t[mul, 8, 1] (fit: tensor(5.0233))\n",
      "86)\t[div, div, tensor(0.7664), 8, 3] (fit: tensor(55.8568))\n",
      "87)\t[div, add, mul, 6, 4, 4, 11] (fit: tensor(13.8416))\n",
      "88)\t[add, tensor(4.7747), 11] (fit: tensor(1.0133))\n",
      "89)\t[add, 2, add, mul, 5, 2, sub, 9, 10] (fit: tensor(5.3004))\n",
      "90)\t[add, mul, 1, tensor(-0.6805), 5] (fit: tensor(5.0455))\n",
      "91)\t[sub, tensor(-0.2924), add, 9, 5] (fit: tensor(5.3894))\n",
      "92)\t[div, 11, mul, div, 0, 11, 10] (fit: tensor(48.7453))\n",
      "93)\t[add, 5, 5] (fit: tensor(5.2775))\n",
      "94)\t[sub, mul, div, 2, 11, add, 6, 3, mul, 5, sub, 10, 6] (fit: tensor(36.3888))\n",
      "95)\t[add, 2, add, 0, mul, 10, 2] (fit: tensor(4.8642))\n",
      "96)\t[add, sub, 11, 6, mul, 10, 3] (fit: tensor(5.5613))\n",
      "97)\t[add, mul, 8, sub, 8, 11, mul, 1, sub, 10, tensor(0.1848)] (fit: tensor(4.7219))\n",
      "98)\t[add, 11, 2] (fit: tensor(5.0802))\n",
      "99)\t[div, 6, sub, 7, 2] (fit: tensor(15.3830))\n",
      "100)\t[div, 11, div, 4, 6] (fit: tensor(30.9439))\n",
      "101)\t[div, tensor(4.5386), 1] (fit: tensor(88.9292))\n",
      "102)\t[mul, 3, sub, 1, mul, tensor(-0.9461), 9] (fit: tensor(4.9469))\n",
      "103)\t[mul, mul, 3, 2, div, div, 1, 7, div, 7, 0] (fit: tensor(656.8835))\n",
      "104)\t[div, 10, 6] (fit: tensor(30.6411))\n",
      "105)\t[mul, sub, mul, 8, 9, 11, mul, 8, div, 10, 4] (fit: tensor(128.0525))\n",
      "106)\t[sub, 10, mul, 0, 11] (fit: tensor(5.5555))\n",
      "107)\t[div, tensor(2.4610), 3] (fit: tensor(66.7025))\n",
      "108)\t[mul, sub, 5, div, 9, 4, tensor(0.0105)] (fit: tensor(4.9286))\n",
      "109)\t[sub, 9, 5] (fit: tensor(5.0768))\n",
      "110)\t[sub, tensor(-1.9539), 9] (fit: tensor(6.9149))\n",
      "111)\t[div, 8, 1] (fit: tensor(12.7145))\n",
      "112)\t[add, add, 5, div, 10, 7, 8] (fit: tensor(10.3844))\n",
      "113)\t[add, 2, 6] (fit: tensor(5.2077))\n",
      "114)\t[div, 5, 0] (fit: tensor(4.8172))\n",
      "115)\t[add, div, 9, add, 4, tensor(-2.1757), 1] (fit: tensor(5.1902))\n",
      "116)\t[div, tensor(0.1215), add, 4, add, 11, tensor(-1.8452)] (fit: tensor(7.4717))\n",
      "117)\t[mul, sub, mul, 2, 7, add, 5, 10, add, tensor(-2.4669), add, 1, tensor(0.2816)] (fit: tensor(5.9158))\n",
      "118)\t[mul, 8, 10] (fit: tensor(5.1171))\n",
      "119)\t[add, 9, 9] (fit: tensor(5.2863))\n",
      "120)\t[sub, 7, add, 9, 10] (fit: tensor(5.1394))\n",
      "121)\t[sub, 9, 11] (fit: tensor(5.0868))\n",
      "122)\t[sub, 4, 6] (fit: tensor(5.0558))\n",
      "123)\t[div, tensor(2.5737), 5] (fit: tensor(133.7127))\n",
      "124)\t[mul, 7, 10] (fit: tensor(4.8899))\n",
      "125)\t[mul, tensor(-3.8878), div, 0, 9] (fit: tensor(12.3354))\n",
      "126)\t[add, 10, 11] (fit: tensor(5.0608))\n",
      "127)\t[div, 10, div, 6, 1] (fit: tensor(28.9939))\n",
      "128)\t[mul, add, 3, 9, div, tensor(2.0447), 2] (fit: tensor(104.0205))\n",
      "129)\t[mul, 5, 9] (fit: tensor(4.8789))\n",
      "130)\t[add, 10, 4] (fit: tensor(5.0470))\n",
      "131)\t[add, 3, 3] (fit: tensor(5.2852))\n",
      "132)\t[add, 0, 10] (fit: tensor(5.0109))\n",
      "133)\t[add, add, tensor(0.3795), 9, mul, 4, 2] (fit: tensor(4.2630))\n",
      "134)\t[mul, mul, tensor(-1.7331), tensor(-3.1495), mul, 4, tensor(-1.8614)] (fit: tensor(11.2541))\n",
      "135)\t[mul, 0, 0] (fit: tensor(3.9545))\n",
      "136)\t[add, mul, 3, 1, mul, 8, 11] (fit: tensor(5.0351))\n",
      "137)\t[add, 5, 10] (fit: tensor(5.0337))\n",
      "138)\t[sub, tensor(4.3173), 2] (fit: tensor(1.1446))\n",
      "139)\t[add, 6, 5] (fit: tensor(5.0450))\n",
      "140)\t[div, 5, 8] (fit: tensor(5.2461))\n",
      "141)\t[add, div, 2, 10, mul, tensor(1.1204), 5] (fit: tensor(30.8190))\n",
      "142)\t[mul, 6, div, 2, tensor(-3.1321)] (fit: tensor(5.0886))\n",
      "143)\t[add, 11, 5] (fit: tensor(5.1064))\n",
      "144)\t[div, mul, tensor(-2.2912), tensor(3.3774), 6] (fit: tensor(283.9851))\n",
      "145)\t[mul, mul, 0, tensor(-3.6455), 4] (fit: tensor(7.5263))\n",
      "146)\t[mul, tensor(0.7340), 7] (fit: tensor(4.9430))\n",
      "147)\t[sub, 1, 2] (fit: tensor(5.0918))\n",
      "148)\t[mul, 5, tensor(-1.3967)] (fit: tensor(5.0892))\n",
      "149)\t[mul, add, 3, 11, mul, 8, add, 5, 8] (fit: tensor(6.2737))\n",
      "150)\t[div, 9, sub, 1, tensor(1.5841)] (fit: tensor(5.7119))\n",
      "151)\t[div, 3, 4] (fit: tensor(29.5833))\n",
      "152)\t[div, 4, div, 6, 10] (fit: tensor(46.1184))\n",
      "153)\t[sub, 10, div, div, 8, 7, sub, tensor(1.3972), 0] (fit: tensor(128.0307))\n",
      "154)\t[sub, 8, sub, tensor(0.5267), 9] (fit: tensor(5.7066))\n",
      "155)\t[div, 7, 10] (fit: tensor(22.9479))\n",
      "156)\t[div, 5, 7] (fit: tensor(15.7728))\n",
      "157)\t[add, 2, 9] (fit: tensor(5.1038))\n",
      "158)\t[mul, sub, mul, 1, 2, 11, 11] (fit: tensor(5.9721))\n",
      "159)\t[sub, 4, div, 2, 5] (fit: tensor(62.4533))\n",
      "160)\t[add, 8, sub, 7, 0] (fit: tensor(5.2367))\n",
      "161)\t[add, add, 6, sub, 9, 9, 4] (fit: tensor(5.1337))\n",
      "162)\t[div, 0, 1] (fit: tensor(20.7003))\n",
      "163)\t[mul, 11, sub, 4, 8] (fit: tensor(4.7757))\n",
      "164)\t[add, 6, 5] (fit: tensor(5.0450))\n",
      "165)\t[mul, mul, 3, 2, add, tensor(-3.4830), 4] (fit: tensor(5.6541))\n",
      "166)\t[sub, 7, 4] (fit: tensor(5.1258))\n",
      "167)\t[sub, 7, sub, 8, 5] (fit: tensor(5.1339))\n",
      "168)\t[sub, 5, 11] (fit: tensor(5.0681))\n",
      "169)\t[sub, mul, mul, tensor(-1.7906), 0, 9, 4] (fit: tensor(5.7189))\n",
      "170)\t[mul, 6, add, 5, 9] (fit: tensor(5.3151))\n",
      "171)\t[div, div, 5, 2, mul, 6, 10] (fit: tensor(320.3824))\n",
      "172)\t[div, 8, 2] (fit: tensor(28.1982))\n",
      "173)\t[add, sub, 9, 0, 3] (fit: tensor(5.1207))\n",
      "174)\t[mul, 0, mul, 2, div, 11, 6] (fit: tensor(9.6187))\n",
      "175)\t[sub, 11, 0] (fit: tensor(4.9925))\n",
      "176)\t[div, 3, 1] (fit: tensor(19.6711))\n",
      "177)\t[sub, sub, 2, 5, 5] (fit: tensor(5.3895))\n",
      "178)\t[mul, 3, 6] (fit: tensor(5.1791))\n",
      "179)\t[sub, 0, add, sub, 3, 5, sub, 8, 5] (fit: tensor(5.4633))\n",
      "180)\t[add, 2, 2] (fit: tensor(5.2869))\n",
      "181)\t[div, 7, 9] (fit: tensor(5.6236))\n",
      "182)\t[sub, 8, 10] (fit: tensor(5.1190))\n",
      "183)\t[sub, 8, 11] (fit: tensor(5.0873))\n",
      "184)\t[div, add, 11, 5, mul, 9, tensor(-0.6816)] (fit: tensor(8.0059))\n",
      "185)\t[mul, 0, 6] (fit: tensor(5.1866))\n",
      "186)\t[add, div, 4, 7, 4] (fit: tensor(12.9058))\n",
      "187)\t[mul, 9, div, 10, 8] (fit: tensor(5.0695))\n",
      "188)\t[sub, div, tensor(-3.5216), 4, 8] (fit: tensor(187.4760))\n",
      "189)\t[div, 2, 7] (fit: tensor(11.2000))\n",
      "190)\t[sub, 2, mul, 1, 10] (fit: tensor(5.1790))\n",
      "191)\t[div, sub, add, 10, tensor(-0.0164), 10, mul, add, 1, 3, mul, 1, 9] (fit: tensor(4.9569))\n",
      "192)\t[sub, div, tensor(0.9601), 0, 4] (fit: tensor(4.6452))\n",
      "193)\t[sub, 1, mul, 6, 5] (fit: tensor(4.8822))\n",
      "194)\t[mul, 0, tensor(-0.5355)] (fit: tensor(4.9176))\n",
      "195)\t[mul, 11, 10] (fit: tensor(5.1400))\n",
      "196)\t[add, 11, 3] (fit: tensor(5.1276))\n",
      "197)\t[mul, 6, 0] (fit: tensor(5.1866))\n",
      "198)\t[mul, 4, 5] (fit: tensor(4.8504))\n",
      "199)\t[add, 1, 11] (fit: tensor(5.0970))\n",
      "200)\t[sub, 0, 2] (fit: tensor(5.0824))\n",
      "201)\t[sub, 9, 3] (fit: tensor(5.0691))\n",
      "202)\t[div, 1, 2] (fit: tensor(86.9860))\n",
      "203)\t[div, add, 1, 1, 6] (fit: tensor(79.2910))\n",
      "204)\t[add, sub, 3, 0, 3] (fit: tensor(5.2923))\n",
      "205)\t[add, div, 0, tensor(-4.5465), 1] (fit: tensor(4.9945))\n",
      "206)\t[sub, 2, 3] (fit: tensor(5.0880))\n",
      "207)\t[div, mul, div, 5, 10, 10, mul, mul, 3, 8, div, 3, tensor(-2.8399)] (fit: tensor(100.5884))\n",
      "208)\t[add, 11, 10] (fit: tensor(5.0608))\n",
      "209)\t[sub, add, 1, 8, tensor(4.5296)] (fit: tensor(9.5255))\n",
      "210)\t[sub, mul, 3, 4, 0] (fit: tensor(4.6596))\n",
      "211)\t[add, tensor(-4.2309), 1] (fit: tensor(9.1749))\n",
      "212)\t[mul, mul, mul, 10, 11, mul, 8, 1, mul, 1, 0] (fit: tensor(5.3178))\n",
      "213)\t[div, 6, 8] (fit: tensor(5.4875))\n",
      "214)\t[sub, mul, 2, 8, div, 6, 11] (fit: tensor(25.1012))\n",
      "215)\t[sub, add, sub, 9, 4, 8, div, mul, tensor(-0.1958), 6, tensor(3.0086)] (fit: tensor(5.2544))\n",
      "216)\t[add, 2, sub, sub, tensor(-1.6210), 10, 9] (fit: tensor(6.6597))\n",
      "217)\t[mul, 5, 9] (fit: tensor(4.8789))\n",
      "218)\t[mul, mul, tensor(-0.8051), tensor(2.6262), mul, 1, 4] (fit: tensor(5.1706))\n",
      "219)\t[div, 4, 7] (fit: tensor(12.9589))\n",
      "220)\t[sub, 4, 5] (fit: tensor(5.0717))\n",
      "221)\t[mul, 2, 10] (fit: tensor(4.6537))\n",
      "222)\t[sub, 1, 10] (fit: tensor(5.0795))\n",
      "223)\t[add, 4, 7] (fit: tensor(5.0503))\n",
      "224)\t[div, 3, 11] (fit: tensor(23.4104))\n",
      "225)\t[add, 6, 3] (fit: tensor(5.0550))\n",
      "\n"
     ]
    }
   ],
   "source": [
    "print(mheuristic.pop)"
   ]
  },
  {
   "cell_type": "code",
   "execution_count": 11,
   "metadata": {},
   "outputs": [
    {
     "name": "stdout",
     "output_type": "stream",
     "text": [
      "[mul, div, sub, 6, tensor(-4.7165), 0, 3]\n"
     ]
    }
   ],
   "source": [
    "print(mheuristic.pop.individuals[0].repr_)"
   ]
  },
  {
   "cell_type": "code",
   "execution_count": 12,
   "metadata": {},
   "outputs": [
    {
     "name": "stdout",
     "output_type": "stream",
     "text": [
      "mul( div( sub( x_6, -4.7165 ) x_0 ) x_3 )\n"
     ]
    }
   ],
   "source": [
    "mheuristic.pop.individuals[0].printTree()"
   ]
  },
  {
   "cell_type": "code",
   "execution_count": 13,
   "metadata": {},
   "outputs": [
    {
     "name": "stdout",
     "output_type": "stream",
     "text": [
      "mul( div( sub( milkings_day, -4.7165 ) lactation ) rumination_min_day )\n"
     ]
    }
   ],
   "source": [
    "feature_names = pd.read_csv('datamart/X_train_clipped_scaled.csv').columns\n",
    "mheuristic.pop.individuals[0].printTree(feature_names=feature_names)"
   ]
  },
  {
   "cell_type": "code",
   "execution_count": 14,
   "metadata": {},
   "outputs": [
    {
     "name": "stdout",
     "output_type": "stream",
     "text": [
      "\n",
      "GP population: <class 'gpolnel.utils.population.PopulationTree'> (226 individuals)\n",
      "\n",
      "Poppulation fitness tensor([8.8911, 5.2662, 4.9594])...\n",
      "Poppulation valid [True, True, True]...\n",
      "\n",
      "Individual 0: [mul, div, sub, 6, tensor(-4.7165), 0, 3], fitness 8.891142845153809\n",
      "Individual 1: [add, add, 0, 6, mul, 8, 10], fitness 5.266204833984375\n",
      "Individual 2: [mul, 6, mul, 5, 10], fitness 4.959446907043457\n",
      "\n",
      "GP best individual add( 4.7747, x_11 ), fitness 1.0133055448532104\n",
      "\n",
      "\n"
     ]
    }
   ],
   "source": [
    "print(f'\\nGP population: {mheuristic.pop.__class__} ({len(mheuristic.pop)} individuals)')\n",
    "\n",
    "print(f'\\nPoppulation fitness {mheuristic.pop.fit[:3]}...')\n",
    "print(f'Poppulation valid {mheuristic.pop.valid[:3]}...\\n')\n",
    "\n",
    "for i in range(3):\n",
    "    print(f'Individual {i}: {mheuristic.pop.individuals[i].repr_}, fitness {mheuristic.pop.individuals[i].fit}')\n",
    "\n",
    "print(f'\\nGP best individual {mheuristic.best_sol.printTree(out=\"string\")}, fitness {mheuristic.best_sol.fit}\\n\\n')\n"
   ]
  },
  {
   "cell_type": "code",
   "execution_count": 15,
   "metadata": {},
   "outputs": [
    {
     "name": "stdout",
     "output_type": "stream",
     "text": [
      "-------------------------------------------------------------------------------------------------------\n",
      "           |                    Best solution                      |            Population            |\n",
      "-------------------------------------------------------------------------------------------------------\n",
      "Generation | Length   Fitness          Test Fitness         Timing | AVG Fitness           STD Fitness\n",
      "-------------------------------------------------------------------------------------------------------\n",
      "0          | 3        1.13076          1.06948               0.114 | -1                             -1\n",
      "1          | 5        0.532116         0.520087              0.161 | -1                             -1\n",
      "2          | 9        0.496285         0.540506              0.192 | -1                             -1\n",
      "3          | 1        0.476284         0.487725              0.166 | -1                             -1\n",
      "4          | 11       0.0686963        0.0714806             0.152 | -1                             -1\n",
      "5          | 11       0.0686963        0.0714806             0.142 | -1                             -1\n",
      "6          | 11       0.0686963        0.0714806             0.156 | -1                             -1\n",
      "7          | 11       0.0686963        0.0714806             0.167 | -1                             -1\n",
      "8          | 11       0.0686963        0.0714806             0.167 | -1                             -1\n",
      "9          | 11       0.0686963        0.0714806             0.164 | -1                             -1\n",
      "10         | 11       0.0686963        0.0714806             0.177 | -1                             -1\n",
      "11         | 11       0.0686963        0.0714806             0.156 | -1                             -1\n",
      "12         | 11       0.0686963        0.0714806             0.153 | -1                             -1\n",
      "13         | 11       0.0686963        0.0714806             0.163 | -1                             -1\n",
      "14         | 11       0.0686963        0.0714806             0.161 | -1                             -1\n",
      "15         | 11       0.0686963        0.0714806             0.183 | -1                             -1\n",
      "16         | 11       0.0686963        0.0714806             0.191 | -1                             -1\n",
      "17         | 11       0.0686963        0.0714806             0.164 | -1                             -1\n",
      "18         | 11       0.0686963        0.0714806             0.186 | -1                             -1\n",
      "19         | 11       0.0686963        0.0714806             0.163 | -1                             -1\n",
      "20         | 11       0.0686963        0.0714806             0.182 | -1                             -1\n",
      "21         | 11       0.0686963        0.0714806             0.172 | -1                             -1\n",
      "22         | 11       0.0686963        0.0714806             0.182 | -1                             -1\n",
      "23         | 11       0.0686963        0.0714806             0.277 | -1                             -1\n",
      "24         | 11       0.0686963        0.0714806             0.209 | -1                             -1\n",
      "25         | 11       0.0686963        0.0714806             0.179 | -1                             -1\n",
      "26         | 11       0.0686963        0.0714806             0.172 | -1                             -1\n",
      "27         | 11       0.0686963        0.0714806             0.162 | -1                             -1\n",
      "28         | 11       0.0686963        0.0714806             0.165 | -1                             -1\n",
      "29         | 11       0.0686963        0.0714806             0.179 | -1                             -1\n",
      "30         | 11       0.0686963        0.0714806             0.170 | -1                             -1\n",
      "31         | 11       0.0686963        0.0714806             0.175 | -1                             -1\n",
      "32         | 11       0.0686963        0.0714806             0.173 | -1                             -1\n",
      "33         | 11       0.0686963        0.0714806             0.169 | -1                             -1\n",
      "34         | 11       0.0686963        0.0714806             0.178 | -1                             -1\n",
      "35         | 11       0.0686963        0.0714806             0.192 | -1                             -1\n",
      "36         | 11       0.0686963        0.0714806             0.174 | -1                             -1\n",
      "37         | 11       0.0686963        0.0714806             0.181 | -1                             -1\n",
      "38         | 11       0.0686963        0.0714806             0.178 | -1                             -1\n",
      "39         | 11       0.0686963        0.0714806             0.184 | -1                             -1\n",
      "40         | 11       0.0686963        0.0714806             0.176 | -1                             -1\n",
      "41         | 11       0.0686963        0.0714806             0.152 | -1                             -1\n",
      "42         | 11       0.0686963        0.0714806             0.163 | -1                             -1\n",
      "43         | 11       0.0686963        0.0714806             0.173 | -1                             -1\n",
      "44         | 11       0.0686963        0.0714806             0.166 | -1                             -1\n",
      "45         | 11       0.0686963        0.0714806             0.186 | -1                             -1\n",
      "46         | 11       0.0686963        0.0714806             0.178 | -1                             -1\n",
      "47         | 11       0.0686963        0.0714806             0.180 | -1                             -1\n",
      "48         | 11       0.0686963        0.0714806             0.170 | -1                             -1\n",
      "49         | 11       0.0686963        0.0714806             0.178 | -1                             -1\n",
      "50         | 11       0.0686963        0.0714806             0.268 | -1                             -1\n",
      "51         | 11       0.0686963        0.0714806             0.173 | -1                             -1\n",
      "52         | 11       0.0686963        0.0714806             0.167 | -1                             -1\n",
      "53         | 11       0.0686963        0.0714806             0.168 | -1                             -1\n",
      "54         | 11       0.0686963        0.0714806             0.211 | -1                             -1\n",
      "55         | 11       0.0686963        0.0714805             0.169 | -1                             -1\n",
      "56         | 11       0.0686963        0.0714805             0.169 | -1                             -1\n",
      "57         | 11       0.0686963        0.0714805             0.177 | -1                             -1\n",
      "58         | 11       0.0686963        0.0714805             0.179 | -1                             -1\n",
      "59         | 11       0.0686963        0.0714805             0.171 | -1                             -1\n",
      "60         | 11       0.0686963        0.0714805             0.169 | -1                             -1\n",
      "61         | 11       0.0686963        0.0714805             0.151 | -1                             -1\n",
      "62         | 11       0.0686963        0.0714805             0.158 | -1                             -1\n",
      "63         | 11       0.0686963        0.0714805             0.158 | -1                             -1\n",
      "64         | 11       0.0686963        0.0714805             0.167 | -1                             -1\n",
      "65         | 11       0.0686963        0.0714805             0.155 | -1                             -1\n",
      "66         | 11       0.0686963        0.0714805             0.167 | -1                             -1\n",
      "67         | 11       0.0686963        0.0714805             0.179 | -1                             -1\n",
      "68         | 11       0.0686963        0.0714805             0.159 | -1                             -1\n",
      "69         | 11       0.0686963        0.0714805             0.157 | -1                             -1\n",
      "70         | 11       0.0686963        0.0714805             0.169 | -1                             -1\n",
      "71         | 11       0.0686963        0.0714805             0.164 | -1                             -1\n",
      "72         | 11       0.0686963        0.0714805             0.155 | -1                             -1\n",
      "73         | 11       0.0686963        0.0714805             0.157 | -1                             -1\n",
      "74         | 11       0.0686963        0.0714805             0.164 | -1                             -1\n",
      "75         | 11       0.0686963        0.0714805             0.174 | -1                             -1\n",
      "76         | 11       0.0686963        0.0714805             0.156 | -1                             -1\n",
      "77         | 11       0.0686963        0.0714805             0.151 | -1                             -1\n",
      "78         | 11       0.0686963        0.0714805             0.161 | -1                             -1\n",
      "79         | 11       0.0686963        0.0714805             0.162 | -1                             -1\n",
      "80         | 11       0.0686963        0.0714805             0.166 | -1                             -1\n",
      "81         | 11       0.0686963        0.0714805             0.164 | -1                             -1\n",
      "82         | 11       0.0686963        0.0714805             0.151 | -1                             -1\n",
      "83         | 11       0.0686963        0.0714805             0.159 | -1                             -1\n",
      "84         | 11       0.0686963        0.0714805             0.162 | -1                             -1\n",
      "85         | 11       0.0686963        0.0714805             0.178 | -1                             -1\n",
      "86         | 11       0.0686963        0.0714805             0.163 | -1                             -1\n",
      "87         | 11       0.0686963        0.0714805             0.161 | -1                             -1\n",
      "88         | 11       0.0686963        0.0714805             0.164 | -1                             -1\n",
      "89         | 11       0.0686963        0.0714805             0.169 | -1                             -1\n",
      "90         | 11       0.0686963        0.0714805             0.162 | -1                             -1\n",
      "91         | 11       0.0686963        0.0714805             0.167 | -1                             -1\n",
      "92         | 11       0.0686963        0.0714805             0.158 | -1                             -1\n",
      "93         | 11       0.0686963        0.0714805             0.159 | -1                             -1\n",
      "94         | 11       0.0686963        0.0714805             0.160 | -1                             -1\n",
      "95         | 11       0.0686963        0.0714805             0.164 | -1                             -1\n",
      "96         | 11       0.0686963        0.0714805             0.149 | -1                             -1\n",
      "97         | 11       0.0686963        0.0714805             0.170 | -1                             -1\n",
      "98         | 11       0.0686963        0.0714805             0.163 | -1                             -1\n",
      "99         | 11       0.0686963        0.0714805             0.167 | -1                             -1\n",
      "100        | 11       0.0686963        0.0714805             0.164 | -1                             -1\n",
      "101        | 11       0.0686963        0.0714805             0.195 | -1                             -1\n",
      "102        | 11       0.0686963        0.0714805             0.172 | -1                             -1\n",
      "103        | 11       0.0686963        0.0714805             0.167 | -1                             -1\n",
      "104        | 11       0.0686963        0.0714805             0.159 | -1                             -1\n",
      "105        | 11       0.0686963        0.0714805             0.175 | -1                             -1\n",
      "106        | 11       0.0686963        0.0714805             0.161 | -1                             -1\n",
      "107        | 11       0.0686963        0.0714805             0.166 | -1                             -1\n",
      "108        | 11       0.0686963        0.0714805             0.178 | -1                             -1\n",
      "109        | 11       0.0686963        0.0714805             0.177 | -1                             -1\n",
      "110        | 11       0.0686963        0.0714805             0.155 | -1                             -1\n",
      "111        | 11       0.0686963        0.0714805             0.179 | -1                             -1\n",
      "112        | 11       0.0686963        0.0714805             0.160 | -1                             -1\n",
      "113        | 11       0.0686963        0.0714805             0.155 | -1                             -1\n",
      "114        | 11       0.0686963        0.0714805             0.158 | -1                             -1\n",
      "115        | 11       0.0686963        0.0714805             0.152 | -1                             -1\n",
      "116        | 11       0.0686963        0.0714805             0.154 | -1                             -1\n",
      "117        | 11       0.0686963        0.0714805             0.165 | -1                             -1\n",
      "118        | 11       0.0686963        0.0714805             0.220 | -1                             -1\n",
      "119        | 11       0.0686963        0.0714805             0.177 | -1                             -1\n",
      "120        | 11       0.0686963        0.0714805             0.159 | -1                             -1\n",
      "121        | 11       0.0686963        0.0714805             0.172 | -1                             -1\n",
      "122        | 11       0.0686963        0.0714805             0.168 | -1                             -1\n",
      "123        | 11       0.0686963        0.0714805             0.164 | -1                             -1\n",
      "124        | 11       0.0686963        0.0714805             0.158 | -1                             -1\n",
      "125        | 11       0.0686963        0.0714805             0.172 | -1                             -1\n",
      "126        | 11       0.0686963        0.0714805             0.160 | -1                             -1\n",
      "127        | 11       0.0686963        0.0714805             0.152 | -1                             -1\n",
      "128        | 11       0.0686963        0.0714805             0.154 | -1                             -1\n",
      "129        | 11       0.0686963        0.0714805             0.166 | -1                             -1\n",
      "130        | 11       0.0686963        0.0714805             0.157 | -1                             -1\n",
      "131        | 11       0.0686963        0.0714805             0.153 | -1                             -1\n",
      "132        | 11       0.0686963        0.0714805             0.152 | -1                             -1\n",
      "133        | 11       0.0686963        0.0714805             0.182 | -1                             -1\n",
      "134        | 11       0.0686963        0.0714805             0.160 | -1                             -1\n",
      "135        | 11       0.0686963        0.0714805             0.177 | -1                             -1\n",
      "136        | 11       0.0686963        0.0714805             0.160 | -1                             -1\n",
      "137        | 11       0.0686963        0.0714805             0.154 | -1                             -1\n",
      "138        | 11       0.0686963        0.0714805             0.157 | -1                             -1\n",
      "139        | 11       0.0686963        0.0714805             0.161 | -1                             -1\n",
      "140        | 11       0.0686963        0.0714805             0.163 | -1                             -1\n",
      "141        | 11       0.0686963        0.0714805             0.154 | -1                             -1\n",
      "142        | 11       0.0686963        0.0714805             0.158 | -1                             -1\n",
      "143        | 11       0.0686963        0.0714805             0.151 | -1                             -1\n",
      "144        | 11       0.0686963        0.0714805             0.159 | -1                             -1\n",
      "145        | 11       0.0686963        0.0714805             0.175 | -1                             -1\n",
      "146        | 11       0.0686963        0.0714805             0.202 | -1                             -1\n",
      "147        | 11       0.0686963        0.0714805             0.188 | -1                             -1\n",
      "148        | 11       0.0686963        0.0714805             0.175 | -1                             -1\n",
      "149        | 11       0.0686963        0.0714805             0.183 | -1                             -1\n",
      "150        | 11       0.0686963        0.0714805             0.189 | -1                             -1\n",
      "151        | 11       0.0686963        0.0714805             0.167 | -1                             -1\n",
      "152        | 11       0.0673172        0.0621984             0.192 | -1                             -1\n",
      "153        | 15       0.0654371        0.0678203             0.189 | -1                             -1\n",
      "154        | 15       0.0654371        0.0678203             0.204 | -1                             -1\n",
      "155        | 15       0.0654371        0.0678203             0.229 | -1                             -1\n",
      "156        | 13       0.0628745        0.0595306             0.189 | -1                             -1\n",
      "157        | 13       0.0628745        0.0595306             0.197 | -1                             -1\n",
      "158        | 15       0.061257         0.0599192             0.190 | -1                             -1\n",
      "159        | 15       0.061257         0.0599192             0.198 | -1                             -1\n",
      "160        | 15       0.061257         0.0599192             0.216 | -1                             -1\n",
      "161        | 19       0.0601573        0.0609453             0.212 | -1                             -1\n",
      "162        | 19       0.0601573        0.0609453             0.186 | -1                             -1\n",
      "163        | 19       0.0601573        0.0609453             0.197 | -1                             -1\n",
      "164        | 19       0.0593133        0.0590565             0.210 | -1                             -1\n",
      "165        | 19       0.0593133        0.0590565             0.211 | -1                             -1\n",
      "166        | 19       0.0593133        0.0590565             0.198 | -1                             -1\n",
      "167        | 19       0.0593133        0.0590565             0.201 | -1                             -1\n",
      "168        | 19       0.0593133        0.0590565             0.212 | -1                             -1\n",
      "169        | 19       0.0593133        0.0590565             0.214 | -1                             -1\n",
      "170        | 19       0.0593133        0.0590565             0.189 | -1                             -1\n",
      "171        | 19       0.0593133        0.0590565             0.208 | -1                             -1\n",
      "172        | 19       0.0593133        0.0590565             0.213 | -1                             -1\n",
      "173        | 19       0.0593133        0.0590565             0.220 | -1                             -1\n",
      "174        | 19       0.0593133        0.0590565             0.195 | -1                             -1\n",
      "175        | 19       0.0593133        0.0590565             0.204 | -1                             -1\n",
      "176        | 19       0.0593133        0.0590565             0.199 | -1                             -1\n",
      "177        | 19       0.0593133        0.0590565             0.191 | -1                             -1\n",
      "178        | 19       0.0593133        0.0590565             0.212 | -1                             -1\n",
      "179        | 19       0.0593133        0.0590565             0.206 | -1                             -1\n",
      "180        | 19       0.0593133        0.0590565             0.196 | -1                             -1\n",
      "181        | 19       0.0593133        0.0590565             0.215 | -1                             -1\n",
      "182        | 19       0.0593133        0.0590565             0.215 | -1                             -1\n",
      "183        | 19       0.0593133        0.0590565             0.208 | -1                             -1\n",
      "184        | 19       0.0593133        0.0590565             0.195 | -1                             -1\n",
      "185        | 19       0.0593133        0.0590565             0.199 | -1                             -1\n",
      "186        | 19       0.0593133        0.0590565             0.204 | -1                             -1\n",
      "187        | 19       0.0593133        0.0590565             0.203 | -1                             -1\n",
      "188        | 19       0.0593133        0.0590565             0.211 | -1                             -1\n",
      "189        | 19       0.0593133        0.0590565             0.201 | -1                             -1\n",
      "190        | 19       0.0593133        0.0590565             0.215 | -1                             -1\n",
      "191        | 19       0.0593133        0.0590565             0.197 | -1                             -1\n",
      "192        | 19       0.0593133        0.0590565             0.181 | -1                             -1\n",
      "193        | 19       0.0593133        0.0590565             0.208 | -1                             -1\n",
      "194        | 19       0.0593133        0.0590565             0.235 | -1                             -1\n",
      "195        | 19       0.0593133        0.0590565             0.191 | -1                             -1\n",
      "196        | 19       0.0593133        0.0590565             0.203 | -1                             -1\n",
      "197        | 19       0.0593133        0.0590565             0.219 | -1                             -1\n",
      "198        | 19       0.0593133        0.0590565             0.209 | -1                             -1\n",
      "199        | 19       0.0593133        0.0590565             0.209 | -1                             -1\n",
      "200        | 19       0.0593133        0.0590565             0.197 | -1                             -1\n",
      "201        | 19       0.0593133        0.0590565             0.185 | -1                             -1\n",
      "202        | 19       0.0593133        0.0590565             0.192 | -1                             -1\n",
      "203        | 19       0.0593133        0.0590565             0.188 | -1                             -1\n",
      "204        | 19       0.0593133        0.0590565             0.184 | -1                             -1\n",
      "205        | 19       0.0593133        0.0590565             0.185 | -1                             -1\n",
      "206        | 19       0.0593133        0.0590565             0.191 | -1                             -1\n",
      "207        | 19       0.0593133        0.0590565             0.203 | -1                             -1\n",
      "208        | 19       0.0593133        0.0590565             0.199 | -1                             -1\n",
      "209        | 19       0.0593133        0.0590565             0.184 | -1                             -1\n",
      "210        | 19       0.0593133        0.0590565             0.195 | -1                             -1\n",
      "211        | 19       0.0593133        0.0590565             0.196 | -1                             -1\n",
      "212        | 19       0.0593133        0.0590565             0.204 | -1                             -1\n",
      "213        | 19       0.0593133        0.0590565             0.198 | -1                             -1\n",
      "214        | 19       0.0593133        0.0590565             0.184 | -1                             -1\n",
      "215        | 19       0.0593133        0.0590565             0.197 | -1                             -1\n",
      "216        | 19       0.0593133        0.0590565             0.192 | -1                             -1\n",
      "217        | 19       0.0593133        0.0590565             0.193 | -1                             -1\n",
      "218        | 19       0.0593133        0.0590565             0.179 | -1                             -1\n",
      "219        | 19       0.0593133        0.0590565             0.197 | -1                             -1\n",
      "220        | 19       0.0593133        0.0590565             0.193 | -1                             -1\n",
      "221        | 19       0.0593133        0.0590565             0.196 | -1                             -1\n",
      "222        | 19       0.0593133        0.0590565             0.179 | -1                             -1\n",
      "223        | 19       0.0593133        0.0590565             0.195 | -1                             -1\n",
      "224        | 19       0.0593133        0.0590565             0.186 | -1                             -1\n",
      "225        | 19       0.0593133        0.0590565             0.179 | -1                             -1\n",
      "226        | 19       0.0593133        0.0590565             0.190 | -1                             -1\n",
      "227        | 19       0.0593133        0.0590565             0.183 | -1                             -1\n",
      "228        | 19       0.0593133        0.0590565             0.199 | -1                             -1\n",
      "229        | 19       0.0593133        0.0590565             0.213 | -1                             -1\n",
      "230        | 19       0.0593133        0.0590565             0.197 | -1                             -1\n",
      "231        | 19       0.0593133        0.0590565             0.196 | -1                             -1\n",
      "232        | 19       0.0593133        0.0590565             0.191 | -1                             -1\n",
      "233        | 19       0.0593133        0.0590565             0.229 | -1                             -1\n",
      "234        | 19       0.0593133        0.0590565             0.187 | -1                             -1\n",
      "235        | 19       0.0593133        0.0590565             0.193 | -1                             -1\n",
      "236        | 19       0.0593133        0.0590565             0.209 | -1                             -1\n",
      "237        | 19       0.0593133        0.0590565             0.201 | -1                             -1\n",
      "238        | 19       0.0593133        0.0590565             0.214 | -1                             -1\n",
      "239        | 19       0.0593133        0.0590565             0.200 | -1                             -1\n",
      "240        | 19       0.0593133        0.0590565             0.203 | -1                             -1\n",
      "241        | 19       0.0593133        0.0590565             0.190 | -1                             -1\n",
      "242        | 19       0.0593133        0.0590565             0.207 | -1                             -1\n",
      "243        | 19       0.0593133        0.0590565             0.187 | -1                             -1\n",
      "244        | 19       0.0593133        0.0590565             0.225 | -1                             -1\n",
      "245        | 19       0.0593133        0.0590565             0.206 | -1                             -1\n",
      "246        | 19       0.0593133        0.0590565             0.232 | -1                             -1\n",
      "247        | 19       0.0593133        0.0590565             0.189 | -1                             -1\n",
      "248        | 19       0.0593133        0.0590565             0.184 | -1                             -1\n",
      "249        | 19       0.0593133        0.0590565             0.183 | -1                             -1\n",
      "250        | 19       0.0593133        0.0590565             0.193 | -1                             -1\n",
      "251        | 19       0.0593133        0.0590565             0.183 | -1                             -1\n",
      "252        | 19       0.0593133        0.0590565             0.201 | -1                             -1\n",
      "253        | 19       0.0593133        0.0590565             0.200 | -1                             -1\n",
      "254        | 19       0.0593133        0.0590565             0.206 | -1                             -1\n",
      "255        | 19       0.0593133        0.0590565             0.186 | -1                             -1\n",
      "256        | 19       0.0593133        0.0590565             0.198 | -1                             -1\n",
      "257        | 19       0.0593133        0.0590565             0.263 | -1                             -1\n",
      "258        | 19       0.0593133        0.0590565             0.197 | -1                             -1\n",
      "259        | 19       0.0593133        0.0590565             0.201 | -1                             -1\n",
      "260        | 19       0.0593133        0.0590565             0.211 | -1                             -1\n",
      "261        | 19       0.0593133        0.0590565             0.197 | -1                             -1\n",
      "262        | 19       0.0593133        0.0590565             0.214 | -1                             -1\n",
      "263        | 19       0.0593133        0.0590565             0.197 | -1                             -1\n",
      "264        | 19       0.0593133        0.0590565             0.180 | -1                             -1\n",
      "265        | 19       0.0593133        0.0590565             0.203 | -1                             -1\n",
      "266        | 19       0.0593133        0.0590565             0.208 | -1                             -1\n",
      "267        | 19       0.0593133        0.0590565             0.202 | -1                             -1\n",
      "268        | 19       0.0593133        0.0590565             0.204 | -1                             -1\n",
      "269        | 19       0.0593133        0.0590565             0.217 | -1                             -1\n",
      "270        | 19       0.0593133        0.0590565             0.184 | -1                             -1\n",
      "271        | 19       0.0593133        0.0590565             0.202 | -1                             -1\n",
      "272        | 19       0.0593133        0.0590565             0.186 | -1                             -1\n",
      "273        | 19       0.0593133        0.0590565             0.184 | -1                             -1\n",
      "274        | 19       0.0593133        0.0590565             0.185 | -1                             -1\n",
      "275        | 19       0.0593133        0.0590565             0.204 | -1                             -1\n",
      "276        | 19       0.0593133        0.0590565             0.182 | -1                             -1\n",
      "277        | 19       0.0593133        0.0590565             0.186 | -1                             -1\n",
      "278        | 19       0.0593133        0.0590565             0.207 | -1                             -1\n",
      "279        | 19       0.0593133        0.0590565             0.213 | -1                             -1\n",
      "280        | 19       0.0593133        0.0590565             0.228 | -1                             -1\n",
      "281        | 19       0.0593133        0.0590565             0.201 | -1                             -1\n",
      "282        | 19       0.0593133        0.0590565             0.220 | -1                             -1\n",
      "283        | 19       0.0593133        0.0590565             0.213 | -1                             -1\n",
      "284        | 19       0.0593133        0.0590565             0.210 | -1                             -1\n",
      "285        | 19       0.0593133        0.0590565             0.214 | -1                             -1\n",
      "286        | 19       0.0593133        0.0590565             0.232 | -1                             -1\n",
      "287        | 19       0.0593133        0.0590565             0.264 | -1                             -1\n",
      "288        | 19       0.0593133        0.0590565             0.230 | -1                             -1\n",
      "289        | 19       0.0593133        0.0590565             0.216 | -1                             -1\n",
      "290        | 19       0.0593133        0.0590565             0.252 | -1                             -1\n",
      "291        | 19       0.0593133        0.0590565             0.230 | -1                             -1\n",
      "292        | 19       0.0593133        0.0590565             0.229 | -1                             -1\n",
      "293        | 19       0.0593133        0.0590565             0.204 | -1                             -1\n",
      "294        | 19       0.0593133        0.0590565             0.216 | -1                             -1\n",
      "295        | 19       0.0593133        0.0590565             0.195 | -1                             -1\n",
      "296        | 19       0.0593133        0.0590565             0.203 | -1                             -1\n",
      "297        | 19       0.0593133        0.0590565             0.213 | -1                             -1\n",
      "298        | 19       0.0593133        0.0590565             0.192 | -1                             -1\n",
      "299        | 19       0.0593133        0.0590565             0.192 | -1                             -1\n",
      "300        | 19       0.0593133        0.0590565             0.216 | -1                             -1\n",
      "301        | 19       0.0593133        0.0590565             0.221 | -1                             -1\n",
      "302        | 19       0.0593133        0.0590565             0.250 | -1                             -1\n",
      "303        | 19       0.0593133        0.0590565             0.232 | -1                             -1\n",
      "304        | 19       0.0593133        0.0590565             0.248 | -1                             -1\n",
      "305        | 19       0.0593133        0.0590565             0.244 | -1                             -1\n",
      "306        | 19       0.0593133        0.0590565             0.281 | -1                             -1\n",
      "307        | 19       0.0593133        0.0590565             0.259 | -1                             -1\n",
      "308        | 19       0.0593133        0.0590565             0.243 | -1                             -1\n",
      "309        | 19       0.0593133        0.0590565             0.218 | -1                             -1\n",
      "310        | 19       0.0593133        0.0590565             0.217 | -1                             -1\n"
     ]
    },
    {
     "ename": "KeyboardInterrupt",
     "evalue": "",
     "output_type": "error",
     "traceback": [
      "\u001b[1;31m---------------------------------------------------------------------------\u001b[0m",
      "\u001b[1;31mKeyboardInterrupt\u001b[0m                         Traceback (most recent call last)",
      "Cell \u001b[1;32mIn[15], line 13\u001b[0m\n\u001b[0;32m     10\u001b[0m \u001b[38;5;66;03m# Learning\u001b[39;00m\n\u001b[0;32m     11\u001b[0m n_iter \u001b[38;5;241m=\u001b[39m \u001b[38;5;241m3000\u001b[39m\n\u001b[1;32m---> 13\u001b[0m \u001b[43mmheuristic\u001b[49m\u001b[38;5;241;43m.\u001b[39;49m\u001b[43msolve\u001b[49m\u001b[43m(\u001b[49m\n\u001b[0;32m     14\u001b[0m \u001b[43m    \u001b[49m\u001b[43mn_iter\u001b[49m\u001b[43m,\u001b[49m\n\u001b[0;32m     15\u001b[0m \u001b[43m    \u001b[49m\u001b[43mverbose\u001b[49m\u001b[38;5;241;43m=\u001b[39;49m\u001b[38;5;241;43m3\u001b[39;49m\u001b[43m,\u001b[49m\u001b[43m \u001b[49m\u001b[43mlog\u001b[49m\u001b[38;5;241;43m=\u001b[39;49m\u001b[38;5;241;43m3\u001b[39;49m\u001b[43m,\u001b[49m\u001b[43m \u001b[49m\u001b[43mlog_path\u001b[49m\u001b[38;5;241;43m=\u001b[39;49m\u001b[43mlog_path\u001b[49m\u001b[43m,\u001b[49m\n\u001b[0;32m     16\u001b[0m \u001b[43m    \u001b[49m\u001b[43mtest_elite\u001b[49m\u001b[38;5;241;43m=\u001b[39;49m\u001b[38;5;28;43;01mTrue\u001b[39;49;00m\n\u001b[0;32m     17\u001b[0m \u001b[43m)\u001b[49m\n",
      "File \u001b[1;32mc:\\Users\\leond\\OneDrive\\Desktop\\NeuroEvolutionaryLearning\\Git\\NEUROEVOLUTION\\gpolnel\\algorithms\\genetic_algorithm.py:301\u001b[0m, in \u001b[0;36mGeneticAlgorithm.solve\u001b[1;34m(self, n_iter, tol, n_iter_tol, start_at, test_elite, verbose, log, log_path, log_xp)\u001b[0m\n\u001b[0;32m    298\u001b[0m     offs_pop \u001b[38;5;241m=\u001b[39m torch\u001b[38;5;241m.\u001b[39mstack(offs_pop)\n\u001b[0;32m    300\u001b[0m \u001b[38;5;66;03m# 2) 1)\u001b[39;00m\n\u001b[1;32m--> 301\u001b[0m offs_pop \u001b[38;5;241m=\u001b[39m \u001b[38;5;28;43mglobals\u001b[39;49m\u001b[43m(\u001b[49m\u001b[43m)\u001b[49m\u001b[43m[\u001b[49m\u001b[38;5;28;43mself\u001b[39;49m\u001b[38;5;241;43m.\u001b[39;49m\u001b[43mpop\u001b[49m\u001b[38;5;241;43m.\u001b[39;49m\u001b[38;5;18;43m__class__\u001b[39;49m\u001b[38;5;241;43m.\u001b[39;49m\u001b[38;5;18;43m__name__\u001b[39;49m\u001b[43m]\u001b[49m\u001b[43m(\u001b[49m\u001b[43moffs_pop\u001b[49m\u001b[43m)\u001b[49m\n\u001b[0;32m    302\u001b[0m \u001b[38;5;28mself\u001b[39m\u001b[38;5;241m.\u001b[39mpi\u001b[38;5;241m.\u001b[39mevaluate_pop(offs_pop)\n\u001b[0;32m    304\u001b[0m \u001b[38;5;66;03m# Overrides elites's information, if it was re-evaluated, and removes it from 'offsprings'\u001b[39;00m\n",
      "File \u001b[1;32mc:\\Users\\leond\\OneDrive\\Desktop\\NeuroEvolutionaryLearning\\Git\\NEUROEVOLUTION\\gpolnel\\utils\\population.py:26\u001b[0m, in \u001b[0;36mPopulation.__init__\u001b[1;34m(self, repr_)\u001b[0m\n\u001b[0;32m     24\u001b[0m \u001b[38;5;28mself\u001b[39m\u001b[38;5;241m.\u001b[39mrepr_ \u001b[38;5;241m=\u001b[39m \u001b[38;5;28;01mNone\u001b[39;00m\n\u001b[0;32m     25\u001b[0m \u001b[38;5;28;01mif\u001b[39;00m repr_ \u001b[38;5;129;01mis\u001b[39;00m \u001b[38;5;129;01mnot\u001b[39;00m \u001b[38;5;28;01mNone\u001b[39;00m:\n\u001b[1;32m---> 26\u001b[0m     \u001b[38;5;28;43mself\u001b[39;49m\u001b[38;5;241;43m.\u001b[39;49m\u001b[43m_set_individuals\u001b[49m\u001b[43m(\u001b[49m\u001b[43mrepr_\u001b[49m\u001b[43m)\u001b[49m\n\u001b[0;32m     27\u001b[0m     \u001b[38;5;28mself\u001b[39m\u001b[38;5;241m.\u001b[39m_set_repr(repr_)\n\u001b[0;32m     28\u001b[0m \u001b[38;5;28mself\u001b[39m\u001b[38;5;241m.\u001b[39mvalid \u001b[38;5;241m=\u001b[39m \u001b[38;5;28;01mNone\u001b[39;00m\n",
      "File \u001b[1;32mc:\\Users\\leond\\OneDrive\\Desktop\\NeuroEvolutionaryLearning\\Git\\NEUROEVOLUTION\\gpolnel\\utils\\population.py:263\u001b[0m, in \u001b[0;36mPopulationTree._set_individuals\u001b[1;34m(self, repr_)\u001b[0m\n\u001b[0;32m    252\u001b[0m \u001b[38;5;28;01mdef\u001b[39;00m \u001b[38;5;21m_set_individuals\u001b[39m(\u001b[38;5;28mself\u001b[39m, repr_):\n\u001b[0;32m    253\u001b[0m \u001b[38;5;250m    \u001b[39m\u001b[38;5;124;03m\"\"\"Sets the population individuals whose repr_ are given by repr_ arg.\u001b[39;00m\n\u001b[0;32m    254\u001b[0m \n\u001b[0;32m    255\u001b[0m \u001b[38;5;124;03m    Parameters\u001b[39;00m\n\u001b[1;32m   (...)\u001b[0m\n\u001b[0;32m    261\u001b[0m \u001b[38;5;124;03m    ----------\u001b[39;00m\n\u001b[0;32m    262\u001b[0m \u001b[38;5;124;03m    \"\"\"\u001b[39;00m\n\u001b[1;32m--> 263\u001b[0m     \u001b[38;5;28mself\u001b[39m\u001b[38;5;241m.\u001b[39mindividuals \u001b[38;5;241m=\u001b[39m \u001b[43m[\u001b[49m\u001b[43mTree\u001b[49m\u001b[43m(\u001b[49m\u001b[43mr\u001b[49m\u001b[43m)\u001b[49m\u001b[43m \u001b[49m\u001b[38;5;28;43;01mfor\u001b[39;49;00m\u001b[43m \u001b[49m\u001b[43mr\u001b[49m\u001b[43m \u001b[49m\u001b[38;5;129;43;01min\u001b[39;49;00m\u001b[43m \u001b[49m\u001b[43mrepr_\u001b[49m\u001b[43m]\u001b[49m\n",
      "File \u001b[1;32mc:\\Users\\leond\\OneDrive\\Desktop\\NeuroEvolutionaryLearning\\Git\\NEUROEVOLUTION\\gpolnel\\utils\\population.py:263\u001b[0m, in \u001b[0;36m<listcomp>\u001b[1;34m(.0)\u001b[0m\n\u001b[0;32m    252\u001b[0m \u001b[38;5;28;01mdef\u001b[39;00m \u001b[38;5;21m_set_individuals\u001b[39m(\u001b[38;5;28mself\u001b[39m, repr_):\n\u001b[0;32m    253\u001b[0m \u001b[38;5;250m    \u001b[39m\u001b[38;5;124;03m\"\"\"Sets the population individuals whose repr_ are given by repr_ arg.\u001b[39;00m\n\u001b[0;32m    254\u001b[0m \n\u001b[0;32m    255\u001b[0m \u001b[38;5;124;03m    Parameters\u001b[39;00m\n\u001b[1;32m   (...)\u001b[0m\n\u001b[0;32m    261\u001b[0m \u001b[38;5;124;03m    ----------\u001b[39;00m\n\u001b[0;32m    262\u001b[0m \u001b[38;5;124;03m    \"\"\"\u001b[39;00m\n\u001b[1;32m--> 263\u001b[0m     \u001b[38;5;28mself\u001b[39m\u001b[38;5;241m.\u001b[39mindividuals \u001b[38;5;241m=\u001b[39m [\u001b[43mTree\u001b[49m\u001b[43m(\u001b[49m\u001b[43mr\u001b[49m\u001b[43m)\u001b[49m \u001b[38;5;28;01mfor\u001b[39;00m r \u001b[38;5;129;01min\u001b[39;00m repr_]\n",
      "File \u001b[1;32mc:\\Users\\leond\\OneDrive\\Desktop\\NeuroEvolutionaryLearning\\Git\\NEUROEVOLUTION\\gpolnel\\utils\\tree.py:41\u001b[0m, in \u001b[0;36mTree.__init__\u001b[1;34m(self, repr_)\u001b[0m\n\u001b[0;32m     39\u001b[0m Solution\u001b[38;5;241m.\u001b[39m\u001b[38;5;21m__init__\u001b[39m(\u001b[38;5;28mself\u001b[39m, repr_)\n\u001b[0;32m     40\u001b[0m \u001b[38;5;28mself\u001b[39m\u001b[38;5;241m.\u001b[39m_set_size()\n\u001b[1;32m---> 41\u001b[0m \u001b[38;5;28;43mself\u001b[39;49m\u001b[38;5;241;43m.\u001b[39;49m\u001b[43m_set_complexity\u001b[49m\u001b[43m(\u001b[49m\u001b[43m)\u001b[49m\n\u001b[0;32m     42\u001b[0m \u001b[38;5;28mself\u001b[39m\u001b[38;5;241m.\u001b[39m_set_depth()\n\u001b[0;32m     43\u001b[0m \u001b[38;5;28mself\u001b[39m\u001b[38;5;241m.\u001b[39m_set_depths()\n",
      "File \u001b[1;32mc:\\Users\\leond\\OneDrive\\Desktop\\NeuroEvolutionaryLearning\\Git\\NEUROEVOLUTION\\gpolnel\\utils\\tree.py:168\u001b[0m, in \u001b[0;36mTree._set_complexity\u001b[1;34m(self)\u001b[0m\n\u001b[0;32m    167\u001b[0m \u001b[38;5;28;01mdef\u001b[39;00m \u001b[38;5;21m_set_complexity\u001b[39m(\u001b[38;5;28mself\u001b[39m):\n\u001b[1;32m--> 168\u001b[0m     \u001b[38;5;28mself\u001b[39m\u001b[38;5;241m.\u001b[39mcomplexity \u001b[38;5;241m=\u001b[39m \u001b[38;5;28;43mself\u001b[39;49m\u001b[38;5;241;43m.\u001b[39;49m\u001b[43m_get_complexity\u001b[49m\u001b[43m(\u001b[49m\u001b[43m)\u001b[49m\n",
      "File \u001b[1;32mc:\\Users\\leond\\OneDrive\\Desktop\\NeuroEvolutionaryLearning\\Git\\NEUROEVOLUTION\\gpolnel\\utils\\tree.py:162\u001b[0m, in \u001b[0;36mTree._get_complexity\u001b[1;34m(self)\u001b[0m\n\u001b[0;32m    161\u001b[0m \u001b[38;5;28;01mdef\u001b[39;00m \u001b[38;5;21m_get_complexity\u001b[39m(\u001b[38;5;28mself\u001b[39m):\n\u001b[1;32m--> 162\u001b[0m     \u001b[38;5;28;01mreturn\u001b[39;00m \u001b[38;5;28;43mself\u001b[39;49m\u001b[38;5;241;43m.\u001b[39;49m\u001b[43m_evaluate_complexity\u001b[49m\u001b[43m(\u001b[49m\u001b[43m)\u001b[49m\n",
      "File \u001b[1;32mc:\\Users\\leond\\OneDrive\\Desktop\\NeuroEvolutionaryLearning\\Git\\NEUROEVOLUTION\\gpolnel\\utils\\tree.py:417\u001b[0m, in \u001b[0;36mTree._evaluate_complexity\u001b[1;34m(self, repr_)\u001b[0m\n\u001b[0;32m    415\u001b[0m \u001b[38;5;66;03m# Assess complexity\u001b[39;00m\n\u001b[0;32m    416\u001b[0m \u001b[38;5;28;01mif\u001b[39;00m repr_ \u001b[38;5;129;01mis\u001b[39;00m \u001b[38;5;28;01mNone\u001b[39;00m: repr_ \u001b[38;5;241m=\u001b[39m \u001b[38;5;28mself\u001b[39m\u001b[38;5;241m.\u001b[39mrepr_\n\u001b[1;32m--> 417\u001b[0m repr_ \u001b[38;5;241m=\u001b[39m \u001b[43mdeepcopy\u001b[49m\u001b[43m(\u001b[49m\u001b[43mrepr_\u001b[49m\u001b[43m)\u001b[49m\n\u001b[0;32m    418\u001b[0m \u001b[38;5;66;03m# Sets features complexity values\u001b[39;00m\n\u001b[0;32m    419\u001b[0m repr_ \u001b[38;5;241m=\u001b[39m [\u001b[38;5;124m'\u001b[39m\u001b[38;5;124mfeature\u001b[39m\u001b[38;5;124m'\u001b[39m \u001b[38;5;28;01mif\u001b[39;00m \u001b[38;5;28misinstance\u001b[39m(el, \u001b[38;5;28mint\u001b[39m) \u001b[38;5;28;01melse\u001b[39;00m el \u001b[38;5;28;01mfor\u001b[39;00m el \u001b[38;5;129;01min\u001b[39;00m repr_]\n",
      "File \u001b[1;32mc:\\Users\\leond\\AppData\\Local\\Programs\\Python\\Python311\\Lib\\copy.py:146\u001b[0m, in \u001b[0;36mdeepcopy\u001b[1;34m(x, memo, _nil)\u001b[0m\n\u001b[0;32m    144\u001b[0m copier \u001b[38;5;241m=\u001b[39m _deepcopy_dispatch\u001b[38;5;241m.\u001b[39mget(\u001b[38;5;28mcls\u001b[39m)\n\u001b[0;32m    145\u001b[0m \u001b[38;5;28;01mif\u001b[39;00m copier \u001b[38;5;129;01mis\u001b[39;00m \u001b[38;5;129;01mnot\u001b[39;00m \u001b[38;5;28;01mNone\u001b[39;00m:\n\u001b[1;32m--> 146\u001b[0m     y \u001b[38;5;241m=\u001b[39m \u001b[43mcopier\u001b[49m\u001b[43m(\u001b[49m\u001b[43mx\u001b[49m\u001b[43m,\u001b[49m\u001b[43m \u001b[49m\u001b[43mmemo\u001b[49m\u001b[43m)\u001b[49m\n\u001b[0;32m    147\u001b[0m \u001b[38;5;28;01melse\u001b[39;00m:\n\u001b[0;32m    148\u001b[0m     \u001b[38;5;28;01mif\u001b[39;00m \u001b[38;5;28missubclass\u001b[39m(\u001b[38;5;28mcls\u001b[39m, \u001b[38;5;28mtype\u001b[39m):\n",
      "File \u001b[1;32mc:\\Users\\leond\\AppData\\Local\\Programs\\Python\\Python311\\Lib\\copy.py:206\u001b[0m, in \u001b[0;36m_deepcopy_list\u001b[1;34m(x, memo, deepcopy)\u001b[0m\n\u001b[0;32m    204\u001b[0m append \u001b[38;5;241m=\u001b[39m y\u001b[38;5;241m.\u001b[39mappend\n\u001b[0;32m    205\u001b[0m \u001b[38;5;28;01mfor\u001b[39;00m a \u001b[38;5;129;01min\u001b[39;00m x:\n\u001b[1;32m--> 206\u001b[0m     append(\u001b[43mdeepcopy\u001b[49m\u001b[43m(\u001b[49m\u001b[43ma\u001b[49m\u001b[43m,\u001b[49m\u001b[43m \u001b[49m\u001b[43mmemo\u001b[49m\u001b[43m)\u001b[49m)\n\u001b[0;32m    207\u001b[0m \u001b[38;5;28;01mreturn\u001b[39;00m y\n",
      "File \u001b[1;32mc:\\Users\\leond\\AppData\\Local\\Programs\\Python\\Python311\\Lib\\copy.py:153\u001b[0m, in \u001b[0;36mdeepcopy\u001b[1;34m(x, memo, _nil)\u001b[0m\n\u001b[0;32m    151\u001b[0m copier \u001b[38;5;241m=\u001b[39m \u001b[38;5;28mgetattr\u001b[39m(x, \u001b[38;5;124m\"\u001b[39m\u001b[38;5;124m__deepcopy__\u001b[39m\u001b[38;5;124m\"\u001b[39m, \u001b[38;5;28;01mNone\u001b[39;00m)\n\u001b[0;32m    152\u001b[0m \u001b[38;5;28;01mif\u001b[39;00m copier \u001b[38;5;129;01mis\u001b[39;00m \u001b[38;5;129;01mnot\u001b[39;00m \u001b[38;5;28;01mNone\u001b[39;00m:\n\u001b[1;32m--> 153\u001b[0m     y \u001b[38;5;241m=\u001b[39m \u001b[43mcopier\u001b[49m\u001b[43m(\u001b[49m\u001b[43mmemo\u001b[49m\u001b[43m)\u001b[49m\n\u001b[0;32m    154\u001b[0m \u001b[38;5;28;01melse\u001b[39;00m:\n\u001b[0;32m    155\u001b[0m     reductor \u001b[38;5;241m=\u001b[39m dispatch_table\u001b[38;5;241m.\u001b[39mget(\u001b[38;5;28mcls\u001b[39m)\n",
      "File \u001b[1;32mc:\\Users\\leond\\AppData\\Local\\Programs\\Python\\Python311\\Lib\\site-packages\\torch\\_tensor.py:172\u001b[0m, in \u001b[0;36mTensor.__deepcopy__\u001b[1;34m(self, memo)\u001b[0m\n\u001b[0;32m    165\u001b[0m         \u001b[38;5;28;01mraise\u001b[39;00m \u001b[38;5;167;01mRuntimeError\u001b[39;00m(\n\u001b[0;32m    166\u001b[0m             \u001b[38;5;124m\"\u001b[39m\u001b[38;5;124mThe default implementation of __deepcopy__() for quantized tensors \u001b[39m\u001b[38;5;124m\"\u001b[39m\n\u001b[0;32m    167\u001b[0m             \u001b[38;5;124m\"\u001b[39m\u001b[38;5;124mexpects the tensor returned by torch._utils._rebuild_qtensor() to \u001b[39m\u001b[38;5;124m\"\u001b[39m\n\u001b[0;32m    168\u001b[0m             \u001b[38;5;124m\"\u001b[39m\u001b[38;5;124mmatch the type of the instance being copied. If you encounter this, \u001b[39m\u001b[38;5;124m\"\u001b[39m\n\u001b[0;32m    169\u001b[0m             \u001b[38;5;124m\"\u001b[39m\u001b[38;5;124mplease open an issue on PyTorch\u001b[39m\u001b[38;5;124m'\u001b[39m\u001b[38;5;124ms GitHub.\u001b[39m\u001b[38;5;124m\"\u001b[39m\n\u001b[0;32m    170\u001b[0m         )\n\u001b[0;32m    171\u001b[0m \u001b[38;5;28;01melse\u001b[39;00m:\n\u001b[1;32m--> 172\u001b[0m     new_tensor \u001b[38;5;241m=\u001b[39m \u001b[38;5;28;43mself\u001b[39;49m\u001b[38;5;241;43m.\u001b[39;49m\u001b[43mnew_empty\u001b[49m\u001b[43m(\u001b[49m\u001b[43m[\u001b[49m\u001b[43m]\u001b[49m\u001b[43m)\u001b[49m\n\u001b[0;32m    173\u001b[0m     \u001b[38;5;28;01mif\u001b[39;00m \u001b[38;5;28mtype\u001b[39m(new_tensor) \u001b[38;5;129;01mis\u001b[39;00m \u001b[38;5;129;01mnot\u001b[39;00m \u001b[38;5;28mtype\u001b[39m(\u001b[38;5;28mself\u001b[39m):\n\u001b[0;32m    174\u001b[0m         \u001b[38;5;28;01mraise\u001b[39;00m \u001b[38;5;167;01mRuntimeError\u001b[39;00m(\n\u001b[0;32m    175\u001b[0m             \u001b[38;5;124m\"\u001b[39m\u001b[38;5;124mThe default implementation of __deepcopy__() for non-wrapper subclasses \u001b[39m\u001b[38;5;124m\"\u001b[39m\n\u001b[0;32m    176\u001b[0m             \u001b[38;5;124m\"\u001b[39m\u001b[38;5;124monly works for subclass types that implement new_empty() and for which \u001b[39m\u001b[38;5;124m\"\u001b[39m\n\u001b[1;32m   (...)\u001b[0m\n\u001b[0;32m    180\u001b[0m             \u001b[38;5;124m\"\u001b[39m\u001b[38;5;124man instance of a different type.\u001b[39m\u001b[38;5;124m\"\u001b[39m\n\u001b[0;32m    181\u001b[0m         )\n",
      "\u001b[1;31mKeyboardInterrupt\u001b[0m: "
     ]
    }
   ],
   "source": [
    "# Log settings\n",
    "file_dir = './log/'\n",
    "file_name = 'intro.log'\n",
    "log_path = file_dir + file_name\n",
    "if os.path.exists(file_dir + file_name):\n",
    "    os.remove(file_dir + file_name)\n",
    "if not os.path.exists(file_dir):\n",
    "    os.makedirs(file_dir)\n",
    "\n",
    "# Learning\n",
    "n_iter = 3000\n",
    "\n",
    "mheuristic.solve(\n",
    "    n_iter,\n",
    "    verbose=3, log=3, log_path=log_path,\n",
    "    test_elite=True\n",
    ")"
   ]
  },
  {
   "cell_type": "code",
   "execution_count": null,
   "metadata": {},
   "outputs": [
    {
     "name": "stdout",
     "output_type": "stream",
     "text": [
      "add( 4.4174, div( 4.4174, add( 4.4174, add( 4.4174, div( 4.4174, 4.4174 ) ) ) ) )\n",
      "\n",
      "GP best individual None, fitness 0.0686962828040123\n",
      "\n",
      "\n",
      "0.6725839806730843\n"
     ]
    },
    {
     "data": {
      "text/plain": [
       "tensor(0.0715, dtype=torch.float64)"
      ]
     },
     "execution_count": 16,
     "metadata": {},
     "output_type": "execute_result"
    }
   ],
   "source": [
    "print(f'\\nGP best individual {mheuristic.best_sol.printTree(feature_names=feature_names)}, fitness {mheuristic.best_sol.fit}\\n\\n')\n",
    "from sklearn.metrics import root_mean_squared_error\n",
    "xt = pd.read_csv('datamart/X_test.csv')\n",
    "yt = pd.read_csv('datamart/y_lactose_test.csv')\n",
    "xt['y_pred'] = xt['forage_kg_day']\n",
    "xt['y_true'] = yt['lactose_percent']\n",
    "# xt['y_pred'] = ((0.9399 + xt['forage_kg_day']) / (-0.53 + xt['milkings_day'])) + (0.9399 * (0.8875 * xt['milkings_day']))\n",
    "xt['y_true'] = yt['lactose_percent']\n",
    "print(root_mean_squared_error(xt['y_true'], xt['y_pred']))\n",
    "pi_sml._evaluate_sol(mheuristic.best_sol, dl_val)"
   ]
  },
  {
   "cell_type": "code",
   "execution_count": null,
   "metadata": {},
   "outputs": [
    {
     "data": {
      "text/plain": [
       "0     4.943943\n",
       "1     4.934455\n",
       "2     5.126063\n",
       "3     5.467770\n",
       "4     4.849077\n",
       "        ...   \n",
       "93    5.400906\n",
       "94    4.251472\n",
       "95    4.948162\n",
       "96    5.099505\n",
       "97    5.179536\n",
       "Name: forage_kg_day, Length: 98, dtype: float64"
      ]
     },
     "execution_count": 24,
     "metadata": {},
     "output_type": "execute_result"
    }
   ],
   "source": [
    "xt['forage_kg_day']"
   ]
  },
  {
   "cell_type": "code",
   "execution_count": null,
   "metadata": {},
   "outputs": [],
   "source": [
    "# Open log file\n",
    "rows = []\n",
    "with open(log_path, 'r') as file:\n",
    "    # Create a CSV reader object\n",
    "    csv_reader = csv.reader(file)\n",
    "    # Iterate over each row in the CSV file\n",
    "    for row in csv_reader:\n",
    "        # Process each row (each row is a list of values)\n",
    "        rows.append(row)\n",
    "\n",
    "# Fitness history\n",
    "history_fits = [float(row[7].split('(')[1].split(')')[0]) for row in rows]\n",
    "\n",
    "# Val fitness history\n",
    "history_val_fits = [float(row[8].split('(')[1].split(')')[0]) for row in rows]\n",
    "\n",
    "# Solution size history\n",
    "history_sizes = [int(row[6]) for row in rows]\n",
    "\n",
    "# Runtime\n",
    "history_timing = [float(row[5]) for row in rows]\n"
   ]
  },
  {
   "cell_type": "code",
   "execution_count": null,
   "metadata": {},
   "outputs": [
    {
     "data": {
      "image/png": "[encoded data removed]",
      "text/plain": [
       "<Figure size 1000x400 with 1 Axes>"
      ]
     },
     "metadata": {},
     "output_type": "display_data"
    },
    {
     "name": "stdout",
     "output_type": "stream",
     "text": [
      "Best solution RMSE fitness: 0.24 train, 0.27 validation.\n",
      "\n"
     ]
    }
   ],
   "source": [
    "plt.figure(figsize=(10, 4))\n",
    "\n",
    "plt.plot(history_fits, label='Train')\n",
    "plt.plot(history_val_fits, label='Validation')\n",
    "plt.title('Fitness evolution')\n",
    "plt.xlabel('Generation')\n",
    "plt.ylabel('RMSE')\n",
    "plt.legend()\n",
    "plt.show()\n",
    "\n",
    "print('Best solution RMSE fitness: {:.2f} train, {:.2f} validation.\\n'.format(mheuristic.best_sol.fit.item(), mheuristic.best_sol.test_fit.item()))\n"
   ]
  },
  {
   "cell_type": "code",
   "execution_count": null,
   "metadata": {},
   "outputs": [
    {
     "data": {
      "image/png": "[encoded data removed]",
      "text/plain": [
       "<Figure size 1000x400 with 1 Axes>"
      ]
     },
     "metadata": {},
     "output_type": "display_data"
    }
   ],
   "source": [
    "plt.figure(figsize=(10, 4))\n",
    "\n",
    "plt.plot(history_sizes)\n",
    "plt.title('Solution size evolution')\n",
    "plt.xlabel('Generation')\n",
    "plt.ylabel('Size')\n",
    "plt.ylim(bottom=0)\n",
    "plt.show()\n"
   ]
  },
  {
   "cell_type": "code",
   "execution_count": null,
   "metadata": {},
   "outputs": [
    {
     "data": {
      "image/png": "[encoded data removed]",
      "text/plain": [
       "<Figure size 1000x400 with 1 Axes>"
      ]
     },
     "metadata": {},
     "output_type": "display_data"
    },
    {
     "name": "stdout",
     "output_type": "stream",
     "text": [
      "Total time: 8.60 minutes.\n",
      "\n"
     ]
    }
   ],
   "source": [
    "plt.figure(figsize=(10, 4))\n",
    "\n",
    "plt.plot(history_timing)\n",
    "plt.title('Running time evolution')\n",
    "plt.xlabel('Generation')\n",
    "plt.ylabel('Seconds')\n",
    "plt.ylim(bottom=0, top=20)\n",
    "plt.show()\n",
    "\n",
    "print('Total time: {:.2f} minutes.\\n'.format(sum(history_timing)/60.))\n"
   ]
  },
  {
   "cell_type": "code",
   "execution_count": null,
   "metadata": {},
   "outputs": [
    {
     "data": {
      "text/plain": [
       "tensor(0.2744, dtype=torch.float64)"
      ]
     },
     "execution_count": 21,
     "metadata": {},
     "output_type": "execute_result"
    }
   ],
   "source": [
    "pi_sml._evaluate_sol(mheuristic.best_sol, dl_val)"
   ]
  },
  {
   "cell_type": "code",
   "execution_count": null,
   "metadata": {},
   "outputs": [
    {
     "data": {
      "text/plain": [
       "'<gpolnel.utils.population.PopulationTree object at 0x000001CAE23C2390>'"
      ]
     },
     "execution_count": 22,
     "metadata": {},
     "output_type": "execute_result"
    }
   ],
   "source": [
    "mheuristic.pop.__repr__()"
   ]
  },
  {
   "cell_type": "code",
   "execution_count": null,
   "metadata": {},
   "outputs": [],
   "source": []
  },
  {
   "cell_type": "code",
   "execution_count": null,
   "metadata": {},
   "outputs": [
    {
     "ename": "AttributeError",
     "evalue": "'GeneticAlgorithm' object has no attribute '_evaluate_sol'",
     "output_type": "error",
     "traceback": [
      "\u001b[1;31m---------------------------------------------------------------------------\u001b[0m",
      "\u001b[1;31mAttributeError\u001b[0m                            Traceback (most recent call last)",
      "Cell \u001b[1;32mIn[23], line 1\u001b[0m\n\u001b[1;32m----> 1\u001b[0m \u001b[43mmheuristic\u001b[49m\u001b[38;5;241;43m.\u001b[39;49m\u001b[43m_evaluate_sol\u001b[49m(mheuristic\u001b[38;5;241m.\u001b[39mbest_sol\u001b[38;5;241m.\u001b[39m\u001b[38;5;21m__repr__\u001b[39m, dl_val)\n",
      "\u001b[1;31mAttributeError\u001b[0m: 'GeneticAlgorithm' object has no attribute '_evaluate_sol'"
     ]
    }
   ],
   "source": [
    "mheuristic._evaluate_sol(mheuristic.best_sol.__repr__, dl_val)\n"
   ]
  },
  {
   "cell_type": "code",
   "execution_count": null,
   "metadata": {},
   "outputs": [
    {
     "name": "stdout",
     "output_type": "stream",
     "text": [
      "add( forage_kg_day, 0.0148 )\n"
     ]
    }
   ],
   "source": [
    "mheuristic.best_sol.printTree(feature_names=feature_names)"
   ]
  },
  {
   "cell_type": "code",
   "execution_count": null,
   "metadata": {},
   "outputs": [
    {
     "data": {
      "text/plain": [
       "[]"
      ]
     },
     "execution_count": 34,
     "metadata": {},
     "output_type": "execute_result"
    }
   ],
   "source": [
    "mheuristic.best_sol.get_all_subtrees()[0]"
   ]
  },
  {
   "cell_type": "code",
   "execution_count": null,
   "metadata": {},
   "outputs": [
    {
     "ename": "IndexError",
     "evalue": "list index out of range",
     "output_type": "error",
     "traceback": [
      "\u001b[1;31m---------------------------------------------------------------------------\u001b[0m",
      "\u001b[1;31mIndexError\u001b[0m                                Traceback (most recent call last)",
      "Cell \u001b[1;32mIn[35], line 1\u001b[0m\n\u001b[1;32m----> 1\u001b[0m \u001b[43m_execute_tree\u001b[49m\u001b[43m(\u001b[49m\u001b[43mmheuristic\u001b[49m\u001b[38;5;241;43m.\u001b[39;49m\u001b[43mbest_sol\u001b[49m\u001b[38;5;241;43m.\u001b[39;49m\u001b[43mget_all_subtrees\u001b[49m\u001b[43m(\u001b[49m\u001b[43m)\u001b[49m\u001b[43m,\u001b[49m\u001b[43m \u001b[49m\u001b[43mdl_val\u001b[49m\u001b[43m)\u001b[49m\n",
      "File \u001b[1;32mc:\\Users\\leond\\OneDrive\\Desktop\\NeuroEvolutionaryLearning\\Project\\gpolnel\\utils\\inductive_programming.py:307\u001b[0m, in \u001b[0;36m_execute_tree\u001b[1;34m(repr_, X)\u001b[0m\n\u001b[0;32m    305\u001b[0m     apply_stack\u001b[38;5;241m.\u001b[39mappend([node])\n\u001b[0;32m    306\u001b[0m \u001b[38;5;28;01melse\u001b[39;00m:\n\u001b[1;32m--> 307\u001b[0m     \u001b[43mapply_stack\u001b[49m\u001b[43m[\u001b[49m\u001b[38;5;241;43m-\u001b[39;49m\u001b[38;5;241;43m1\u001b[39;49m\u001b[43m]\u001b[49m\u001b[38;5;241m.\u001b[39mappend(node)\n\u001b[0;32m    309\u001b[0m \u001b[38;5;28;01mwhile\u001b[39;00m \u001b[38;5;28mlen\u001b[39m(apply_stack[\u001b[38;5;241m-\u001b[39m\u001b[38;5;241m1\u001b[39m]) \u001b[38;5;241m==\u001b[39m apply_stack[\u001b[38;5;241m-\u001b[39m\u001b[38;5;241m1\u001b[39m][\u001b[38;5;241m0\u001b[39m]\u001b[38;5;241m.\u001b[39marity \u001b[38;5;241m+\u001b[39m \u001b[38;5;241m1\u001b[39m:\n\u001b[0;32m    310\u001b[0m     function_ \u001b[38;5;241m=\u001b[39m apply_stack[\u001b[38;5;241m-\u001b[39m\u001b[38;5;241m1\u001b[39m][\u001b[38;5;241m0\u001b[39m]\n",
      "\u001b[1;31mIndexError\u001b[0m: list index out of range"
     ]
    }
   ],
   "source": [
    "_execute_tree(mheuristic.best_sol.get_all_subtrees(), dl_val)"
   ]
  },
  {
   "cell_type": "code",
   "execution_count": null,
   "metadata": {},
   "outputs": [],
   "source": [
    "mheuristic.__repr__"
   ]
  }
 ],
 "metadata": {
  "kernelspec": {
   "display_name": "Python 3",
   "language": "python",
   "name": "python3"
  },
  "language_info": {
   "codemirror_mode": {
    "name": "ipython",
    "version": 3
   },
   "file_extension": ".py",
   "mimetype": "text/x-python",
   "name": "python",
   "nbconvert_exporter": "python",
   "pygments_lexer": "ipython3",
   "version": "3.11.4"
  }
 },
 "nbformat": 4,
 "nbformat_minor": 2
}
